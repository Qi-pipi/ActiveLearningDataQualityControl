{
 "cells": [
  {
   "cell_type": "markdown",
   "id": "e26529ae",
   "metadata": {},
   "source": [
    "!pip3 install plotly\n",
    "!pip3 install nbformat\n",
    "!pip install -q catboost \n",
    "!pip install -q lightgbm\n",
    "!pip install seaborn"
   ]
  },
  {
   "cell_type": "code",
   "execution_count": 1,
   "id": "a25fe852",
   "metadata": {},
   "outputs": [],
   "source": [
    "import pandas as pd\n",
    "import numpy as np\n",
    "from datetime import datetime \n",
    "\n",
    "#plot\n",
    "import matplotlib.pyplot as plt\n",
    "import matplotlib.cm as cm\n",
    "import plotly.express as px\n",
    "import plotly.graph_objects as go\n",
    "from mpl_toolkits.mplot3d import Axes3D\n",
    "import seaborn as sns\n",
    "%matplotlib inline\n",
    "\n",
    "#modle\n",
    "import time\n",
    "import lightgbm as lgb\n",
    "import xgboost as xgb\n",
    "from catboost import CatBoostClassifier\n",
    "from sklearn import metrics\n",
    "from sklearn.model_selection import StratifiedKFold\n",
    "from sklearn.metrics import f1_score,accuracy_score\n",
    "from sklearn.metrics import precision_score, recall_score, confusion_matrix, classification_report\n",
    "from sklearn.metrics import matthews_corrcoef,cohen_kappa_score,balanced_accuracy_score\n",
    "\n",
    "from sklearn.manifold import TSNE\n",
    "from sklearn.decomposition import PCA\n",
    "import os\n",
    "\n",
    "\n",
    "from sklearn import manifold\n",
    "import numpy as np\n",
    "import matplotlib.pyplot as plt\n",
    "import numpy as np\n",
    "from matplotlib.animation import FuncAnimation, writers, FFMpegWriter"
   ]
  },
  {
   "cell_type": "markdown",
   "id": "63a74570",
   "metadata": {},
   "source": [
    "## TSNE"
   ]
  },
  {
   "cell_type": "code",
   "execution_count": 2,
   "id": "8f702614",
   "metadata": {},
   "outputs": [],
   "source": [
    "def pre(data):\n",
    "    data['Label'] = data['Label'].apply(lambda x: int(x))\n",
    "    Label=data.iloc[:,6]\n",
    "    l=Label.tolist()\n",
    "    labels = np.array(l)\n",
    "    #print(my_array.shape)\n",
    "    count = np.count_nonzero(labels == 1)\n",
    "    print(count)\n",
    "    return labels"
   ]
  },
  {
   "cell_type": "code",
   "execution_count": 3,
   "id": "756a595e",
   "metadata": {},
   "outputs": [],
   "source": [
    "def visual(feat):\n",
    "    ts = manifold.TSNE(n_components=2, random_state=0)\n",
    "    x_ts = ts.fit_transform(feat)\n",
    "    print(x_ts.shape)  # [num, 2]\n",
    "    x_min, x_max = x_ts.min(0), x_ts.max(0)\n",
    "    x_final = (x_ts - x_min) / (x_max - x_min)\n",
    "    return x_final"
   ]
  },
  {
   "cell_type": "code",
   "execution_count": 4,
   "id": "de3e6962",
   "metadata": {},
   "outputs": [],
   "source": [
    "def plotlabels(X_tsne, True_labels, name):\n",
    "    # design\n",
    "    maker = ['o', 's']\n",
    "    colors = ['#A8ED82','#E7B9C7']\n",
    "    Label_Com = ['good','bad']\n",
    "    \n",
    "    #print(X_tsne)\n",
    "    #print(True_labels)\n",
    "    True_labels = True_labels.reshape((-1, 1))\n",
    "    S_data = np.hstack((X_tsne, True_labels))  \n",
    "    S_data = pd.DataFrame({'x': S_data[:, 0], 'y': S_data[:, 1],'label': S_data[:, 2]})\n",
    "    #print(S_data)\n",
    "    #print(S_data.shape)  # [num, 3]\n",
    "    fig = plt.figure(figsize=(6,6))\n",
    "    for index in range(2):  # 2 class\n",
    "        X = S_data.loc[S_data['label'] == index]['x']\n",
    "        Y = S_data.loc[S_data['label'] == index]['y']\n",
    "        plt.scatter(X, Y, cmap='brg', s=100, marker=maker[index], c=colors[index], edgecolors=colors[index], alpha=0.65,label= Label_Com[index])\n",
    "\n",
    "        plt.xticks([])  \n",
    "        plt.yticks([])  \n",
    "\n",
    "    plt.title(name, fontsize=10, fontweight='normal', pad=20)\n",
    "    plt.legend() #\n",
    "    plt.show(fig)\n",
    "    plt.savefig('./image/'+name+'cluster.jpg')"
   ]
  },
  {
   "cell_type": "code",
   "execution_count": 15,
   "id": "01a82988",
   "metadata": {},
   "outputs": [],
   "source": [
    "def plotmp4(X_tsne, True_labels, name,num):\n",
    "    True_labels = True_labels.reshape((-1, 1))\n",
    "    S_data = np.hstack((X_tsne, True_labels))  \n",
    "    S_data = pd.DataFrame({'x': S_data[:, 0], 'y': S_data[:, 1],'label': S_data[:, 2]})\n",
    "    \n",
    "    maker = ['o', 's']\n",
    "    colors = ['#A8ED82','#E7B9C7']\n",
    "    Label_Com = ['good','bad']\n",
    "    \n",
    "    def init():\n",
    "        df_in = S_data.head(num)\n",
    "        artists = []\n",
    "        for index in range(2):  # 2 class\n",
    "            X = df_in.loc[df_in['label'] == index]['x']\n",
    "            Y = df_in.loc[df_in['label'] == index]['y']\n",
    "            artist = plt.scatter(X, Y, cmap='brg', s=10, marker=maker[index], c=colors[index], edgecolors=colors[index], alpha=0.65,label= Label_Com[index])\n",
    "            artists.append(artist)\n",
    "        plt.xticks([])  \n",
    "        plt.yticks([]) \n",
    "        #plt.legend()\n",
    "        return artists\n",
    "\n",
    "    \n",
    "    def update(n):\n",
    "        s_data=S_data.head(num+n)\n",
    "        #print(s_data)\n",
    "        artists = []\n",
    "        for index in range(2):  # 2 class\n",
    "            X = s_data.loc[s_data['label'] == index]['x']\n",
    "            Y = s_data.loc[s_data['label'] == index]['y']\n",
    "            artist = plt.scatter(X, Y, cmap='brg', s=10, marker=maker[index], c=colors[index], edgecolors=colors[index], alpha=0.65,label= Label_Com[index])\n",
    "            artists.append(artist)\n",
    "        plt.xticks([])  \n",
    "        plt.yticks([]) \n",
    "        #plt.legend()\n",
    "        return artists\n",
    "    \n",
    "    fig = plt.figure(figsize=(6,6))\n",
    "    ani = FuncAnimation(fig=fig, func=update, init_func=init, blit=True, frames=range(0, 205, 5), interval=1000.0/12, save_count=100)\n",
    "     \n",
    "    #ani.save('./image/'+name+'test.gif', writer='imagemagick', fps=1)\n",
    "    ani.save('./image/'+name+'test.gif', writer='pillow', fps=1)\n",
    "\n",
    "#     print(\"start saving video\")\n",
    "#     #writer = animation.FFMpegWriter(fps=30)\n",
    "#     writer = FFMpegWriter(fps=2, metadata=dict(artist='Me'), bitrate=1800)\n",
    "#     ani.save('./image/'+name+'test.mp4', writer=writer)\n",
    "#     print(\"video saved\")\n",
    "    plt.title(name, fontsize=10, fontweight='normal', pad=20)\n",
    "    #\n",
    "    plt.show()\n"
   ]
  },
  {
   "cell_type": "code",
   "execution_count": 20,
   "id": "e1e64478",
   "metadata": {},
   "outputs": [
    {
     "name": "stdout",
     "output_type": "stream",
     "text": [
      "150\n",
      "(300, 2)\n"
     ]
    },
    {
     "name": "stderr",
     "output_type": "stream",
     "text": [
      "/var/folders/sf/0jdp3sqj7l14vc5shrdr13_40000gn/T/ipykernel_4263/15383007.py:16: UserWarning: No data for colormapping provided via 'c'. Parameters 'cmap' will be ignored\n",
      "  artist = plt.scatter(X, Y, cmap='brg', s=10, marker=maker[index], c=colors[index], edgecolors=colors[index], alpha=0.65,label= Label_Com[index])\n",
      "/var/folders/sf/0jdp3sqj7l14vc5shrdr13_40000gn/T/ipykernel_4263/15383007.py:16: UserWarning: No data for colormapping provided via 'c'. Parameters 'cmap' will be ignored\n",
      "  artist = plt.scatter(X, Y, cmap='brg', s=10, marker=maker[index], c=colors[index], edgecolors=colors[index], alpha=0.65,label= Label_Com[index])\n",
      "/var/folders/sf/0jdp3sqj7l14vc5shrdr13_40000gn/T/ipykernel_4263/15383007.py:31: UserWarning: No data for colormapping provided via 'c'. Parameters 'cmap' will be ignored\n",
      "  artist = plt.scatter(X, Y, cmap='brg', s=10, marker=maker[index], c=colors[index], edgecolors=colors[index], alpha=0.65,label= Label_Com[index])\n"
     ]
    },
    {
     "data": {
      "image/png": "[encoded data removed]",
      "text/plain": [
       "<Figure size 600x600 with 1 Axes>"
      ]
     },
     "metadata": {},
     "output_type": "display_data"
    }
   ],
   "source": [
    "float_cd='PR_PF_6901195' # 6901195   3901684   4903220\n",
    "model='XC' #XB CB Lg Knn \n",
    "# KL KX KC LX LC XC KLX LXC KLC KXC KLXC\n",
    "strategy='C'# Un random C\n",
    "num=100 # 100 1000\n",
    "data_source=\"./query/\"+strategy+\"_\"+model+\"_\"+float_cd+\".csv\"\n",
    "data= pd.read_csv(data_source,index_col=0)\n",
    "data_Value=data.iloc[:,:6]\n",
    "labels=pre(data)\n",
    "\n",
    "#plotlabels(visual(data_Value), my_array, float_cd+model+strategy)\n",
    "plotmp4(visual(data_Value), labels, float_cd+model+strategy,num)"
   ]
  },
  {
   "cell_type": "code",
   "execution_count": null,
   "id": "057b5fa5",
   "metadata": {},
   "outputs": [],
   "source": []
  }
 ],
 "metadata": {
  "kernelspec": {
   "display_name": "al",
   "language": "python",
   "name": "al"
  },
  "language_info": {
   "codemirror_mode": {
    "name": "ipython",
    "version": 3
   },
   "file_extension": ".py",
   "mimetype": "text/x-python",
   "name": "python",
   "nbconvert_exporter": "python",
   "pygments_lexer": "ipython3",
   "version": "3.8.0"
  }
 },
 "nbformat": 4,
 "nbformat_minor": 5
}
