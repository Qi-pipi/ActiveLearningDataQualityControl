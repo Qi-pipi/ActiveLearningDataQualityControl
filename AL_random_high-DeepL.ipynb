{
 "cells": [
  {
   "cell_type": "code",
   "execution_count": 1,
   "id": "d69d6fd4",
   "metadata": {},
   "outputs": [],
   "source": [
    "#!pip3 install kerastuner"
   ]
  },
  {
   "cell_type": "code",
   "execution_count": 2,
   "id": "f48aac87",
   "metadata": {},
   "outputs": [
    {
     "name": "stderr",
     "output_type": "stream",
     "text": [
      "2023-05-26 03:53:55.997674: I tensorflow/core/platform/cpu_feature_guard.cc:182] This TensorFlow binary is optimized to use available CPU instructions in performance-critical operations.\n",
      "To enable the following instructions: AVX2 FMA, in other operations, rebuild TensorFlow with the appropriate compiler flags.\n"
     ]
    }
   ],
   "source": [
    "import numpy as np\n",
    "import pandas as pd\n",
    "import matplotlib.pyplot as plt\n",
    "import matplotlib as mpl\n",
    "import seaborn as sns\n",
    "\n",
    "\n",
    "from sklearn.datasets import make_blobs\n",
    "from sklearn.metrics import f1_score,accuracy_score\n",
    "from sklearn.metrics import precision_score, recall_score, confusion_matrix, classification_report\n",
    "from sklearn.metrics import matthews_corrcoef,cohen_kappa_score,balanced_accuracy_score\n",
    "\n",
    "\n",
    "from keras.models import Sequential\n",
    "from keras.layers import LSTM, Dense, Dropout\n",
    "from keras.wrappers.scikit_learn import KerasRegressor\n",
    "from sklearn.model_selection import GridSearchCV\n",
    "from sklearn.preprocessing import MinMaxScaler\n",
    "from sklearn.preprocessing import LabelEncoder\n",
    "from tensorflow import keras\n",
    "from tensorflow.keras import layers\n",
    "import tensorflow as tf\n",
    "from tensorflow.keras.models import Sequential\n",
    "from tensorflow.keras.layers import Dense, SimpleRNN, Dropout, LeakyReLU\n",
    "from tensorflow.keras.optimizers import RMSprop\n",
    "from tensorflow.keras.regularizers import l2\n",
    "\n",
    "\n",
    "from modAL.models import ActiveLearner\n",
    "from modAL.uncertainty import uncertainty_sampling,margin_sampling,entropy_sampling\n",
    "from modAL.disagreement import KL_max_disagreement\n",
    "\n",
    "from functools import partial\n",
    "\n",
    "\n",
    "import warnings\n",
    "\n",
    "warnings.filterwarnings('ignore')"
   ]
  },
  {
   "cell_type": "code",
   "execution_count": 3,
   "id": "c36b52ae",
   "metadata": {
    "scrolled": true
   },
   "outputs": [
    {
     "data": {
      "text/html": [
       "<div>\n",
       "<style scoped>\n",
       "    .dataframe tbody tr th:only-of-type {\n",
       "        vertical-align: middle;\n",
       "    }\n",
       "\n",
       "    .dataframe tbody tr th {\n",
       "        vertical-align: top;\n",
       "    }\n",
       "\n",
       "    .dataframe thead th {\n",
       "        text-align: right;\n",
       "    }\n",
       "</style>\n",
       "<table border=\"1\" class=\"dataframe\">\n",
       "  <thead>\n",
       "    <tr style=\"text-align: right;\">\n",
       "      <th></th>\n",
       "      <th>Date</th>\n",
       "      <th>Latitude</th>\n",
       "      <th>longitude</th>\n",
       "      <th>Pressure</th>\n",
       "      <th>Salinity</th>\n",
       "      <th>Temperature</th>\n",
       "      <th>QC</th>\n",
       "      <th>Label</th>\n",
       "    </tr>\n",
       "  </thead>\n",
       "  <tbody>\n",
       "    <tr>\n",
       "      <th>0</th>\n",
       "      <td>-1.585326</td>\n",
       "      <td>-1.728482</td>\n",
       "      <td>0.521565</td>\n",
       "      <td>-0.884740</td>\n",
       "      <td>1.263216</td>\n",
       "      <td>0.821065</td>\n",
       "      <td>0</td>\n",
       "      <td>0</td>\n",
       "    </tr>\n",
       "    <tr>\n",
       "      <th>1</th>\n",
       "      <td>-1.585326</td>\n",
       "      <td>-1.728482</td>\n",
       "      <td>0.521565</td>\n",
       "      <td>-0.883036</td>\n",
       "      <td>1.263216</td>\n",
       "      <td>0.820925</td>\n",
       "      <td>0</td>\n",
       "      <td>0</td>\n",
       "    </tr>\n",
       "    <tr>\n",
       "      <th>2</th>\n",
       "      <td>-1.585326</td>\n",
       "      <td>-1.728482</td>\n",
       "      <td>0.521565</td>\n",
       "      <td>-0.881261</td>\n",
       "      <td>1.262159</td>\n",
       "      <td>0.820925</td>\n",
       "      <td>0</td>\n",
       "      <td>0</td>\n",
       "    </tr>\n",
       "    <tr>\n",
       "      <th>3</th>\n",
       "      <td>-1.585326</td>\n",
       "      <td>-1.728482</td>\n",
       "      <td>0.521565</td>\n",
       "      <td>-0.879487</td>\n",
       "      <td>1.262159</td>\n",
       "      <td>0.821065</td>\n",
       "      <td>0</td>\n",
       "      <td>0</td>\n",
       "    </tr>\n",
       "    <tr>\n",
       "      <th>4</th>\n",
       "      <td>-1.585326</td>\n",
       "      <td>-1.728482</td>\n",
       "      <td>0.521565</td>\n",
       "      <td>-0.877641</td>\n",
       "      <td>1.262159</td>\n",
       "      <td>0.821065</td>\n",
       "      <td>0</td>\n",
       "      <td>0</td>\n",
       "    </tr>\n",
       "    <tr>\n",
       "      <th>...</th>\n",
       "      <td>...</td>\n",
       "      <td>...</td>\n",
       "      <td>...</td>\n",
       "      <td>...</td>\n",
       "      <td>...</td>\n",
       "      <td>...</td>\n",
       "      <td>...</td>\n",
       "      <td>...</td>\n",
       "    </tr>\n",
       "    <tr>\n",
       "      <th>214895</th>\n",
       "      <td>1.974276</td>\n",
       "      <td>-1.605324</td>\n",
       "      <td>-0.343149</td>\n",
       "      <td>-0.800825</td>\n",
       "      <td>1.282237</td>\n",
       "      <td>1.124021</td>\n",
       "      <td>0</td>\n",
       "      <td>0</td>\n",
       "    </tr>\n",
       "    <tr>\n",
       "      <th>214896</th>\n",
       "      <td>1.974276</td>\n",
       "      <td>-1.605324</td>\n",
       "      <td>-0.343149</td>\n",
       "      <td>-0.800612</td>\n",
       "      <td>1.282237</td>\n",
       "      <td>1.123881</td>\n",
       "      <td>0</td>\n",
       "      <td>0</td>\n",
       "    </tr>\n",
       "    <tr>\n",
       "      <th>214897</th>\n",
       "      <td>1.974276</td>\n",
       "      <td>-1.605324</td>\n",
       "      <td>-0.343149</td>\n",
       "      <td>-0.800328</td>\n",
       "      <td>1.281180</td>\n",
       "      <td>1.123741</td>\n",
       "      <td>0</td>\n",
       "      <td>0</td>\n",
       "    </tr>\n",
       "    <tr>\n",
       "      <th>214898</th>\n",
       "      <td>1.974276</td>\n",
       "      <td>-1.605324</td>\n",
       "      <td>-0.343149</td>\n",
       "      <td>-0.800186</td>\n",
       "      <td>1.283294</td>\n",
       "      <td>1.123601</td>\n",
       "      <td>0</td>\n",
       "      <td>0</td>\n",
       "    </tr>\n",
       "    <tr>\n",
       "      <th>214899</th>\n",
       "      <td>1.974276</td>\n",
       "      <td>-1.605324</td>\n",
       "      <td>-0.343149</td>\n",
       "      <td>-0.799973</td>\n",
       "      <td>1.283294</td>\n",
       "      <td>1.123040</td>\n",
       "      <td>0</td>\n",
       "      <td>0</td>\n",
       "    </tr>\n",
       "  </tbody>\n",
       "</table>\n",
       "<p>214900 rows × 8 columns</p>\n",
       "</div>"
      ],
      "text/plain": [
       "            Date  Latitude  longitude  Pressure  Salinity  Temperature  QC  \\\n",
       "0      -1.585326 -1.728482   0.521565 -0.884740  1.263216     0.821065   0   \n",
       "1      -1.585326 -1.728482   0.521565 -0.883036  1.263216     0.820925   0   \n",
       "2      -1.585326 -1.728482   0.521565 -0.881261  1.262159     0.820925   0   \n",
       "3      -1.585326 -1.728482   0.521565 -0.879487  1.262159     0.821065   0   \n",
       "4      -1.585326 -1.728482   0.521565 -0.877641  1.262159     0.821065   0   \n",
       "...          ...       ...        ...       ...       ...          ...  ..   \n",
       "214895  1.974276 -1.605324  -0.343149 -0.800825  1.282237     1.124021   0   \n",
       "214896  1.974276 -1.605324  -0.343149 -0.800612  1.282237     1.123881   0   \n",
       "214897  1.974276 -1.605324  -0.343149 -0.800328  1.281180     1.123741   0   \n",
       "214898  1.974276 -1.605324  -0.343149 -0.800186  1.283294     1.123601   0   \n",
       "214899  1.974276 -1.605324  -0.343149 -0.799973  1.283294     1.123040   0   \n",
       "\n",
       "        Label  \n",
       "0           0  \n",
       "1           0  \n",
       "2           0  \n",
       "3           0  \n",
       "4           0  \n",
       "...       ...  \n",
       "214895      0  \n",
       "214896      0  \n",
       "214897      0  \n",
       "214898      0  \n",
       "214899      0  \n",
       "\n",
       "[214900 rows x 8 columns]"
      ]
     },
     "execution_count": 3,
     "metadata": {},
     "output_type": "execute_result"
    }
   ],
   "source": [
    "float_id='PR_PF_4902337'\n",
    "\n",
    "data_source=\"./dataset/PR_PF_4902337.csv\"\n",
    "data= pd.read_csv(data_source)\n",
    "data"
   ]
  },
  {
   "cell_type": "code",
   "execution_count": 4,
   "id": "e76be739",
   "metadata": {},
   "outputs": [],
   "source": [
    "row,col=data.shape"
   ]
  },
  {
   "cell_type": "code",
   "execution_count": 5,
   "id": "0122c58f",
   "metadata": {},
   "outputs": [],
   "source": [
    "#def compute ratio\n",
    "def comp_ratio(data):\n",
    "    instance = data[(data['Label']==1)]\n",
    "    rate=len(instance)/len(data)*100\n",
    "    print(rate)\n",
    "    return rate"
   ]
  },
  {
   "cell_type": "code",
   "execution_count": 6,
   "id": "f383ec1d",
   "metadata": {},
   "outputs": [
    {
     "name": "stdout",
     "output_type": "stream",
     "text": [
      "0.08189855746859004\n"
     ]
    },
    {
     "data": {
      "text/plain": [
       "0.08189855746859004"
      ]
     },
     "execution_count": 6,
     "metadata": {},
     "output_type": "execute_result"
    }
   ],
   "source": [
    "dirty_ratio = comp_ratio(data)\n",
    "dirty_ratio"
   ]
  },
  {
   "cell_type": "markdown",
   "id": "19f5d127",
   "metadata": {},
   "source": [
    "# Splite Dataset"
   ]
  },
  {
   "cell_type": "code",
   "execution_count": 7,
   "id": "e1495332",
   "metadata": {},
   "outputs": [
    {
     "data": {
      "text/plain": [
       "(150430, 64470)"
      ]
     },
     "execution_count": 7,
     "metadata": {},
     "output_type": "execute_result"
    }
   ],
   "source": [
    "train_set=pd.read_csv('./randomtrain/'+float_id+'.csv')\n",
    "test_set=pd.read_csv('./randomtest/'+float_id+'.csv')\n",
    "len(train_set),len(test_set)"
   ]
  },
  {
   "cell_type": "code",
   "execution_count": 8,
   "id": "d0d1f855",
   "metadata": {},
   "outputs": [],
   "source": [
    "#train_set2,test_set2=getLastSplit(data,0.3,dirty_ratio)"
   ]
  },
  {
   "cell_type": "code",
   "execution_count": 9,
   "id": "d9a296cc",
   "metadata": {},
   "outputs": [
    {
     "name": "stdout",
     "output_type": "stream",
     "text": [
      "0.08176560526490727\n",
      "0.08220877927718319\n"
     ]
    },
    {
     "data": {
      "text/plain": [
       "0.08220877927718319"
      ]
     },
     "execution_count": 9,
     "metadata": {},
     "output_type": "execute_result"
    }
   ],
   "source": [
    "comp_ratio(train_set)\n",
    "comp_ratio(test_set)"
   ]
  },
  {
   "cell_type": "code",
   "execution_count": 10,
   "id": "27927c47",
   "metadata": {},
   "outputs": [],
   "source": [
    "#this function use random grid search to find best parameters\n",
    "def getPar(model,dist,data,niter):\n",
    "    from sklearn.model_selection import RandomizedSearchCV\n",
    "    x,y=data.shape\n",
    "    clf = model\n",
    "\n",
    "    param_dist = dist\n",
    "    grid = RandomizedSearchCV(clf,param_dist,cv = 3,scoring = \"balanced_accuracy\",n_iter=niter,n_jobs = -1)\n",
    "\n",
    "    #train\n",
    "    grid.fit(data.iloc[:,0:y-1],data.iloc[:,y-1])\n",
    "    #get best parameter\n",
    "    print(grid.best_score_)\n",
    "    return grid.best_params_"
   ]
  },
  {
   "cell_type": "code",
   "execution_count": 11,
   "id": "12137e37",
   "metadata": {},
   "outputs": [],
   "source": [
    "# metric\n",
    "def computeMetric(y_tru,y_pre):\n",
    "    acc = accuracy_score(y_tru,y_pre)\n",
    "    pre=precision_score(y_tru,y_pre)\n",
    "    recall=recall_score(y_tru,y_pre)\n",
    "    cm=confusion_matrix(y_tru,y_pre)\n",
    "    f1 = f1_score(y_tru,y_pre)\n",
    "    mcc=matthews_corrcoef(y_tru, y_pre)\n",
    "    kappa=cohen_kappa_score(y_tru, y_pre)\n",
    "    bac=balanced_accuracy_score(y_tru,y_pre)\n",
    "    print(\"acc:\",acc)\n",
    "    print(\"balanced acc:\",bac)\n",
    "    print(\"precision:\",pre)\n",
    "    print(\"recall:\",recall)\n",
    "    print(\"cm:\",cm)\n",
    "    print(\"f1:\",f1)\n",
    "    print(\"MCC:\", mcc)\n",
    "    print(\"Kappa:\",kappa)\n",
    "    \n",
    "#     confusion matrix\n",
    "#     cmap1 = sns.diverging_palette(260,-10,s=50, l=75, n=5, as_cmap=True)\n",
    "#     plt.subplots(figsize=(12,8))\n",
    "#     cf_matrix = confusion_matrix(y_tru, y_pre)\n",
    "#     sns.heatmap(cf_matrix/np.sum(cf_matrix), cmap = cmap1, annot = True, annot_kws = {'size':15})\n",
    "    \n",
    "    return kappa"
   ]
  },
  {
   "cell_type": "markdown",
   "id": "0695922d",
   "metadata": {},
   "source": [
    "# splite train(pool), test, Labeled, Unlabeled"
   ]
  },
  {
   "cell_type": "code",
   "execution_count": 32,
   "id": "61fca32e",
   "metadata": {},
   "outputs": [],
   "source": [
    "x,y=train_set.shape\n",
    "#pool \n",
    "X_Pool = train_set.iloc[:,0:y-2].values\n",
    "y_Pool = train_set.iloc[:,y-1].values"
   ]
  },
  {
   "cell_type": "code",
   "execution_count": 33,
   "id": "870e633f",
   "metadata": {},
   "outputs": [
    {
     "name": "stdout",
     "output_type": "stream",
     "text": [
      "64470 64470\n"
     ]
    }
   ],
   "source": [
    "#test set\n",
    "X_test=test_set.iloc[:,0:y-2]\n",
    "y_true=test_set.iloc[:,y-1]\n",
    "print(len(X_test),len(y_true))"
   ]
  },
  {
   "cell_type": "code",
   "execution_count": 34,
   "id": "93946256",
   "metadata": {},
   "outputs": [
    {
     "data": {
      "text/html": [
       "<div>\n",
       "<style scoped>\n",
       "    .dataframe tbody tr th:only-of-type {\n",
       "        vertical-align: middle;\n",
       "    }\n",
       "\n",
       "    .dataframe tbody tr th {\n",
       "        vertical-align: top;\n",
       "    }\n",
       "\n",
       "    .dataframe thead th {\n",
       "        text-align: right;\n",
       "    }\n",
       "</style>\n",
       "<table border=\"1\" class=\"dataframe\">\n",
       "  <thead>\n",
       "    <tr style=\"text-align: right;\">\n",
       "      <th></th>\n",
       "      <th>Date</th>\n",
       "      <th>Latitude</th>\n",
       "      <th>longitude</th>\n",
       "      <th>Pressure</th>\n",
       "      <th>Salinity</th>\n",
       "      <th>Temperature</th>\n",
       "    </tr>\n",
       "  </thead>\n",
       "  <tbody>\n",
       "    <tr>\n",
       "      <th>0</th>\n",
       "      <td>1.026600</td>\n",
       "      <td>1.087160</td>\n",
       "      <td>0.035116</td>\n",
       "      <td>-0.504920</td>\n",
       "      <td>-0.316596</td>\n",
       "      <td>-0.574886</td>\n",
       "    </tr>\n",
       "    <tr>\n",
       "      <th>1</th>\n",
       "      <td>1.072028</td>\n",
       "      <td>1.112070</td>\n",
       "      <td>0.030377</td>\n",
       "      <td>-0.135678</td>\n",
       "      <td>-0.431780</td>\n",
       "      <td>-0.923664</td>\n",
       "    </tr>\n",
       "    <tr>\n",
       "      <th>2</th>\n",
       "      <td>0.846123</td>\n",
       "      <td>1.307278</td>\n",
       "      <td>0.285852</td>\n",
       "      <td>-0.160739</td>\n",
       "      <td>-0.173938</td>\n",
       "      <td>-0.444848</td>\n",
       "    </tr>\n",
       "    <tr>\n",
       "      <th>3</th>\n",
       "      <td>0.372511</td>\n",
       "      <td>1.697205</td>\n",
       "      <td>0.684481</td>\n",
       "      <td>-0.813320</td>\n",
       "      <td>-3.217321</td>\n",
       "      <td>-1.273422</td>\n",
       "    </tr>\n",
       "    <tr>\n",
       "      <th>4</th>\n",
       "      <td>0.282289</td>\n",
       "      <td>1.655550</td>\n",
       "      <td>0.492615</td>\n",
       "      <td>-0.224492</td>\n",
       "      <td>-0.294405</td>\n",
       "      <td>-0.583434</td>\n",
       "    </tr>\n",
       "    <tr>\n",
       "      <th>...</th>\n",
       "      <td>...</td>\n",
       "      <td>...</td>\n",
       "      <td>...</td>\n",
       "      <td>...</td>\n",
       "      <td>...</td>\n",
       "      <td>...</td>\n",
       "    </tr>\n",
       "    <tr>\n",
       "      <th>64465</th>\n",
       "      <td>-1.147309</td>\n",
       "      <td>-1.612102</td>\n",
       "      <td>-0.744355</td>\n",
       "      <td>-0.710733</td>\n",
       "      <td>1.174450</td>\n",
       "      <td>0.884823</td>\n",
       "    </tr>\n",
       "    <tr>\n",
       "      <th>64466</th>\n",
       "      <td>0.034099</td>\n",
       "      <td>1.016379</td>\n",
       "      <td>0.733566</td>\n",
       "      <td>0.119760</td>\n",
       "      <td>-0.341958</td>\n",
       "      <td>-0.828797</td>\n",
       "    </tr>\n",
       "    <tr>\n",
       "      <th>64467</th>\n",
       "      <td>1.613443</td>\n",
       "      <td>-0.329653</td>\n",
       "      <td>-2.164174</td>\n",
       "      <td>-0.828938</td>\n",
       "      <td>0.214939</td>\n",
       "      <td>0.948581</td>\n",
       "    </tr>\n",
       "    <tr>\n",
       "      <th>64468</th>\n",
       "      <td>-1.400874</td>\n",
       "      <td>-1.288755</td>\n",
       "      <td>-0.224789</td>\n",
       "      <td>0.968214</td>\n",
       "      <td>-0.294405</td>\n",
       "      <td>-0.771485</td>\n",
       "    </tr>\n",
       "    <tr>\n",
       "      <th>64469</th>\n",
       "      <td>-0.590105</td>\n",
       "      <td>0.002051</td>\n",
       "      <td>0.422420</td>\n",
       "      <td>-0.832204</td>\n",
       "      <td>1.276953</td>\n",
       "      <td>1.327346</td>\n",
       "    </tr>\n",
       "  </tbody>\n",
       "</table>\n",
       "<p>64470 rows × 6 columns</p>\n",
       "</div>"
      ],
      "text/plain": [
       "           Date  Latitude  longitude  Pressure  Salinity  Temperature\n",
       "0      1.026600  1.087160   0.035116 -0.504920 -0.316596    -0.574886\n",
       "1      1.072028  1.112070   0.030377 -0.135678 -0.431780    -0.923664\n",
       "2      0.846123  1.307278   0.285852 -0.160739 -0.173938    -0.444848\n",
       "3      0.372511  1.697205   0.684481 -0.813320 -3.217321    -1.273422\n",
       "4      0.282289  1.655550   0.492615 -0.224492 -0.294405    -0.583434\n",
       "...         ...       ...        ...       ...       ...          ...\n",
       "64465 -1.147309 -1.612102  -0.744355 -0.710733  1.174450     0.884823\n",
       "64466  0.034099  1.016379   0.733566  0.119760 -0.341958    -0.828797\n",
       "64467  1.613443 -0.329653  -2.164174 -0.828938  0.214939     0.948581\n",
       "64468 -1.400874 -1.288755  -0.224789  0.968214 -0.294405    -0.771485\n",
       "64469 -0.590105  0.002051   0.422420 -0.832204  1.276953     1.327346\n",
       "\n",
       "[64470 rows x 6 columns]"
      ]
     },
     "execution_count": 34,
     "metadata": {},
     "output_type": "execute_result"
    }
   ],
   "source": [
    "X_test"
   ]
  },
  {
   "cell_type": "code",
   "execution_count": 35,
   "id": "2cef8852",
   "metadata": {},
   "outputs": [],
   "source": [
    "# Set RNG seed for reproducibility.\n",
    "RANDOM_STATE_SEED = 123\n",
    "np.random.seed(RANDOM_STATE_SEED)\n",
    "\n",
    "n_initial=100\n",
    "N_QUERIES = 200"
   ]
  },
  {
   "cell_type": "markdown",
   "id": "6722d8a2",
   "metadata": {},
   "source": [
    "# Save initial training data"
   ]
  },
  {
   "cell_type": "code",
   "execution_count": 36,
   "id": "5fa2c9fa",
   "metadata": {},
   "outputs": [
    {
     "name": "stdout",
     "output_type": "stream",
     "text": [
      "(149230, 6) (1200, 6)\n",
      "(149230,) (1200,)\n"
     ]
    }
   ],
   "source": [
    "# X_initial,y_initial,X_re,y_re=initial_data(n_initial,X_Pool,y_Pool)\n",
    "# df_X_i = pd.DataFrame(X_initial)\n",
    "# df_y_i = pd.DataFrame(y_initial)\n",
    "# df_X_r = pd.DataFrame(X_re)\n",
    "# df_y_r = pd.DataFrame(y_re)\n",
    "\n",
    "\n",
    "X_initial=pd.read_csv('./randomtrain/'+float_id+'_X_initial.csv').values\n",
    "y_initial=pd.read_csv('./randomtrain/'+float_id+'_y_initial.csv').values.ravel()\n",
    "X_re=pd.read_csv('./randomtrain/'+float_id+'_X_re.csv').values\n",
    "y_re=pd.read_csv('./randomtrain/'+float_id+'_y_re.csv').values.ravel()\n",
    "print(X_re.shape,X_initial.shape)\n",
    "print(y_re.shape,y_initial.shape)"
   ]
  },
  {
   "cell_type": "markdown",
   "id": "781e4d53",
   "metadata": {},
   "source": [
    "# molAL"
   ]
  },
  {
   "cell_type": "code",
   "execution_count": 37,
   "id": "f6131b93",
   "metadata": {},
   "outputs": [],
   "source": [
    "def random_sampling(classifier, X_pool):\n",
    "    n_samples = len(X_pool)\n",
    "    query_idx = np.random.choice(range(n_samples))\n",
    "    return query_idx, X_pool[query_idx]"
   ]
  },
  {
   "cell_type": "code",
   "execution_count": 38,
   "id": "6deeebe6",
   "metadata": {},
   "outputs": [],
   "source": [
    "def al(clf,strategy,X_L,y_L):\n",
    "    learner = ActiveLearner(estimator=clf,\n",
    "                            query_strategy=strategy,\n",
    "                            X_training=X_L, y_training=y_L)\n",
    "    return learner"
   ]
  },
  {
   "cell_type": "code",
   "execution_count": 39,
   "id": "bd0f828e",
   "metadata": {},
   "outputs": [],
   "source": [
    "def al_learn(model,sampling,X_re,y_re,X_t):\n",
    "    X_L = X_initial.copy()\n",
    "    y_L = y_initial.copy()\n",
    "    X_U,y_U =X_re.copy(),y_re.copy()\n",
    "    y_pre=model.predict(X_t)\n",
    "    y_pre = (y_pre > 0.5).astype(int)\n",
    "    unqueried_kappa=cohen_kappa_score(y_true, y_pre)\n",
    "    unqueried_f1=f1_score(y_true,y_pre)\n",
    "    print(unqueried_kappa,unqueried_f1)\n",
    "    kappa_history = [unqueried_kappa]\n",
    "    f1_history = [unqueried_f1]\n",
    "    # the active learning loop\n",
    "    n_queries = 40\n",
    "    for idx in range(n_queries):\n",
    "        query_idx = np.random.choice(range(len(y_U)),size=5)\n",
    "        print(query_idx)\n",
    "        X=X_U[query_idx]\n",
    "        y=y_U[query_idx]\n",
    "        print(idx+1,\"query label --------------------->\",y_re[query_idx])\n",
    "        # update model on new data only with a smaller learning rate\n",
    "        optimizer = RMSprop(learning_rate=0.0001)\n",
    "        # compile the model\n",
    "        model.compile(optimizer=optimizer, loss='binary_crossentropy')\n",
    "        # fit the model on new data\n",
    "        model.fit(X, y, epochs=100, verbose=0)\n",
    "        # remove queried instance from pool\n",
    "        X_U = np.delete(X_U, query_idx, axis=0)\n",
    "        y_U = np.delete(y_U, query_idx, axis=0)\n",
    "        y_pre=model.predict(X_t)\n",
    "        y_pre = (y_pre > 0.5).astype(int)\n",
    "        kappa=cohen_kappa_score(y_true, y_pre)\n",
    "        f1=f1_score(y_true,y_pre)\n",
    "        print(idx+1,\"-------------------->\",kappa,f1)\n",
    "        # Recall precision F1\n",
    "        kappa_history.append(kappa)\n",
    "        f1_history.append(f1)\n",
    "    #print(len(X_U))\n",
    "    df_scores= pd.concat([pd.DataFrame(kappa_history,columns=['kappa']), \n",
    "                          pd.DataFrame(f1_history,columns=['f1'])],\n",
    "                         axis=1)\n",
    "    return df_scores\n"
   ]
  },
  {
   "cell_type": "code",
   "execution_count": 40,
   "id": "089159a3",
   "metadata": {},
   "outputs": [],
   "source": [
    "# model = Sequential()\n",
    "# model.add(Dense(units=64, kernel_initializer='normal', activation='sigmoid', input_dim=X_Pool.shape[1]))\n",
    "# model.add(Dropout(0.2))\n",
    "# model.add(Dense(units=1, kernel_initializer='normal', activation='sigmoid'))\n",
    "# model.compile(optimizer='adam', loss='binary_crossentropy', metrics=['mse'])\n",
    "# history = model.fit(X_Pool, y_Pool, batch_size=64, epochs=50, validation_data=(X_test, y_true))"
   ]
  },
  {
   "cell_type": "code",
   "execution_count": 41,
   "id": "30c5cdba",
   "metadata": {},
   "outputs": [],
   "source": [
    "def f1(y_true, y_pred):\n",
    "    y_pred = tf.round(y_pred)\n",
    "    return f1_score(y_true, y_pred)"
   ]
  },
  {
   "cell_type": "code",
   "execution_count": 42,
   "id": "1f3fedcf",
   "metadata": {},
   "outputs": [],
   "source": [
    "# build function for the Keras' scikit-learn API\n",
    "def create_baseline_model():\n",
    "    model_b = Sequential()\n",
    "    model_b.add(Dense(units=128, kernel_initializer='he_normal', input_dim=X_initial.shape[1]))\n",
    "    model_b.add(LeakyReLU())\n",
    "    model_b.add(Dropout(0.5))\n",
    "    model_b.add(Dense(units=64, kernel_initializer='he_normal', kernel_regularizer=l2(0.001)))\n",
    "    model_b.add(LeakyReLU())\n",
    "    model_b.add(Dropout(0.3))\n",
    "    model_b.add(Dense(units=32, kernel_initializer='he_normal', kernel_regularizer=l2(0.001)))\n",
    "    model_b.add(LeakyReLU())\n",
    "    model_b.add(Dense(units=1, kernel_initializer='he_normal', activation='sigmoid'))\n",
    "    optimizer = RMSprop(learning_rate=0.001)\n",
    "    model_b.compile(optimizer=optimizer, loss='binary_crossentropy', metrics=['binary_crossentropy'])\n",
    "\n",
    "    return model_b\n",
    "\n",
    "\n",
    "# create the classifier\n",
    "model_b = create_baseline_model()"
   ]
  },
  {
   "cell_type": "code",
   "execution_count": 43,
   "id": "80bf9003",
   "metadata": {},
   "outputs": [
    {
     "name": "stdout",
     "output_type": "stream",
     "text": [
      "(1200, 6) (1200,) (64470, 6) (64470,)\n"
     ]
    }
   ],
   "source": [
    "print(X_initial.shape, y_initial.shape, X_test.shape, y_true.shape)"
   ]
  },
  {
   "cell_type": "code",
   "execution_count": 44,
   "id": "3d162d1d",
   "metadata": {},
   "outputs": [
    {
     "name": "stdout",
     "output_type": "stream",
     "text": [
      "Epoch 1/50\n",
      "38/38 [==============================] - 2s 31ms/step - loss: 0.4301 - binary_crossentropy: 0.2421 - val_loss: 0.1950 - val_binary_crossentropy: 0.0093\n",
      "Epoch 2/50\n",
      "38/38 [==============================] - 1s 28ms/step - loss: 0.1951 - binary_crossentropy: 0.0153 - val_loss: 0.1787 - val_binary_crossentropy: 0.0082\n",
      "Epoch 3/50\n",
      "38/38 [==============================] - 1s 28ms/step - loss: 0.1702 - binary_crossentropy: 0.0140 - val_loss: 0.1472 - val_binary_crossentropy: 0.0086\n",
      "Epoch 4/50\n",
      "38/38 [==============================] - 1s 28ms/step - loss: 0.1341 - binary_crossentropy: 0.0080 - val_loss: 0.1222 - val_binary_crossentropy: 0.0091\n",
      "Epoch 5/50\n",
      "38/38 [==============================] - 1s 28ms/step - loss: 0.1154 - binary_crossentropy: 0.0140 - val_loss: 0.0985 - val_binary_crossentropy: 0.0091\n",
      "Epoch 6/50\n",
      "38/38 [==============================] - 1s 28ms/step - loss: 0.0892 - binary_crossentropy: 0.0104 - val_loss: 0.0775 - val_binary_crossentropy: 0.0089\n",
      "Epoch 7/50\n",
      "38/38 [==============================] - 1s 28ms/step - loss: 0.0676 - binary_crossentropy: 0.0061 - val_loss: 0.0630 - val_binary_crossentropy: 0.0092\n",
      "Epoch 8/50\n",
      "38/38 [==============================] - 1s 28ms/step - loss: 0.0548 - binary_crossentropy: 0.0080 - val_loss: 0.0492 - val_binary_crossentropy: 0.0090\n",
      "Epoch 9/50\n",
      "38/38 [==============================] - 1s 28ms/step - loss: 0.0444 - binary_crossentropy: 0.0086 - val_loss: 0.0404 - val_binary_crossentropy: 0.0091\n",
      "Epoch 10/50\n",
      "38/38 [==============================] - 1s 28ms/step - loss: 0.0346 - binary_crossentropy: 0.0063 - val_loss: 0.0343 - val_binary_crossentropy: 0.0095\n",
      "Epoch 11/50\n",
      "38/38 [==============================] - 1s 28ms/step - loss: 0.0350 - binary_crossentropy: 0.0134 - val_loss: 0.0277 - val_binary_crossentropy: 0.0090\n",
      "Epoch 12/50\n",
      "38/38 [==============================] - 1s 28ms/step - loss: 0.0226 - binary_crossentropy: 0.0056 - val_loss: 0.0245 - val_binary_crossentropy: 0.0093\n",
      "Epoch 13/50\n",
      "38/38 [==============================] - 1s 28ms/step - loss: 0.0218 - binary_crossentropy: 0.0085 - val_loss: 0.0208 - val_binary_crossentropy: 0.0092\n",
      "Epoch 14/50\n",
      "38/38 [==============================] - 1s 28ms/step - loss: 0.0218 - binary_crossentropy: 0.0115 - val_loss: 0.0183 - val_binary_crossentropy: 0.0090\n",
      "Epoch 15/50\n",
      "38/38 [==============================] - 1s 28ms/step - loss: 0.0157 - binary_crossentropy: 0.0072 - val_loss: 0.0168 - val_binary_crossentropy: 0.0092\n",
      "Epoch 16/50\n",
      "38/38 [==============================] - 1s 28ms/step - loss: 0.0176 - binary_crossentropy: 0.0107 - val_loss: 0.0149 - val_binary_crossentropy: 0.0086\n",
      "Epoch 17/50\n",
      "38/38 [==============================] - 1s 28ms/step - loss: 0.0170 - binary_crossentropy: 0.0110 - val_loss: 0.0141 - val_binary_crossentropy: 0.0085\n",
      "Epoch 18/50\n",
      "38/38 [==============================] - 1s 28ms/step - loss: 0.0139 - binary_crossentropy: 0.0086 - val_loss: 0.0136 - val_binary_crossentropy: 0.0087\n",
      "Epoch 19/50\n",
      "38/38 [==============================] - 1s 28ms/step - loss: 0.0122 - binary_crossentropy: 0.0076 - val_loss: 0.0127 - val_binary_crossentropy: 0.0084\n",
      "Epoch 20/50\n",
      "38/38 [==============================] - 1s 28ms/step - loss: 0.0125 - binary_crossentropy: 0.0084 - val_loss: 0.0127 - val_binary_crossentropy: 0.0087\n",
      "Epoch 21/50\n",
      "38/38 [==============================] - 1s 28ms/step - loss: 0.0151 - binary_crossentropy: 0.0114 - val_loss: 0.0119 - val_binary_crossentropy: 0.0083\n",
      "Epoch 22/50\n",
      "38/38 [==============================] - 1s 28ms/step - loss: 0.0129 - binary_crossentropy: 0.0096 - val_loss: 0.0117 - val_binary_crossentropy: 0.0084\n",
      "Epoch 23/50\n",
      "38/38 [==============================] - 1s 28ms/step - loss: 0.0093 - binary_crossentropy: 0.0062 - val_loss: 0.0115 - val_binary_crossentropy: 0.0084\n",
      "Epoch 24/50\n",
      "38/38 [==============================] - 1s 28ms/step - loss: 0.0079 - binary_crossentropy: 0.0049 - val_loss: 0.0118 - val_binary_crossentropy: 0.0089\n",
      "Epoch 25/50\n",
      "38/38 [==============================] - 1s 28ms/step - loss: 0.0112 - binary_crossentropy: 0.0085 - val_loss: 0.0112 - val_binary_crossentropy: 0.0086\n",
      "Epoch 26/50\n",
      "38/38 [==============================] - 1s 28ms/step - loss: 0.0095 - binary_crossentropy: 0.0070 - val_loss: 0.0110 - val_binary_crossentropy: 0.0085\n",
      "Epoch 27/50\n",
      "38/38 [==============================] - 1s 28ms/step - loss: 0.0123 - binary_crossentropy: 0.0099 - val_loss: 0.0108 - val_binary_crossentropy: 0.0085\n",
      "Epoch 28/50\n",
      "38/38 [==============================] - 1s 28ms/step - loss: 0.0117 - binary_crossentropy: 0.0095 - val_loss: 0.0104 - val_binary_crossentropy: 0.0082\n",
      "Epoch 29/50\n",
      "38/38 [==============================] - 1s 28ms/step - loss: 0.0084 - binary_crossentropy: 0.0062 - val_loss: 0.0108 - val_binary_crossentropy: 0.0086\n",
      "Epoch 30/50\n",
      "38/38 [==============================] - 1s 28ms/step - loss: 0.0102 - binary_crossentropy: 0.0080 - val_loss: 0.0106 - val_binary_crossentropy: 0.0085\n",
      "Epoch 31/50\n",
      "38/38 [==============================] - 1s 28ms/step - loss: 0.0091 - binary_crossentropy: 0.0070 - val_loss: 0.0107 - val_binary_crossentropy: 0.0086\n",
      "Epoch 32/50\n",
      "38/38 [==============================] - 1s 28ms/step - loss: 0.0106 - binary_crossentropy: 0.0085 - val_loss: 0.0106 - val_binary_crossentropy: 0.0085\n",
      "Epoch 33/50\n",
      "38/38 [==============================] - 1s 28ms/step - loss: 0.0090 - binary_crossentropy: 0.0070 - val_loss: 0.0109 - val_binary_crossentropy: 0.0089\n",
      "Epoch 34/50\n",
      "38/38 [==============================] - 1s 28ms/step - loss: 0.0094 - binary_crossentropy: 0.0075 - val_loss: 0.0106 - val_binary_crossentropy: 0.0087\n",
      "Epoch 35/50\n",
      "38/38 [==============================] - 1s 29ms/step - loss: 0.0094 - binary_crossentropy: 0.0075 - val_loss: 0.0103 - val_binary_crossentropy: 0.0084\n",
      "Epoch 36/50\n",
      "38/38 [==============================] - 1s 31ms/step - loss: 0.0091 - binary_crossentropy: 0.0072 - val_loss: 0.0105 - val_binary_crossentropy: 0.0085\n",
      "Epoch 37/50\n",
      "38/38 [==============================] - 1s 29ms/step - loss: 0.0092 - binary_crossentropy: 0.0074 - val_loss: 0.0102 - val_binary_crossentropy: 0.0084\n",
      "Epoch 38/50\n",
      "38/38 [==============================] - 1s 28ms/step - loss: 0.0078 - binary_crossentropy: 0.0060 - val_loss: 0.0103 - val_binary_crossentropy: 0.0084\n",
      "Epoch 39/50\n",
      "38/38 [==============================] - 1s 28ms/step - loss: 0.0121 - binary_crossentropy: 0.0103 - val_loss: 0.0099 - val_binary_crossentropy: 0.0081\n",
      "Epoch 40/50\n",
      "38/38 [==============================] - 1s 28ms/step - loss: 0.0075 - binary_crossentropy: 0.0057 - val_loss: 0.0101 - val_binary_crossentropy: 0.0083\n",
      "Epoch 41/50\n",
      "38/38 [==============================] - 1s 28ms/step - loss: 0.0091 - binary_crossentropy: 0.0073 - val_loss: 0.0101 - val_binary_crossentropy: 0.0083\n",
      "Epoch 42/50\n",
      "38/38 [==============================] - 1s 29ms/step - loss: 0.0139 - binary_crossentropy: 0.0121 - val_loss: 0.0097 - val_binary_crossentropy: 0.0080\n",
      "Epoch 43/50\n",
      "38/38 [==============================] - 1s 28ms/step - loss: 0.0118 - binary_crossentropy: 0.0101 - val_loss: 0.0093 - val_binary_crossentropy: 0.0077\n",
      "Epoch 44/50\n",
      "38/38 [==============================] - 1s 28ms/step - loss: 0.0097 - binary_crossentropy: 0.0080 - val_loss: 0.0093 - val_binary_crossentropy: 0.0077\n",
      "Epoch 45/50\n",
      "38/38 [==============================] - 1s 28ms/step - loss: 0.0106 - binary_crossentropy: 0.0089 - val_loss: 0.0095 - val_binary_crossentropy: 0.0078\n",
      "Epoch 46/50\n",
      "38/38 [==============================] - 1s 28ms/step - loss: 0.0082 - binary_crossentropy: 0.0066 - val_loss: 0.0097 - val_binary_crossentropy: 0.0081\n",
      "Epoch 47/50\n",
      "38/38 [==============================] - 2s 44ms/step - loss: 0.0064 - binary_crossentropy: 0.0047 - val_loss: 0.0101 - val_binary_crossentropy: 0.0084\n",
      "Epoch 48/50\n",
      "38/38 [==============================] - 1s 33ms/step - loss: 0.0106 - binary_crossentropy: 0.0090 - val_loss: 0.0095 - val_binary_crossentropy: 0.0079\n",
      "Epoch 49/50\n",
      "38/38 [==============================] - 1s 29ms/step - loss: 0.0098 - binary_crossentropy: 0.0082 - val_loss: 0.0092 - val_binary_crossentropy: 0.0077\n",
      "Epoch 50/50\n",
      "38/38 [==============================] - 1s 28ms/step - loss: 0.0072 - binary_crossentropy: 0.0056 - val_loss: 0.0098 - val_binary_crossentropy: 0.0082\n"
     ]
    }
   ],
   "source": [
    "history = model_b.fit(X_initial, y_initial, batch_size=32, epochs=50, validation_data=(X_test, y_true))"
   ]
  },
  {
   "cell_type": "code",
   "execution_count": 45,
   "id": "5e990d75",
   "metadata": {},
   "outputs": [
    {
     "name": "stdout",
     "output_type": "stream",
     "text": [
      "2015/2015 [==============================] - 1s 548us/step\n",
      "acc: 0.9991779122072282\n",
      "balanced acc: 0.5\n",
      "precision: 0.0\n",
      "recall: 0.0\n",
      "cm: [[64417     0]\n",
      " [   53     0]]\n",
      "f1: 0.0\n",
      "MCC: 0.0\n",
      "Kappa: 0.0\n"
     ]
    },
    {
     "data": {
      "text/plain": [
       "0.0"
      ]
     },
     "execution_count": 45,
     "metadata": {},
     "output_type": "execute_result"
    }
   ],
   "source": [
    "y_pre=model_b.predict(X_test)\n",
    "y_pred = (y_pre > 0.5).astype(int)\n",
    "computeMetric(y_true,y_pred)"
   ]
  },
  {
   "cell_type": "markdown",
   "id": "c8aeedaf",
   "metadata": {},
   "source": [
    "# RNN"
   ]
  },
  {
   "cell_type": "code",
   "execution_count": 46,
   "id": "3911b360",
   "metadata": {},
   "outputs": [
    {
     "name": "stdout",
     "output_type": "stream",
     "text": [
      "(150430, 6) (64470, 6)\n"
     ]
    }
   ],
   "source": [
    "# Reshape the input data to be 3D\n",
    "print(X_Pool.shape,X_test.shape)\n",
    "X_Pool_3 = X_Pool.reshape(X_Pool.shape[0], 1, X_Pool.shape[1])\n",
    "X_initial_3=X_initial.reshape(X_initial.shape[0], 1, X_initial.shape[1])\n",
    "X_re_3=X_re.reshape(X_re.shape[0], 1,X_re.shape[1])\n",
    "X_test_3 = X_test.values.reshape(X_test.shape[0], 1, X_test.shape[1])"
   ]
  },
  {
   "cell_type": "code",
   "execution_count": 47,
   "id": "4627197d",
   "metadata": {},
   "outputs": [
    {
     "name": "stdout",
     "output_type": "stream",
     "text": [
      "(150430,) (64470,)\n"
     ]
    }
   ],
   "source": [
    "print(y_Pool.shape,y_true.shape)"
   ]
  },
  {
   "cell_type": "code",
   "execution_count": 48,
   "id": "77fd8866",
   "metadata": {},
   "outputs": [],
   "source": [
    "# Build the RNN binary classification model\n",
    "def create_RNN_model():\n",
    "    model_R = Sequential()\n",
    "    model_R.add(SimpleRNN(units=32, activation='relu', input_shape=(1, X_Pool.shape[1])))\n",
    "    model_R.add(Dropout(0.2))\n",
    "    model_R.add(Dense(units=1, activation='sigmoid'))\n",
    "    model_R.compile(optimizer='adam', loss='binary_crossentropy', metrics=['mse'])\n",
    "    return model_R"
   ]
  },
  {
   "cell_type": "code",
   "execution_count": 49,
   "id": "d4fbf829",
   "metadata": {},
   "outputs": [
    {
     "name": "stdout",
     "output_type": "stream",
     "text": [
      "Epoch 1/50\n",
      "30/30 [==============================] - 1s 7ms/step - loss: 0.5530 - mse: 0.1827 - val_loss: 0.4370 - val_mse: 0.1269\n",
      "Epoch 2/50\n",
      "30/30 [==============================] - 0s 2ms/step - loss: 0.3702 - mse: 0.1004 - val_loss: 0.2928 - val_mse: 0.0668\n",
      "Epoch 3/50\n",
      "30/30 [==============================] - 0s 2ms/step - loss: 0.2564 - mse: 0.0564 - val_loss: 0.2026 - val_mse: 0.0362\n",
      "Epoch 4/50\n",
      "30/30 [==============================] - 0s 2ms/step - loss: 0.1860 - mse: 0.0340 - val_loss: 0.1450 - val_mse: 0.0205\n",
      "Epoch 5/50\n",
      "30/30 [==============================] - 0s 2ms/step - loss: 0.1412 - mse: 0.0223 - val_loss: 0.1066 - val_mse: 0.0121\n",
      "Epoch 6/50\n",
      "30/30 [==============================] - 0s 2ms/step - loss: 0.1071 - mse: 0.0144 - val_loss: 0.0807 - val_mse: 0.0075\n",
      "Epoch 7/50\n",
      "30/30 [==============================] - 0s 2ms/step - loss: 0.0824 - mse: 0.0094 - val_loss: 0.0628 - val_mse: 0.0048\n",
      "Epoch 8/50\n",
      "30/30 [==============================] - 0s 2ms/step - loss: 0.0668 - mse: 0.0067 - val_loss: 0.0499 - val_mse: 0.0033\n",
      "Epoch 9/50\n",
      "30/30 [==============================] - 0s 2ms/step - loss: 0.0548 - mse: 0.0052 - val_loss: 0.0406 - val_mse: 0.0023\n",
      "Epoch 10/50\n",
      "30/30 [==============================] - 0s 2ms/step - loss: 0.0465 - mse: 0.0042 - val_loss: 0.0336 - val_mse: 0.0016\n",
      "Epoch 11/50\n",
      "30/30 [==============================] - 0s 2ms/step - loss: 0.0408 - mse: 0.0033 - val_loss: 0.0281 - val_mse: 0.0012\n",
      "Epoch 12/50\n",
      "30/30 [==============================] - 0s 2ms/step - loss: 0.0343 - mse: 0.0027 - val_loss: 0.0239 - val_mse: 8.9493e-04\n",
      "Epoch 13/50\n",
      "30/30 [==============================] - 0s 2ms/step - loss: 0.0289 - mse: 0.0024 - val_loss: 0.0207 - val_mse: 6.9548e-04\n",
      "Epoch 14/50\n",
      "30/30 [==============================] - 0s 2ms/step - loss: 0.0272 - mse: 0.0022 - val_loss: 0.0180 - val_mse: 5.3802e-04\n",
      "Epoch 15/50\n",
      "30/30 [==============================] - 0s 2ms/step - loss: 0.0245 - mse: 0.0020 - val_loss: 0.0156 - val_mse: 4.2041e-04\n",
      "Epoch 16/50\n",
      "30/30 [==============================] - 0s 2ms/step - loss: 0.0232 - mse: 0.0018 - val_loss: 0.0138 - val_mse: 3.3719e-04\n",
      "Epoch 17/50\n",
      "30/30 [==============================] - 0s 2ms/step - loss: 0.0212 - mse: 0.0018 - val_loss: 0.0122 - val_mse: 2.7111e-04\n",
      "Epoch 18/50\n",
      "30/30 [==============================] - 0s 2ms/step - loss: 0.0199 - mse: 0.0016 - val_loss: 0.0110 - val_mse: 2.2227e-04\n",
      "Epoch 19/50\n",
      "30/30 [==============================] - 0s 2ms/step - loss: 0.0183 - mse: 0.0016 - val_loss: 0.0098 - val_mse: 1.8338e-04\n",
      "Epoch 20/50\n",
      "30/30 [==============================] - 0s 2ms/step - loss: 0.0157 - mse: 0.0013 - val_loss: 0.0089 - val_mse: 1.5358e-04\n",
      "Epoch 21/50\n",
      "30/30 [==============================] - 0s 2ms/step - loss: 0.0172 - mse: 0.0014 - val_loss: 0.0082 - val_mse: 1.3044e-04\n",
      "Epoch 22/50\n",
      "30/30 [==============================] - 0s 2ms/step - loss: 0.0151 - mse: 0.0014 - val_loss: 0.0075 - val_mse: 1.1095e-04\n",
      "Epoch 23/50\n",
      "30/30 [==============================] - 0s 2ms/step - loss: 0.0159 - mse: 0.0014 - val_loss: 0.0068 - val_mse: 9.4026e-05\n",
      "Epoch 24/50\n",
      "30/30 [==============================] - 0s 2ms/step - loss: 0.0144 - mse: 0.0013 - val_loss: 0.0063 - val_mse: 8.1307e-05\n",
      "Epoch 25/50\n",
      "30/30 [==============================] - 0s 2ms/step - loss: 0.0123 - mse: 0.0012 - val_loss: 0.0058 - val_mse: 6.9727e-05\n",
      "Epoch 26/50\n",
      "30/30 [==============================] - 0s 2ms/step - loss: 0.0137 - mse: 0.0013 - val_loss: 0.0053 - val_mse: 5.9734e-05\n",
      "Epoch 27/50\n",
      "30/30 [==============================] - 0s 2ms/step - loss: 0.0125 - mse: 0.0012 - val_loss: 0.0050 - val_mse: 5.3171e-05\n",
      "Epoch 28/50\n",
      "30/30 [==============================] - 0s 2ms/step - loss: 0.0119 - mse: 0.0012 - val_loss: 0.0046 - val_mse: 4.5721e-05\n",
      "Epoch 29/50\n",
      "30/30 [==============================] - 0s 2ms/step - loss: 0.0118 - mse: 0.0012 - val_loss: 0.0044 - val_mse: 4.0999e-05\n",
      "Epoch 30/50\n",
      "30/30 [==============================] - 0s 2ms/step - loss: 0.0106 - mse: 0.0012 - val_loss: 0.0041 - val_mse: 3.6284e-05\n",
      "Epoch 31/50\n",
      "30/30 [==============================] - 0s 2ms/step - loss: 0.0093 - mse: 0.0011 - val_loss: 0.0038 - val_mse: 3.1889e-05\n",
      "Epoch 32/50\n",
      "30/30 [==============================] - 0s 2ms/step - loss: 0.0109 - mse: 0.0012 - val_loss: 0.0036 - val_mse: 2.8457e-05\n",
      "Epoch 33/50\n",
      "30/30 [==============================] - 0s 2ms/step - loss: 0.0110 - mse: 0.0012 - val_loss: 0.0033 - val_mse: 2.5198e-05\n",
      "Epoch 34/50\n",
      "30/30 [==============================] - 0s 2ms/step - loss: 0.0112 - mse: 0.0012 - val_loss: 0.0032 - val_mse: 2.3368e-05\n",
      "Epoch 35/50\n",
      "30/30 [==============================] - 0s 2ms/step - loss: 0.0098 - mse: 0.0011 - val_loss: 0.0030 - val_mse: 2.1158e-05\n",
      "Epoch 36/50\n",
      "30/30 [==============================] - 0s 2ms/step - loss: 0.0107 - mse: 0.0011 - val_loss: 0.0029 - val_mse: 1.9718e-05\n",
      "Epoch 37/50\n",
      "30/30 [==============================] - 0s 2ms/step - loss: 0.0104 - mse: 0.0011 - val_loss: 0.0027 - val_mse: 1.7615e-05\n",
      "Epoch 38/50\n",
      "30/30 [==============================] - 0s 2ms/step - loss: 0.0099 - mse: 0.0011 - val_loss: 0.0027 - val_mse: 1.6852e-05\n",
      "Epoch 39/50\n",
      "30/30 [==============================] - 0s 2ms/step - loss: 0.0096 - mse: 0.0011 - val_loss: 0.0026 - val_mse: 1.5871e-05\n",
      "Epoch 40/50\n",
      "30/30 [==============================] - 0s 2ms/step - loss: 0.0088 - mse: 0.0011 - val_loss: 0.0024 - val_mse: 1.4586e-05\n",
      "Epoch 41/50\n",
      "30/30 [==============================] - 0s 2ms/step - loss: 0.0092 - mse: 0.0011 - val_loss: 0.0023 - val_mse: 1.3192e-05\n",
      "Epoch 42/50\n",
      "30/30 [==============================] - 0s 2ms/step - loss: 0.0101 - mse: 0.0011 - val_loss: 0.0022 - val_mse: 1.2312e-05\n",
      "Epoch 43/50\n",
      "30/30 [==============================] - 0s 2ms/step - loss: 0.0090 - mse: 0.0011 - val_loss: 0.0022 - val_mse: 1.1833e-05\n",
      "Epoch 44/50\n",
      "30/30 [==============================] - 0s 2ms/step - loss: 0.0090 - mse: 0.0011 - val_loss: 0.0021 - val_mse: 1.1749e-05\n",
      "Epoch 45/50\n",
      "30/30 [==============================] - 0s 2ms/step - loss: 0.0080 - mse: 0.0011 - val_loss: 0.0020 - val_mse: 1.1131e-05\n",
      "Epoch 46/50\n",
      "30/30 [==============================] - 0s 2ms/step - loss: 0.0094 - mse: 0.0011 - val_loss: 0.0020 - val_mse: 1.0679e-05\n",
      "Epoch 47/50\n",
      "30/30 [==============================] - 0s 2ms/step - loss: 0.0082 - mse: 0.0011 - val_loss: 0.0019 - val_mse: 9.6431e-06\n",
      "Epoch 48/50\n",
      "30/30 [==============================] - 0s 2ms/step - loss: 0.0083 - mse: 0.0011 - val_loss: 0.0019 - val_mse: 9.8646e-06\n",
      "Epoch 49/50\n",
      "30/30 [==============================] - 0s 2ms/step - loss: 0.0067 - mse: 0.0010 - val_loss: 0.0018 - val_mse: 9.1832e-06\n",
      "Epoch 50/50\n",
      "30/30 [==============================] - 0s 2ms/step - loss: 0.0079 - mse: 0.0011 - val_loss: 0.0017 - val_mse: 8.8530e-06\n"
     ]
    }
   ],
   "source": [
    "# Train the model\n",
    "model_R = create_RNN_model()\n",
    "history = model_R.fit(X_initial_3, y_initial, epochs=50, batch_size=32, validation_split=0.2)"
   ]
  },
  {
   "cell_type": "code",
   "execution_count": 50,
   "id": "b9c75824",
   "metadata": {},
   "outputs": [
    {
     "name": "stdout",
     "output_type": "stream",
     "text": [
      "2015/2015 [==============================] - 1s 575us/step\n"
     ]
    }
   ],
   "source": [
    "# Evaluate the model on the test set\n",
    "y_pre=model_R.predict(X_test_3)\n",
    "y_pred = (y_pre > 0.5).astype(int)"
   ]
  },
  {
   "cell_type": "code",
   "execution_count": 51,
   "id": "177d8e07",
   "metadata": {},
   "outputs": [
    {
     "name": "stdout",
     "output_type": "stream",
     "text": [
      "acc: 0.9991779122072282\n",
      "balanced acc: 0.5\n",
      "precision: 0.0\n",
      "recall: 0.0\n",
      "cm: [[64417     0]\n",
      " [   53     0]]\n",
      "f1: 0.0\n",
      "MCC: 0.0\n",
      "Kappa: 0.0\n"
     ]
    },
    {
     "data": {
      "text/plain": [
       "0.0"
      ]
     },
     "execution_count": 51,
     "metadata": {},
     "output_type": "execute_result"
    }
   ],
   "source": [
    "computeMetric(y_true,y_pred)"
   ]
  },
  {
   "cell_type": "markdown",
   "id": "81ef3d27",
   "metadata": {},
   "source": [
    "## AL\n",
    "### Baseline"
   ]
  },
  {
   "cell_type": "code",
   "execution_count": null,
   "id": "d4832af9",
   "metadata": {},
   "outputs": [],
   "source": [
    "\"\"\"\n",
    "Training the ActiveLearner\n",
    "\"\"\"\n",
    "# initialize ActiveLearner\n",
    "al_learn(model_b,\"Random sampling\",X_re,y_re,X_test)"
   ]
  },
  {
   "cell_type": "code",
   "execution_count": null,
   "id": "53d22bce",
   "metadata": {},
   "outputs": [],
   "source": [
    "# the final accuracy score\n",
    "y_pre=model_b.predict(X_test)\n",
    "y_pred = (y_pre > 0.5).astype(int)\n",
    "computeMetric(y_true,y_pred)"
   ]
  },
  {
   "cell_type": "markdown",
   "id": "7002eca8",
   "metadata": {},
   "source": [
    "### RNN"
   ]
  },
  {
   "cell_type": "code",
   "execution_count": null,
   "id": "8087b716",
   "metadata": {},
   "outputs": [],
   "source": [
    "\"\"\"\n",
    "Training the ActiveLearner\n",
    "\"\"\"\n",
    "# initialize ActiveLearner\n",
    "al_learn(model_R,\"Random sampling\",X_re_3,y_re,X_test_3)"
   ]
  },
  {
   "cell_type": "code",
   "execution_count": null,
   "id": "a59e47e4",
   "metadata": {},
   "outputs": [],
   "source": []
  },
  {
   "cell_type": "code",
   "execution_count": null,
   "id": "c07d25db",
   "metadata": {},
   "outputs": [],
   "source": []
  },
  {
   "cell_type": "code",
   "execution_count": null,
   "id": "4d92da5d",
   "metadata": {},
   "outputs": [],
   "source": []
  },
  {
   "cell_type": "code",
   "execution_count": null,
   "id": "2305959c",
   "metadata": {},
   "outputs": [],
   "source": []
  },
  {
   "cell_type": "code",
   "execution_count": null,
   "id": "38b58ad3",
   "metadata": {},
   "outputs": [],
   "source": []
  },
  {
   "cell_type": "code",
   "execution_count": null,
   "id": "677886d1",
   "metadata": {},
   "outputs": [],
   "source": []
  },
  {
   "cell_type": "code",
   "execution_count": null,
   "id": "d238a433",
   "metadata": {},
   "outputs": [],
   "source": []
  },
  {
   "cell_type": "code",
   "execution_count": null,
   "id": "3a37b48d",
   "metadata": {},
   "outputs": [],
   "source": []
  },
  {
   "cell_type": "code",
   "execution_count": null,
   "id": "56dd1f78",
   "metadata": {},
   "outputs": [],
   "source": []
  },
  {
   "cell_type": "code",
   "execution_count": null,
   "id": "917f7abf",
   "metadata": {},
   "outputs": [],
   "source": []
  },
  {
   "cell_type": "markdown",
   "id": "66bb1dde",
   "metadata": {},
   "source": [
    "## random sampling"
   ]
  },
  {
   "cell_type": "code",
   "execution_count": null,
   "id": "f16a90cc",
   "metadata": {},
   "outputs": [],
   "source": [
    "sampling=random_sampling"
   ]
  },
  {
   "cell_type": "code",
   "execution_count": null,
   "id": "ef9845ec",
   "metadata": {},
   "outputs": [],
   "source": [
    "metric04 = al_learn(model_b,sampling,X_initial,y_initial,X_re,y_re)"
   ]
  },
  {
   "cell_type": "markdown",
   "id": "7279b320",
   "metadata": {},
   "source": [
    "## Uncertainty"
   ]
  },
  {
   "cell_type": "code",
   "execution_count": null,
   "id": "1d366d6a",
   "metadata": {},
   "outputs": [],
   "source": [
    "sampling=uncertainty_sampling"
   ]
  },
  {
   "cell_type": "code",
   "execution_count": null,
   "id": "708ee527",
   "metadata": {},
   "outputs": [],
   "source": [
    "metric14 = al_learn(clf4,sampling,X_initial,y_initial,X_re,y_re)"
   ]
  },
  {
   "cell_type": "markdown",
   "id": "d3c8c978",
   "metadata": {},
   "source": [
    "## entropy"
   ]
  },
  {
   "cell_type": "code",
   "execution_count": null,
   "id": "76f27e70",
   "metadata": {},
   "outputs": [],
   "source": [
    "sampling=entropy_sampling"
   ]
  },
  {
   "cell_type": "code",
   "execution_count": null,
   "id": "8e297aa2",
   "metadata": {},
   "outputs": [],
   "source": [
    "metric24 = al_learn(clf4,sampling,X_initial,y_initial,X_re,y_re)"
   ]
  },
  {
   "cell_type": "markdown",
   "id": "9950bad2",
   "metadata": {},
   "source": [
    "## margin"
   ]
  },
  {
   "cell_type": "code",
   "execution_count": null,
   "id": "14a5e922",
   "metadata": {},
   "outputs": [],
   "source": [
    "sampling=margin_sampling"
   ]
  },
  {
   "cell_type": "code",
   "execution_count": null,
   "id": "f8322b8c",
   "metadata": {},
   "outputs": [],
   "source": [
    "metric34 = al_learn(clf4,sampling,X_initial,y_initial,X_re,y_re)"
   ]
  },
  {
   "cell_type": "code",
   "execution_count": null,
   "id": "28674e4e",
   "metadata": {},
   "outputs": [],
   "source": []
  },
  {
   "cell_type": "markdown",
   "id": "a48fcfa7",
   "metadata": {},
   "source": [
    "# visual\n"
   ]
  },
  {
   "cell_type": "code",
   "execution_count": null,
   "id": "a2050701",
   "metadata": {},
   "outputs": [],
   "source": [
    "#save\n",
    "def con_format(data):\n",
    "    metrics_arr=np.transpose(metrics)# array T\n",
    "    df = pd.DataFrame(metrics_arr, columns=['Random_Knn', 'Random_Lighgbm',\"Random_GradientBoosting\",\"Random_Catboost\",\n",
    "                                   'Uncertainty_Knn', 'Uncertainty_Lighgbm',\"Uncertainty_GradientBoosting\",\"Uncertainty_Catboost\",\n",
    "                                   'Entropy_Knn', 'Entropy_Lighgbm',\"Entropy_GradientBoosting\",\"Entropy_Catboost\",\n",
    "                                    'Margin_Knn', 'Margin_Lighgbm',\"Margin_GradientBoosting\",\"Margin_Catboost\",\n",
    "                                   ])\n",
    "    return df\n",
    "    "
   ]
  },
  {
   "cell_type": "code",
   "execution_count": null,
   "id": "138c817b",
   "metadata": {},
   "outputs": [],
   "source": [
    "metrics1= list(zip(metric01.iloc[:,1].values,metric02.iloc[:,1].values,metric03.iloc[:,1].values,metric04.iloc[:,1].values,\n",
    "        metric11.iloc[:,1].values,metric12.iloc[:,1].values,metric13.iloc[:,1].values,metric14.iloc[:,1].values,\n",
    "        metric21.iloc[:,1].values,metric22.iloc[:,1].values,metric23.iloc[:,1].values,metric24.iloc[:,1].values,\n",
    "        metric31.iloc[:,1].values,metric32.iloc[:,1].values,metric33.iloc[:,1].values,metric34.iloc[:,1].values))\n"
   ]
  },
  {
   "cell_type": "code",
   "execution_count": null,
   "id": "c6407341",
   "metadata": {},
   "outputs": [],
   "source": [
    "df=con_format(metrics)\n",
    "df"
   ]
  },
  {
   "cell_type": "code",
   "execution_count": null,
   "id": "34e97ca3",
   "metadata": {},
   "outputs": [],
   "source": [
    "# df.to_csv(\"./result/random_f1_3901890.csv\")"
   ]
  },
  {
   "cell_type": "code",
   "execution_count": null,
   "id": "a94514e6",
   "metadata": {},
   "outputs": [],
   "source": []
  },
  {
   "cell_type": "code",
   "execution_count": null,
   "id": "ec71f2d7",
   "metadata": {},
   "outputs": [],
   "source": []
  }
 ],
 "metadata": {
  "kernelspec": {
   "display_name": "al",
   "language": "python",
   "name": "al"
  },
  "language_info": {
   "codemirror_mode": {
    "name": "ipython",
    "version": 3
   },
   "file_extension": ".py",
   "mimetype": "text/x-python",
   "name": "python",
   "nbconvert_exporter": "python",
   "pygments_lexer": "ipython3",
   "version": "3.8.0"
  }
 },
 "nbformat": 4,
 "nbformat_minor": 5
}
