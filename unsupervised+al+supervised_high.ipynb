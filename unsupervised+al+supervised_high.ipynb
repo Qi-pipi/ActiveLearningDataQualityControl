{
 "cells": [
  {
   "cell_type": "code",
   "execution_count": null,
   "id": "1ec47eb9",
   "metadata": {},
   "outputs": [],
   "source": [
    "#!pip3 install tensorflow"
   ]
  },
  {
   "cell_type": "code",
   "execution_count": null,
   "id": "2a12e7f0",
   "metadata": {},
   "outputs": [],
   "source": [
    "import numpy as np\n",
    "import pandas as pd\n",
    "import matplotlib.pyplot as plt\n",
    "import matplotlib as mpl\n",
    "import seaborn as sns\n",
    "\n",
    "#unsupervised\n",
    "from sklearn.model_selection import GridSearchCV\n",
    "from sklearn.ensemble import IsolationForest\n",
    "from sklearn.datasets import make_blobs\n",
    "from sklearn.preprocessing import MinMaxScaler\n",
    "from sklearn.svm import OneClassSVM\n",
    "from tensorflow import keras\n",
    "\n",
    "#supervised\n",
    "import lightgbm as lgb\n",
    "from sklearn.gaussian_process import GaussianProcessClassifier\n",
    "from sklearn.neighbors import KNeighborsClassifier\n",
    "import xgboost as xgb\n",
    "from catboost import CatBoostClassifier\n",
    "\n",
    "\n",
    "#al\n",
    "from modAL.models import ActiveLearner\n",
    "from modAL.uncertainty import uncertainty_sampling,margin_sampling,entropy_sampling\n",
    "from modAL.disagreement import KL_max_disagreement\n",
    "from modAL.batch import uncertainty_batch_sampling\n",
    "\n",
    "#metric\n",
    "from sklearn.metrics import f1_score,accuracy_score\n",
    "from sklearn.metrics import precision_score, recall_score, confusion_matrix, classification_report\n",
    "from sklearn.metrics import matthews_corrcoef,cohen_kappa_score,balanced_accuracy_score\n",
    "from sklearn.metrics import make_scorer\n",
    "\n",
    "#warnings\n",
    "import warnings\n",
    "\n",
    "warnings.filterwarnings('ignore')"
   ]
  },
  {
   "cell_type": "code",
   "execution_count": null,
   "id": "80cac34e",
   "metadata": {},
   "outputs": [],
   "source": [
    "train_set=pd.read_csv('./randomtrain/3901890.csv')\n",
    "test_set=pd.read_csv('./randomtest/3901890.csv')\n",
    "len(train_set),len(test_set)\n",
    "\n",
    "#test set\n",
    "X_test=test_set.iloc[:,0:y-1]\n",
    "y_tru=test_set.iloc[:,y-1]\n",
    "print(len(X_test),len(y_tru))"
   ]
  },
  {
   "cell_type": "code",
   "execution_count": null,
   "id": "7e3deb44",
   "metadata": {},
   "outputs": [],
   "source": [
    "train_set1=train_set.iloc[:,:6]\n",
    "test_set1=test_set.iloc[:,:6]"
   ]
  },
  {
   "cell_type": "code",
   "execution_count": null,
   "id": "cd533f67",
   "metadata": {},
   "outputs": [],
   "source": [
    "#initial_data\n",
    "X_initial=pd.read_csv('./randomtrain/3901890_X_initial.csv').values\n",
    "y_initial=pd.read_csv('./randomtrain/3901890_y_initial.csv').values.ravel()\n",
    "X_re=pd.read_csv('./randomtrain/3901890_X_re.csv').values\n",
    "y_re=pd.read_csv('./randomtrain/3901890_y_re.csv').values.ravel()\n",
    "print(X_re.shape,X_initial.shape)\n",
    "print(y_re.shape,y_initial.shape)"
   ]
  },
  {
   "cell_type": "code",
   "execution_count": null,
   "id": "2a92db1f",
   "metadata": {},
   "outputs": [],
   "source": [
    "#this function use random grid search to find best parameters\n",
    "def getPar(model,dist,data,niter):\n",
    "    x,y=data.shape\n",
    "\n",
    "    clf = model\n",
    "\n",
    "    param_dist = dist\n",
    "    scoring = make_scorer(f1_score)\n",
    "    grid_search = GridSearchCV(clf, param_dist, cv=5, scoring=scoring)\n",
    "    grid_search.fit(data)\n",
    "    print(\"Best parameters:\", grid_search.best_params_)\n",
    "    print(\"Best score:\", grid_search.best_score_)\n",
    "    \n",
    "    return grid_search.best_params_"
   ]
  },
  {
   "cell_type": "markdown",
   "id": "0369c332",
   "metadata": {},
   "source": [
    "# iforest"
   ]
  },
  {
   "cell_type": "code",
   "execution_count": null,
   "id": "000dab63",
   "metadata": {},
   "outputs": [],
   "source": [
    "iforest = IsolationForest(n_estimators=100, contamination='auto')\n",
    "params = {'n_estimators': [10, 50, 100],\n",
    "          'max_samples': [0.1, 0.5, 1.0],\n",
    "          'contamination': [0.01, 0.05, 0.1]}\n",
    "\n",
    "para=getPar(iforest,params,train_set1,10)\n",
    "\n",
    "\n",
    "iforest = IsolationForest(n_estimators=para['n_estimators'],max_samples=para['max_samples'],\n",
    "                                  contamination=para['contamination'])"
   ]
  },
  {
   "cell_type": "code",
   "execution_count": null,
   "id": "2a81b693",
   "metadata": {},
   "outputs": [],
   "source": [
    "# compute score\n",
    "iforest.fit(X_re)\n",
    "if_scores = -iforest.score_samples(X_re)"
   ]
  },
  {
   "cell_type": "code",
   "execution_count": 127,
   "id": "1b6a8e38",
   "metadata": {},
   "outputs": [],
   "source": [
    "# combine\n",
    "if_result = pd.concat([pd.DataFrame(X_re, columns=['datetime', 'latitude', 'longitude', 'pressure', 'salinity',\n",
    "       'temperature']), pd.Series(y_re, name='label'),pd.Series(if_scores, name='score')], axis=1)\n",
    "\n",
    "# ascending by score\n",
    "if_data=if_result.sort_values(by='score', ascending=False)\n",
    "if_data.to_csv(\"if_score_high.csv\")"
   ]
  },
  {
   "cell_type": "code",
   "execution_count": null,
   "id": "9c735ac4",
   "metadata": {},
   "outputs": [],
   "source": [
    "train_data_if=if_data.iloc[:,:7]\n",
    "train_data_if"
   ]
  },
  {
   "cell_type": "markdown",
   "id": "0fb3290e",
   "metadata": {},
   "source": [
    "# autoencoder"
   ]
  },
  {
   "cell_type": "code",
   "execution_count": null,
   "id": "dac09cc3",
   "metadata": {},
   "outputs": [],
   "source": [
    "# normalization\n",
    "scaler = MinMaxScaler()\n",
    "scaled_data = scaler.fit_transform(train_set1)\n",
    "\n",
    "#  Autoencoder model\n",
    "input_dim = scaled_data.shape[1]\n",
    "encoding_dim = 1\n",
    "hidden_dim = 2\n",
    "output_dim = input_dim\n",
    "input_layer = keras.layers.Input(shape=(input_dim,))\n",
    "encoder_layer1 = keras.layers.Dense(hidden_dim, activation='relu')(input_layer)\n",
    "encoder_layer2 = keras.layers.Dense(encoding_dim, activation='relu')(encoder_layer1)\n",
    "decoder_layer1 = keras.layers.Dense(hidden_dim, activation='relu')(encoder_layer2)\n",
    "decoder_layer2 = keras.layers.Dense(output_dim, activation=None)(decoder_layer1)\n",
    "autoencoder = keras.models.Model(inputs=input_layer, outputs=decoder_layer2)"
   ]
  },
  {
   "cell_type": "code",
   "execution_count": null,
   "id": "22fb1cec",
   "metadata": {},
   "outputs": [],
   "source": [
    "# compile and fit\n",
    "autoencoder.compile(optimizer='adam', loss='mse')\n",
    "autoencoder.fit(scaled_data, scaled_data, epochs=50, batch_size=16, verbose=0)"
   ]
  },
  {
   "cell_type": "code",
   "execution_count": null,
   "id": "4e04aea0",
   "metadata": {},
   "outputs": [],
   "source": [
    "# compute\n",
    "reconstructed_data = autoencoder.predict(X_re)\n",
    "mse = np.mean(np.power(X_re - reconstructed_data, 2), axis=1)\n",
    "anomaly_scores = pd.Series(mse, name='anomaly_score')"
   ]
  },
  {
   "cell_type": "code",
   "execution_count": 125,
   "id": "5743ee65",
   "metadata": {},
   "outputs": [
    {
     "data": {
      "text/html": [
       "<div>\n",
       "<style scoped>\n",
       "    .dataframe tbody tr th:only-of-type {\n",
       "        vertical-align: middle;\n",
       "    }\n",
       "\n",
       "    .dataframe tbody tr th {\n",
       "        vertical-align: top;\n",
       "    }\n",
       "\n",
       "    .dataframe thead th {\n",
       "        text-align: right;\n",
       "    }\n",
       "</style>\n",
       "<table border=\"1\" class=\"dataframe\">\n",
       "  <thead>\n",
       "    <tr style=\"text-align: right;\">\n",
       "      <th></th>\n",
       "      <th>datetime</th>\n",
       "      <th>latitude</th>\n",
       "      <th>longitude</th>\n",
       "      <th>pressure</th>\n",
       "      <th>salinity</th>\n",
       "      <th>temperature</th>\n",
       "      <th>label</th>\n",
       "    </tr>\n",
       "  </thead>\n",
       "  <tbody>\n",
       "    <tr>\n",
       "      <th>107158</th>\n",
       "      <td>-0.012921</td>\n",
       "      <td>0.007223</td>\n",
       "      <td>0.388787</td>\n",
       "      <td>1.298061</td>\n",
       "      <td>0.586663</td>\n",
       "      <td>-0.156916</td>\n",
       "      <td>0</td>\n",
       "    </tr>\n",
       "    <tr>\n",
       "      <th>71534</th>\n",
       "      <td>-1.429395</td>\n",
       "      <td>1.265347</td>\n",
       "      <td>1.001266</td>\n",
       "      <td>0.519826</td>\n",
       "      <td>0.967276</td>\n",
       "      <td>-0.880471</td>\n",
       "      <td>0</td>\n",
       "    </tr>\n",
       "    <tr>\n",
       "      <th>103608</th>\n",
       "      <td>0.842185</td>\n",
       "      <td>-0.272558</td>\n",
       "      <td>-0.691385</td>\n",
       "      <td>0.497861</td>\n",
       "      <td>-1.195546</td>\n",
       "      <td>-0.250380</td>\n",
       "      <td>1</td>\n",
       "    </tr>\n",
       "    <tr>\n",
       "      <th>72958</th>\n",
       "      <td>-0.592390</td>\n",
       "      <td>0.392775</td>\n",
       "      <td>1.079425</td>\n",
       "      <td>1.377737</td>\n",
       "      <td>0.970699</td>\n",
       "      <td>-0.505042</td>\n",
       "      <td>0</td>\n",
       "    </tr>\n",
       "    <tr>\n",
       "      <th>91376</th>\n",
       "      <td>-0.527999</td>\n",
       "      <td>0.440708</td>\n",
       "      <td>1.096360</td>\n",
       "      <td>0.860923</td>\n",
       "      <td>0.970815</td>\n",
       "      <td>-0.513968</td>\n",
       "      <td>0</td>\n",
       "    </tr>\n",
       "    <tr>\n",
       "      <th>...</th>\n",
       "      <td>...</td>\n",
       "      <td>...</td>\n",
       "      <td>...</td>\n",
       "      <td>...</td>\n",
       "      <td>...</td>\n",
       "      <td>...</td>\n",
       "      <td>...</td>\n",
       "    </tr>\n",
       "    <tr>\n",
       "      <th>80671</th>\n",
       "      <td>-1.501837</td>\n",
       "      <td>1.343735</td>\n",
       "      <td>0.910565</td>\n",
       "      <td>-0.703300</td>\n",
       "      <td>0.968320</td>\n",
       "      <td>-0.197872</td>\n",
       "      <td>0</td>\n",
       "    </tr>\n",
       "    <tr>\n",
       "      <th>61481</th>\n",
       "      <td>0.825411</td>\n",
       "      <td>-0.181853</td>\n",
       "      <td>-0.639377</td>\n",
       "      <td>-0.439725</td>\n",
       "      <td>-1.217362</td>\n",
       "      <td>-0.121211</td>\n",
       "      <td>1</td>\n",
       "    </tr>\n",
       "    <tr>\n",
       "      <th>16018</th>\n",
       "      <td>0.695303</td>\n",
       "      <td>0.039079</td>\n",
       "      <td>-0.778532</td>\n",
       "      <td>2.505683</td>\n",
       "      <td>-1.206918</td>\n",
       "      <td>-0.911451</td>\n",
       "      <td>1</td>\n",
       "    </tr>\n",
       "    <tr>\n",
       "      <th>63978</th>\n",
       "      <td>0.494105</td>\n",
       "      <td>-0.046720</td>\n",
       "      <td>-0.737961</td>\n",
       "      <td>-0.645158</td>\n",
       "      <td>-1.240628</td>\n",
       "      <td>0.294649</td>\n",
       "      <td>1</td>\n",
       "    </tr>\n",
       "    <tr>\n",
       "      <th>61556</th>\n",
       "      <td>1.211057</td>\n",
       "      <td>-1.015604</td>\n",
       "      <td>-1.534044</td>\n",
       "      <td>-0.079247</td>\n",
       "      <td>-1.044810</td>\n",
       "      <td>-0.325466</td>\n",
       "      <td>0</td>\n",
       "    </tr>\n",
       "  </tbody>\n",
       "</table>\n",
       "<p>124522 rows × 7 columns</p>\n",
       "</div>"
      ],
      "text/plain": [
       "        datetime  latitude  longitude  pressure  salinity  temperature  label\n",
       "107158 -0.012921  0.007223   0.388787  1.298061  0.586663    -0.156916      0\n",
       "71534  -1.429395  1.265347   1.001266  0.519826  0.967276    -0.880471      0\n",
       "103608  0.842185 -0.272558  -0.691385  0.497861 -1.195546    -0.250380      1\n",
       "72958  -0.592390  0.392775   1.079425  1.377737  0.970699    -0.505042      0\n",
       "91376  -0.527999  0.440708   1.096360  0.860923  0.970815    -0.513968      0\n",
       "...          ...       ...        ...       ...       ...          ...    ...\n",
       "80671  -1.501837  1.343735   0.910565 -0.703300  0.968320    -0.197872      0\n",
       "61481   0.825411 -0.181853  -0.639377 -0.439725 -1.217362    -0.121211      1\n",
       "16018   0.695303  0.039079  -0.778532  2.505683 -1.206918    -0.911451      1\n",
       "63978   0.494105 -0.046720  -0.737961 -0.645158 -1.240628     0.294649      1\n",
       "61556   1.211057 -1.015604  -1.534044 -0.079247 -1.044810    -0.325466      0\n",
       "\n",
       "[124522 rows x 7 columns]"
      ]
     },
     "execution_count": 125,
     "metadata": {},
     "output_type": "execute_result"
    }
   ],
   "source": [
    "# combine\n",
    "auto_result = pd.concat([pd.DataFrame(X_re, columns=['datetime', 'latitude', 'longitude', 'pressure', 'salinity',\n",
    "       'temperature']), pd.Series(y_re, name='label'),anomaly_scores,], axis=1)\n",
    "\n",
    "auto_data = auto_result.sort_values(by='anomaly_score', ascending=False)\n",
    "auto_data.to_csv(\"auto_score_high.csv\")\n",
    "train_data_auto=auto_data.iloc[:,:7]\n",
    "train_data_auto"
   ]
  },
  {
   "cell_type": "markdown",
   "id": "a7869e07",
   "metadata": {},
   "source": [
    "# oneclasssvm"
   ]
  },
  {
   "cell_type": "code",
   "execution_count": null,
   "id": "3eedd7e2",
   "metadata": {},
   "outputs": [],
   "source": [
    "ocsvm = OneClassSVM(kernel='rbf', nu=0.1)\n",
    "ocsvm.fit(train_set1)"
   ]
  },
  {
   "cell_type": "code",
   "execution_count": null,
   "id": "a24b7b1f",
   "metadata": {},
   "outputs": [],
   "source": [
    "scores3 = -ocsvm.decision_function(X_re)"
   ]
  },
  {
   "cell_type": "code",
   "execution_count": 126,
   "id": "3a4489d6",
   "metadata": {},
   "outputs": [
    {
     "data": {
      "text/html": [
       "<div>\n",
       "<style scoped>\n",
       "    .dataframe tbody tr th:only-of-type {\n",
       "        vertical-align: middle;\n",
       "    }\n",
       "\n",
       "    .dataframe tbody tr th {\n",
       "        vertical-align: top;\n",
       "    }\n",
       "\n",
       "    .dataframe thead th {\n",
       "        text-align: right;\n",
       "    }\n",
       "</style>\n",
       "<table border=\"1\" class=\"dataframe\">\n",
       "  <thead>\n",
       "    <tr style=\"text-align: right;\">\n",
       "      <th></th>\n",
       "      <th>datetime</th>\n",
       "      <th>latitude</th>\n",
       "      <th>longitude</th>\n",
       "      <th>pressure</th>\n",
       "      <th>salinity</th>\n",
       "      <th>temperature</th>\n",
       "      <th>label</th>\n",
       "    </tr>\n",
       "  </thead>\n",
       "  <tbody>\n",
       "    <tr>\n",
       "      <th>107158</th>\n",
       "      <td>-0.012921</td>\n",
       "      <td>0.007223</td>\n",
       "      <td>0.388787</td>\n",
       "      <td>1.298061</td>\n",
       "      <td>0.586663</td>\n",
       "      <td>-0.156916</td>\n",
       "      <td>0</td>\n",
       "    </tr>\n",
       "    <tr>\n",
       "      <th>71534</th>\n",
       "      <td>-1.429395</td>\n",
       "      <td>1.265347</td>\n",
       "      <td>1.001266</td>\n",
       "      <td>0.519826</td>\n",
       "      <td>0.967276</td>\n",
       "      <td>-0.880471</td>\n",
       "      <td>0</td>\n",
       "    </tr>\n",
       "    <tr>\n",
       "      <th>103608</th>\n",
       "      <td>0.842185</td>\n",
       "      <td>-0.272558</td>\n",
       "      <td>-0.691385</td>\n",
       "      <td>0.497861</td>\n",
       "      <td>-1.195546</td>\n",
       "      <td>-0.250380</td>\n",
       "      <td>1</td>\n",
       "    </tr>\n",
       "    <tr>\n",
       "      <th>72958</th>\n",
       "      <td>-0.592390</td>\n",
       "      <td>0.392775</td>\n",
       "      <td>1.079425</td>\n",
       "      <td>1.377737</td>\n",
       "      <td>0.970699</td>\n",
       "      <td>-0.505042</td>\n",
       "      <td>0</td>\n",
       "    </tr>\n",
       "    <tr>\n",
       "      <th>91376</th>\n",
       "      <td>-0.527999</td>\n",
       "      <td>0.440708</td>\n",
       "      <td>1.096360</td>\n",
       "      <td>0.860923</td>\n",
       "      <td>0.970815</td>\n",
       "      <td>-0.513968</td>\n",
       "      <td>0</td>\n",
       "    </tr>\n",
       "    <tr>\n",
       "      <th>...</th>\n",
       "      <td>...</td>\n",
       "      <td>...</td>\n",
       "      <td>...</td>\n",
       "      <td>...</td>\n",
       "      <td>...</td>\n",
       "      <td>...</td>\n",
       "      <td>...</td>\n",
       "    </tr>\n",
       "    <tr>\n",
       "      <th>102515</th>\n",
       "      <td>0.850576</td>\n",
       "      <td>-0.500787</td>\n",
       "      <td>-0.675920</td>\n",
       "      <td>-0.313105</td>\n",
       "      <td>-1.197809</td>\n",
       "      <td>-0.077630</td>\n",
       "      <td>1</td>\n",
       "    </tr>\n",
       "    <tr>\n",
       "      <th>79360</th>\n",
       "      <td>-0.519967</td>\n",
       "      <td>0.385320</td>\n",
       "      <td>1.148352</td>\n",
       "      <td>-0.640852</td>\n",
       "      <td>0.981955</td>\n",
       "      <td>0.337181</td>\n",
       "      <td>0</td>\n",
       "    </tr>\n",
       "    <tr>\n",
       "      <th>59187</th>\n",
       "      <td>0.333137</td>\n",
       "      <td>-0.639724</td>\n",
       "      <td>-0.286320</td>\n",
       "      <td>-0.858775</td>\n",
       "      <td>-1.226935</td>\n",
       "      <td>1.580561</td>\n",
       "      <td>1</td>\n",
       "    </tr>\n",
       "    <tr>\n",
       "      <th>29743</th>\n",
       "      <td>0.139989</td>\n",
       "      <td>-0.788897</td>\n",
       "      <td>0.267663</td>\n",
       "      <td>-0.532751</td>\n",
       "      <td>0.593509</td>\n",
       "      <td>0.321953</td>\n",
       "      <td>0</td>\n",
       "    </tr>\n",
       "    <tr>\n",
       "      <th>70680</th>\n",
       "      <td>0.679206</td>\n",
       "      <td>0.024870</td>\n",
       "      <td>-0.737756</td>\n",
       "      <td>-0.392781</td>\n",
       "      <td>-1.199840</td>\n",
       "      <td>0.163905</td>\n",
       "      <td>1</td>\n",
       "    </tr>\n",
       "  </tbody>\n",
       "</table>\n",
       "<p>124522 rows × 7 columns</p>\n",
       "</div>"
      ],
      "text/plain": [
       "        datetime  latitude  longitude  pressure  salinity  temperature  label\n",
       "107158 -0.012921  0.007223   0.388787  1.298061  0.586663    -0.156916      0\n",
       "71534  -1.429395  1.265347   1.001266  0.519826  0.967276    -0.880471      0\n",
       "103608  0.842185 -0.272558  -0.691385  0.497861 -1.195546    -0.250380      1\n",
       "72958  -0.592390  0.392775   1.079425  1.377737  0.970699    -0.505042      0\n",
       "91376  -0.527999  0.440708   1.096360  0.860923  0.970815    -0.513968      0\n",
       "...          ...       ...        ...       ...       ...          ...    ...\n",
       "102515  0.850576 -0.500787  -0.675920 -0.313105 -1.197809    -0.077630      1\n",
       "79360  -0.519967  0.385320   1.148352 -0.640852  0.981955     0.337181      0\n",
       "59187   0.333137 -0.639724  -0.286320 -0.858775 -1.226935     1.580561      1\n",
       "29743   0.139989 -0.788897   0.267663 -0.532751  0.593509     0.321953      0\n",
       "70680   0.679206  0.024870  -0.737756 -0.392781 -1.199840     0.163905      1\n",
       "\n",
       "[124522 rows x 7 columns]"
      ]
     },
     "execution_count": 126,
     "metadata": {},
     "output_type": "execute_result"
    }
   ],
   "source": [
    "# combine\n",
    "oc_result = pd.concat([pd.DataFrame(X_re, columns=['datetime', 'latitude', 'longitude', 'pressure', 'salinity',\n",
    "       'temperature']),pd.Series(y_re, name='label'), pd.Series(scores3, name='score')], axis=1)\n",
    "\n",
    "oc_data=oc_result.sort_values(by='score', ascending=False)\n",
    "oc_data.to_csv(\"oc_score_high.csv\")\n",
    "train_data_oc=oc_data.iloc[:,:7]\n",
    "train_data_oc"
   ]
  },
  {
   "cell_type": "markdown",
   "id": "a4d55503",
   "metadata": {},
   "source": [
    "# active learning"
   ]
  },
  {
   "cell_type": "code",
   "execution_count": null,
   "id": "96399a3b",
   "metadata": {},
   "outputs": [],
   "source": [
    "n_initial= 100\n",
    "N_QUERIES = 1000\n",
    "#N_QUERIES = 200"
   ]
  },
  {
   "cell_type": "code",
   "execution_count": null,
   "id": "0c8e3cd9",
   "metadata": {},
   "outputs": [],
   "source": [
    "def al(clf,strategy,X_L,y_L):\n",
    "    learner = ActiveLearner(estimator=clf,\n",
    "                            query_strategy=strategy,\n",
    "                            X_training=X_L, y_training=y_L)\n",
    "    return learner"
   ]
  },
  {
   "cell_type": "code",
   "execution_count": null,
   "id": "a53171fe",
   "metadata": {},
   "outputs": [],
   "source": [
    "def al_learn(clf,sampling,X_initial,y_initial,X_re,y_re):\n",
    "    X_L = X_initial.copy()\n",
    "    y_L = y_initial.copy()\n",
    "    X_U,y_U =X_re.copy(),y_re.copy()\n",
    "    #print(len(X_U),len(y_U))\n",
    "    learner = al(clf,sampling,X_L,y_L)\n",
    "    y_pre=learner.predict(X_test)\n",
    "    unqueried_kappa=cohen_kappa_score(y_tru, y_pre)\n",
    "    unqueried_f1=f1_score(y_tru,y_pre)\n",
    "    #print(\"unqueried --------------------->\",unqueried_score)\n",
    "    kappa_history = [unqueried_kappa]\n",
    "    f1_history = [unqueried_f1]\n",
    "    \n",
    "    # Query\n",
    "    for index in range(N_QUERIES):\n",
    "        query_index=0\n",
    "        # Teach ActiveLearner model the record it has requested.\n",
    "        X, y = X_U[query_index].reshape(1, -1), y_U[query_index].reshape(1, )\n",
    "        #print(index+1,\"query label --------------------->\",y)\n",
    "        learner.teach(X=X, y=y)\n",
    "        \n",
    "        X_U, y_U = np.delete(X_U, query_index, axis=0), np.delete(y_U, query_index)\n",
    "        y_pre=learner.predict(X_test)\n",
    "        kappa=cohen_kappa_score(y_tru, y_pre)\n",
    "        f1=f1_score(y_tru,y_pre)\n",
    "        #print(index+1,\"-------------------->\",kappa)\n",
    "        #print(index+1,\"-------------------->\",f1)\n",
    "        # Recall precision F1\n",
    "        kappa_history.append(kappa)\n",
    "        f1_history.append(f1)\n",
    "    #print(len(X_U))\n",
    "    #draw(performance_history)\n",
    "    df_scores= pd.concat([pd.DataFrame(kappa_history,columns=['kappa']), \n",
    "                          pd.DataFrame(f1_history,columns=['f1'])],\n",
    "                         axis=1)\n",
    "    return df_scores "
   ]
  },
  {
   "cell_type": "code",
   "execution_count": null,
   "id": "26c3b780",
   "metadata": {},
   "outputs": [],
   "source": [
    "# metric\n",
    "def computeMetric(y_tru,y_pre):\n",
    "    acc = accuracy_score(y_tru,y_pre)\n",
    "    pre=precision_score(y_tru,y_pre)\n",
    "    recall=recall_score(y_tru,y_pre)\n",
    "    cm=confusion_matrix(y_tru,y_pre)\n",
    "    f1 = f1_score(y_tru,y_pre)\n",
    "    mcc=matthews_corrcoef(y_tru, y_pre)\n",
    "    kappa=cohen_kappa_score(y_tru, y_pre)\n",
    "    bac=balanced_accuracy_score(y_tru,y_pre)\n",
    "    print(\"acc:\",acc)\n",
    "    print(\"balanced acc:\",bac)\n",
    "    print(\"precision:\",pre)\n",
    "    print(\"recall:\",recall)\n",
    "    print(\"cm:\",cm)\n",
    "    print(\"f1:\",f1)\n",
    "    print(\"MCC:\", mcc)\n",
    "    print(\"Kappa:\",kappa)\n",
    "    \n",
    "    # confusion matrix\n",
    "#     cmap1 = sns.diverging_palette(260,-10,s=50, l=75, n=5, as_cmap=True)\n",
    "#     plt.subplots(figsize=(12,8))\n",
    "#     cf_matrix = confusion_matrix(y_tru, y_pre)\n",
    "#     sns.heatmap(cf_matrix/np.sum(cf_matrix), cmap = cmap1, annot = True, annot_kws = {'size':15})\n",
    "    \n",
    "    return kappa"
   ]
  },
  {
   "cell_type": "code",
   "execution_count": null,
   "id": "f1f79a4c",
   "metadata": {},
   "outputs": [],
   "source": [
    "#clf4 catboost\n",
    "clf4 = CatBoostClassifier(loss_function='Logloss')\n",
    "# dic4 = {'learning_rate': [0.03, 0.1],\n",
    "#         'depth': [4, 6, 10],\n",
    "#         'l2_leaf_reg': [1, 3, 5, 7, 9]}\n",
    "# #para3=getPar(clf4,dic4,test_set,10)\n",
    "\n",
    "# grid_search_result = clf4.grid_search(dic4, \n",
    "#                                        X=X_Pool, \n",
    "#                                        y=y_Pool)\n",
    "\n",
    "clf4.fit(X_Pool, y_Pool)\n",
    "y_pre=clf4.predict(X_test)\n",
    "computeMetric(y_tru,y_pre)"
   ]
  },
  {
   "cell_type": "markdown",
   "id": "1d432b83",
   "metadata": {},
   "source": [
    "# auto"
   ]
  },
  {
   "cell_type": "code",
   "execution_count": null,
   "id": "03efeafc",
   "metadata": {},
   "outputs": [],
   "source": [
    "x,y=train_set.shape\n",
    "#pool \n",
    "X_re = train_data_auto.iloc[:,0:y-1].values\n",
    "y_re = train_data_auto.iloc[:,y-1].values\n",
    "print(len(X_re),len(X_initial))"
   ]
  },
  {
   "cell_type": "code",
   "execution_count": null,
   "id": "d12e3d99",
   "metadata": {},
   "outputs": [],
   "source": [
    "sampling=uncertainty_sampling"
   ]
  },
  {
   "cell_type": "code",
   "execution_count": null,
   "id": "3c4d57ae",
   "metadata": {},
   "outputs": [],
   "source": [
    "metric1 = al_learn(clf4,sampling,X_initial,y_initial,X_re,y_re)"
   ]
  },
  {
   "cell_type": "code",
   "execution_count": null,
   "id": "b4b1200a",
   "metadata": {},
   "outputs": [],
   "source": [
    "metric1.rename(columns = {'kappa' : 'Auto_Kappa', 'f1' : 'Auto_F1'}, inplace = True)"
   ]
  },
  {
   "cell_type": "code",
   "execution_count": null,
   "id": "0feda6d1",
   "metadata": {},
   "outputs": [],
   "source": [
    "fig, ax = plt.subplots(figsize=(8.5, 2), dpi=130)\n",
    "x = np.linspace(100, 1101, 1001)\n",
    "l1=plt.plot(x, metric1)\n",
    "plt.legend(metric1.columns)\n",
    "plt.title('Kappa over Queried Instance Amount')\n",
    "plt.xlabel('Number of Queried Instance')\n",
    "plt.ylabel('Kappa')\n",
    "plt.show()"
   ]
  },
  {
   "cell_type": "markdown",
   "id": "e2f7951d",
   "metadata": {},
   "source": [
    "# iforest"
   ]
  },
  {
   "cell_type": "code",
   "execution_count": null,
   "id": "ed87f20b",
   "metadata": {},
   "outputs": [],
   "source": [
    "x,y=train_set.shape\n",
    "#pool \n",
    "X_re = train_data_if.iloc[:,0:y-1].values\n",
    "y_re = train_data_if.iloc[:,y-1].values\n",
    "print(len(X_re),len(X_initial))"
   ]
  },
  {
   "cell_type": "code",
   "execution_count": null,
   "id": "bf7067c3",
   "metadata": {},
   "outputs": [],
   "source": [
    "metric2 = al_learn(clf4,sampling,X_initial,y_initial,X_re,y_re)"
   ]
  },
  {
   "cell_type": "code",
   "execution_count": null,
   "id": "a2d414a4",
   "metadata": {},
   "outputs": [],
   "source": [
    "metric2.rename(columns = {'kappa' : 'IF_Kappa', 'f1' : 'IF_F1'}, inplace = True)"
   ]
  },
  {
   "cell_type": "code",
   "execution_count": null,
   "id": "c30ee5ca",
   "metadata": {},
   "outputs": [],
   "source": [
    "metric2"
   ]
  },
  {
   "cell_type": "markdown",
   "id": "63d66b35",
   "metadata": {},
   "source": [
    "# oneclasssvm"
   ]
  },
  {
   "cell_type": "code",
   "execution_count": null,
   "id": "2f4d4a4c",
   "metadata": {},
   "outputs": [],
   "source": [
    "#pool \n",
    "X_re = train_data_oc.iloc[:,0:y-1].values\n",
    "y_re = train_data_oc.iloc[:,y-1].values"
   ]
  },
  {
   "cell_type": "code",
   "execution_count": null,
   "id": "0981402b",
   "metadata": {},
   "outputs": [],
   "source": [
    "metric3 = al_learn(clf4,sampling,X_initial,y_initial,X_re,y_re)"
   ]
  },
  {
   "cell_type": "code",
   "execution_count": null,
   "id": "48f19a9f",
   "metadata": {},
   "outputs": [],
   "source": [
    "metric3.rename(columns = {'kappa' : 'OCSVM_Kappa', 'f1' : 'OCSVM_F1'}, inplace = True)"
   ]
  },
  {
   "cell_type": "code",
   "execution_count": null,
   "id": "9fce87e3",
   "metadata": {},
   "outputs": [],
   "source": [
    "metric3"
   ]
  },
  {
   "cell_type": "markdown",
   "id": "cef96a95",
   "metadata": {},
   "source": [
    "# all"
   ]
  },
  {
   "cell_type": "code",
   "execution_count": null,
   "id": "22ccade8",
   "metadata": {},
   "outputs": [],
   "source": [
    "metrics=pd.concat([metric1,metric2,metric3],axis=1)\n",
    "metrics"
   ]
  },
  {
   "cell_type": "code",
   "execution_count": null,
   "id": "0c781931",
   "metadata": {},
   "outputs": [],
   "source": [
    "metrics.to_csv(\"./result/random_high_un_1000.csv\")"
   ]
  },
  {
   "cell_type": "code",
   "execution_count": null,
   "id": "22a46699",
   "metadata": {},
   "outputs": [],
   "source": []
  }
 ],
 "metadata": {
  "kernelspec": {
   "display_name": "al",
   "language": "python",
   "name": "al"
  },
  "language_info": {
   "codemirror_mode": {
    "name": "ipython",
    "version": 3
   },
   "file_extension": ".py",
   "mimetype": "text/x-python",
   "name": "python",
   "nbconvert_exporter": "python",
   "pygments_lexer": "ipython3",
   "version": "3.8.0"
  }
 },
 "nbformat": 4,
 "nbformat_minor": 5
}
