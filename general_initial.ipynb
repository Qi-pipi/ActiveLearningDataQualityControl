{
 "cells": [
  {
   "cell_type": "code",
   "execution_count": 2,
   "id": "f48aac87",
   "metadata": {},
   "outputs": [],
   "source": [
    "import numpy as np\n",
    "import pandas as pd\n",
    "import matplotlib.pyplot as plt\n",
    "import matplotlib as mpl\n",
    "import seaborn as sns\n",
    "\n",
    "\n",
    "from sklearn.datasets import make_blobs\n",
    "from sklearn.metrics import f1_score,accuracy_score\n",
    "from sklearn.metrics import precision_score, recall_score, confusion_matrix, classification_report\n",
    "from sklearn.metrics import matthews_corrcoef,cohen_kappa_score,balanced_accuracy_score\n",
    "\n",
    "\n",
    "import lightgbm as lgb\n",
    "from sklearn.gaussian_process import GaussianProcessClassifier\n",
    "from sklearn.neighbors import KNeighborsClassifier\n",
    "import xgboost as xgb\n",
    "from catboost import CatBoostClassifier\n",
    "\n",
    "from modAL.models import ActiveLearner, Committee\n",
    "from modAL.uncertainty import uncertainty_sampling,margin_sampling,entropy_sampling\n",
    "from functools import partial\n",
    "from modAL.batch import uncertainty_batch_sampling\n",
    "\n",
    "import warnings\n",
    "\n",
    "warnings.filterwarnings('ignore')"
   ]
  },
  {
   "cell_type": "code",
   "execution_count": 3,
   "id": "0122c58f",
   "metadata": {},
   "outputs": [],
   "source": [
    "#def compute ratio\n",
    "def comp_ratio(data):\n",
    "    instance = data[(data['label']==1)]\n",
    "    rate=len(instance)/len(data)*100\n",
    "    print(rate)\n",
    "    return rate"
   ]
  },
  {
   "cell_type": "markdown",
   "id": "19f5d127",
   "metadata": {},
   "source": [
    "# Splite Dataset"
   ]
  },
  {
   "cell_type": "code",
   "execution_count": 34,
   "id": "e1495332",
   "metadata": {},
   "outputs": [
    {
     "data": {
      "text/plain": [
       "(124622, 53497)"
      ]
     },
     "execution_count": 34,
     "metadata": {},
     "output_type": "execute_result"
    }
   ],
   "source": [
    "train_set=pd.read_csv('./randomtrain/3901890.csv') #3901890 6903102\n",
    "test_set=pd.read_csv('./randomtest/3901890.csv')\n",
    "len(train_set),len(test_set)"
   ]
  },
  {
   "cell_type": "code",
   "execution_count": 35,
   "id": "d0d1f855",
   "metadata": {},
   "outputs": [],
   "source": [
    "#train_set2,test_set2=getLastSplit(data,0.3,dirty_ratio)"
   ]
  },
  {
   "cell_type": "code",
   "execution_count": 36,
   "id": "d9a296cc",
   "metadata": {},
   "outputs": [
    {
     "name": "stdout",
     "output_type": "stream",
     "text": [
      "29.35918216687262\n",
      "29.364263416640185\n"
     ]
    },
    {
     "data": {
      "text/plain": [
       "29.364263416640185"
      ]
     },
     "execution_count": 36,
     "metadata": {},
     "output_type": "execute_result"
    }
   ],
   "source": [
    "comp_ratio(train_set)\n",
    "comp_ratio(test_set)"
   ]
  },
  {
   "cell_type": "markdown",
   "id": "0695922d",
   "metadata": {},
   "source": [
    "# Random"
   ]
  },
  {
   "cell_type": "code",
   "execution_count": 37,
   "id": "61fca32e",
   "metadata": {},
   "outputs": [],
   "source": [
    "x,y=train_set.shape\n",
    "#pool \n",
    "X_Pool = train_set.iloc[:,0:y-1].values\n",
    "y_Pool = train_set.iloc[:,y-1].values"
   ]
  },
  {
   "cell_type": "code",
   "execution_count": 38,
   "id": "870e633f",
   "metadata": {},
   "outputs": [
    {
     "name": "stdout",
     "output_type": "stream",
     "text": [
      "53497 53497\n"
     ]
    }
   ],
   "source": [
    "#test set\n",
    "X_test=test_set.iloc[:,0:y-1]\n",
    "y_tru=test_set.iloc[:,y-1]\n",
    "print(len(X_test),len(y_tru))"
   ]
  },
  {
   "cell_type": "code",
   "execution_count": 39,
   "id": "9bc3675e",
   "metadata": {},
   "outputs": [],
   "source": [
    "#Pool\n",
    "def initial_random(n_initial,X_Pool,y_Pool):\n",
    "    #inital\n",
    "    initial_idx = np.random.choice(range(len(X_Pool)), size=n_initial, replace=False)\n",
    "    #initial Labeled data\n",
    "    #X_initial, y_initial = X_train[], y_train[initial_idx]\n",
    "    X_L = X_Pool[initial_idx]\n",
    "    y_L = y_Pool[initial_idx]\n",
    "    # Unlabeled data\n",
    "    # X_U = Pool_X[ini_num:]\n",
    "    # y_U = Pool_X[ini_num:]\n",
    "    X_U, y_U = np.delete(X_Pool, initial_idx, axis=0), np.delete(y_Pool, initial_idx, axis=0)\n",
    "    return X_L,y_L,X_U,y_U"
   ]
  },
  {
   "cell_type": "code",
   "execution_count": 44,
   "id": "1f98d3e7",
   "metadata": {},
   "outputs": [],
   "source": [
    "# Set RNG seed for reproducibility.\n",
    "RANDOM_STATE_SEED = 84\n",
    "np.random.seed(RANDOM_STATE_SEED)\n",
    "\n",
    "n_initial = 50\n",
    "N_QUERIES = 200"
   ]
  },
  {
   "cell_type": "code",
   "execution_count": 45,
   "id": "d8dfa452",
   "metadata": {},
   "outputs": [
    {
     "name": "stdout",
     "output_type": "stream",
     "text": [
      "(124572, 6) (50, 6)\n",
      "(124572,) (50,)\n"
     ]
    }
   ],
   "source": [
    "X_initial,y_initial,X_re,y_re=initial_random(n_initial,X_Pool,y_Pool)\n",
    "df_X_i = pd.DataFrame(X_initial)\n",
    "df_y_i = pd.DataFrame(y_initial)\n",
    "df_X_r = pd.DataFrame(X_re)\n",
    "df_y_r = pd.DataFrame(y_re)\n",
    "\n",
    "\n",
    "df_X_i.to_csv('./randomtrain/3901890_X_initial_05.csv', index=False)\n",
    "df_y_i.to_csv('./randomtrain/3901890_y_initial_05.csv', index=False)\n",
    "df_X_r.to_csv('./randomtrain/3901890_X_re_05.csv', index=False)\n",
    "df_y_r.to_csv('./randomtrain/3901890_y_re_05.csv', index=False)\n",
    "\n",
    "# X_initial=pd.read_csv('./randomtrain/6903102_X_initial.csv').values\n",
    "# y_initial=pd.read_csv('./randomtrain/6903102_y_initial.csv').values.ravel()\n",
    "# X_re=pd.read_csv('./randomtrain/6903102_X_re.csv').values\n",
    "# y_re=pd.read_csv('./randomtrain/6903102_y_re.csv').values.ravel()\n",
    "print(X_re.shape,X_initial.shape)\n",
    "print(y_re.shape,y_initial.shape)"
   ]
  },
  {
   "cell_type": "code",
   "execution_count": null,
   "id": "8ffa89d9",
   "metadata": {},
   "outputs": [],
   "source": []
  },
  {
   "cell_type": "code",
   "execution_count": null,
   "id": "eea78c74",
   "metadata": {},
   "outputs": [],
   "source": []
  },
  {
   "cell_type": "code",
   "execution_count": null,
   "id": "86ba8ef8",
   "metadata": {},
   "outputs": [],
   "source": []
  },
  {
   "cell_type": "code",
   "execution_count": null,
   "id": "4bbcb6e8",
   "metadata": {},
   "outputs": [],
   "source": []
  },
  {
   "cell_type": "code",
   "execution_count": null,
   "id": "ee72d451",
   "metadata": {},
   "outputs": [],
   "source": []
  },
  {
   "cell_type": "code",
   "execution_count": null,
   "id": "cbbdc713",
   "metadata": {},
   "outputs": [],
   "source": []
  },
  {
   "cell_type": "markdown",
   "id": "781e4d53",
   "metadata": {},
   "source": [
    "# Unsupervised"
   ]
  },
  {
   "cell_type": "code",
   "execution_count": 14,
   "id": "f03b80d3",
   "metadata": {},
   "outputs": [],
   "source": [
    "#Pool\n",
    "def initial_un(n_initial,X_Pool,y_Pool):\n",
    "    #initial Labeled data\n",
    "    X_L = X_Pool[:n_initial]\n",
    "    y_L = y_Pool[:n_initial]\n",
    "    # Unlabeled data\n",
    "    X_U = X_Pool[n_initial:]\n",
    "    y_U = y_Pool[n_initial:]\n",
    "    return X_L,y_L,X_U,y_U"
   ]
  },
  {
   "cell_type": "markdown",
   "id": "c6b177b0",
   "metadata": {},
   "source": [
    "## iforest"
   ]
  },
  {
   "cell_type": "code",
   "execution_count": 17,
   "id": "35bbcce5",
   "metadata": {},
   "outputs": [],
   "source": [
    "train_data_auto=pd.read_csv(\"./other/oc_score_low_top_seadata.csv\")"
   ]
  },
  {
   "cell_type": "code",
   "execution_count": 18,
   "id": "1967cdcd",
   "metadata": {},
   "outputs": [],
   "source": [
    "# pool \n",
    "X_Pool = train_data_auto.iloc[:,0:y-1].values\n",
    "y_Pool = train_data_auto.iloc[:,y-1].values"
   ]
  },
  {
   "cell_type": "code",
   "execution_count": 19,
   "id": "276344c7",
   "metadata": {},
   "outputs": [
    {
     "data": {
      "text/plain": [
       "array([[ 1.32432000e+05, -1.09772984e+00, -4.77683642e-01,\n",
       "        -5.17109417e-01, -3.81173064e-01,  6.93024208e-01],\n",
       "       [ 4.20860000e+04, -1.09780278e+00, -4.78415494e-01,\n",
       "        -5.09796307e-01, -3.81173064e-01,  6.93024208e-01],\n",
       "       [ 6.37400000e+03, -4.56215697e-01, -4.99556132e-01,\n",
       "        -1.21803449e+00, -3.81173064e-01,  6.93024208e-01],\n",
       "       ...,\n",
       "       [ 1.64090000e+04, -4.47973389e-01, -4.78309177e-01,\n",
       "        -1.76842072e-01, -9.21040942e-02, -2.16041849e-01],\n",
       "       [ 1.45389000e+05, -4.48119271e-01, -4.76555033e-01,\n",
       "        -1.05320423e-01, -9.21040942e-02, -2.16041849e-01],\n",
       "       [ 8.31650000e+04, -4.48119271e-01, -4.76620553e-01,\n",
       "        -1.06167501e-01, -9.21040942e-02, -2.16041849e-01]])"
      ]
     },
     "execution_count": 19,
     "metadata": {},
     "output_type": "execute_result"
    }
   ],
   "source": [
    "X_Pool"
   ]
  },
  {
   "cell_type": "code",
   "execution_count": null,
   "id": "a2faee78",
   "metadata": {},
   "outputs": [],
   "source": [
    "X_in_au,y_in_au,X_re_au,y_re_au=initial_data(n_initial,X_Pool,y_Pool)\n",
    "print(len(X_in_au),len(X_re_au))"
   ]
  }
 ],
 "metadata": {
  "kernelspec": {
   "display_name": "al",
   "language": "python",
   "name": "al"
  },
  "language_info": {
   "codemirror_mode": {
    "name": "ipython",
    "version": 3
   },
   "file_extension": ".py",
   "mimetype": "text/x-python",
   "name": "python",
   "nbconvert_exporter": "python",
   "pygments_lexer": "ipython3",
   "version": "3.8.0"
  }
 },
 "nbformat": 4,
 "nbformat_minor": 5
}
