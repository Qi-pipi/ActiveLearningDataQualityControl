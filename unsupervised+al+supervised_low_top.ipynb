{
 "cells": [
  {
   "cell_type": "code",
   "execution_count": 2,
   "id": "2a12e7f0",
   "metadata": {},
   "outputs": [
    {
     "name": "stderr",
     "output_type": "stream",
     "text": [
      "2023-04-26 12:24:22.888889: I tensorflow/core/platform/cpu_feature_guard.cc:193] This TensorFlow binary is optimized with oneAPI Deep Neural Network Library (oneDNN) to use the following CPU instructions in performance-critical operations:  AVX2 FMA\n",
      "To enable them in other operations, rebuild TensorFlow with the appropriate compiler flags.\n"
     ]
    }
   ],
   "source": [
    "import numpy as np\n",
    "import pandas as pd\n",
    "import matplotlib.pyplot as plt\n",
    "import matplotlib as mpl\n",
    "import seaborn as sns\n",
    "\n",
    "#unsupervised\n",
    "from sklearn.model_selection import GridSearchCV\n",
    "from sklearn.ensemble import IsolationForest\n",
    "from sklearn.datasets import make_blobs\n",
    "from sklearn.preprocessing import MinMaxScaler\n",
    "from sklearn.svm import OneClassSVM\n",
    "from tensorflow import keras\n",
    "\n",
    "#supervised\n",
    "import lightgbm as lgb\n",
    "from sklearn.gaussian_process import GaussianProcessClassifier\n",
    "from sklearn.neighbors import KNeighborsClassifier\n",
    "import xgboost as xgb\n",
    "from catboost import CatBoostClassifier\n",
    "\n",
    "\n",
    "#al\n",
    "from modAL.models import ActiveLearner\n",
    "from modAL.uncertainty import uncertainty_sampling,margin_sampling,entropy_sampling\n",
    "from modAL.disagreement import KL_max_disagreement\n",
    "from modAL.batch import uncertainty_batch_sampling\n",
    "\n",
    "#metric\n",
    "from sklearn.metrics import f1_score,accuracy_score\n",
    "from sklearn.metrics import precision_score, recall_score, confusion_matrix, classification_report\n",
    "from sklearn.metrics import matthews_corrcoef,cohen_kappa_score,balanced_accuracy_score\n",
    "from sklearn.metrics import make_scorer\n",
    "\n",
    "#warnings\n",
    "import warnings\n",
    "\n",
    "warnings.filterwarnings('ignore')"
   ]
  },
  {
   "cell_type": "code",
   "execution_count": 3,
   "id": "80cac34e",
   "metadata": {},
   "outputs": [
    {
     "name": "stdout",
     "output_type": "stream",
     "text": [
      "196984 84422\n",
      "84422 84422\n"
     ]
    }
   ],
   "source": [
    "float_cd='PR_PF_4903220'\n",
    "\n",
    "\n",
    "train_set=pd.read_csv('./randomtrain/'+float_cd+'.csv')\n",
    "test_set=pd.read_csv('./randomtest/'+float_cd+'.csv')\n",
    "print(len(train_set),len(test_set))\n",
    "\n",
    "x,y=train_set.shape\n",
    "#test set\n",
    "X_test=test_set.iloc[:,0:y-2]\n",
    "y_tru=test_set.iloc[:,y-1]\n",
    "print(len(X_test),len(y_tru))"
   ]
  },
  {
   "cell_type": "code",
   "execution_count": 66,
   "id": "ff76c921",
   "metadata": {},
   "outputs": [
    {
     "data": {
      "text/plain": [
       "array([0, 1])"
      ]
     },
     "execution_count": 66,
     "metadata": {},
     "output_type": "execute_result"
    }
   ],
   "source": [
    "test_set['label'].unique()"
   ]
  },
  {
   "cell_type": "code",
   "execution_count": 69,
   "id": "7e3deb44",
   "metadata": {},
   "outputs": [],
   "source": [
    "train_set1=train_set.iloc[:,:y-2]\n",
    "test_set1=train_set.iloc[:,:y-1]"
   ]
  },
  {
   "cell_type": "code",
   "execution_count": 5,
   "id": "2a92db1f",
   "metadata": {},
   "outputs": [],
   "source": [
    "#this function use random grid search to find best parameters\n",
    "def getPar(model,dist,data,niter):\n",
    "    x,y=data.shape\n",
    "    clf = model\n",
    "    param_dist = dist\n",
    "    scoring = make_scorer(f1_score)\n",
    "    grid_search = GridSearchCV(clf, param_dist, cv=5, scoring=scoring)\n",
    "    grid_search.fit(data)\n",
    "    print(\"Best parameters:\", grid_search.best_params_)\n",
    "    print(\"Best score:\", grid_search.best_score_)\n",
    "    \n",
    "    return grid_search.best_params_"
   ]
  },
  {
   "cell_type": "markdown",
   "id": "0369c332",
   "metadata": {},
   "source": [
    "# iforest"
   ]
  },
  {
   "cell_type": "code",
   "execution_count": 6,
   "id": "000dab63",
   "metadata": {},
   "outputs": [
    {
     "name": "stdout",
     "output_type": "stream",
     "text": [
      "Best parameters: {'contamination': 0.01, 'max_samples': 0.1, 'n_estimators': 10}\n",
      "Best score: nan\n"
     ]
    }
   ],
   "source": [
    "iforest = IsolationForest(n_estimators=100, contamination='auto')\n",
    "params = {'n_estimators': [10, 50, 100],\n",
    "          'max_samples': [0.1, 0.5, 1.0],\n",
    "          'contamination': [0.01, 0.05, 0.1]}\n",
    "\n",
    "para=getPar(iforest,params,train_set1,10)\n",
    "\n",
    "\n",
    "iforest = IsolationForest(n_estimators=para['n_estimators'],max_samples=para['max_samples'],\n",
    "                                  contamination=para['contamination'])"
   ]
  },
  {
   "cell_type": "code",
   "execution_count": 7,
   "id": "2a81b693",
   "metadata": {},
   "outputs": [],
   "source": [
    "# compute score\n",
    "iforest.fit(train_set1)\n",
    "if_scores = -iforest.score_samples(train_set1)"
   ]
  },
  {
   "cell_type": "code",
   "execution_count": 8,
   "id": "1b6a8e38",
   "metadata": {},
   "outputs": [],
   "source": [
    "# combine\n",
    "if_result = pd.concat([train_set,pd.Series(if_scores, name='score')], axis=1)\n",
    "\n",
    "# ascending by score\n",
    "if_data=if_result.sort_values(by='score', ascending=False)\n",
    "if_data.to_csv(\"if_score_\"+float_cd+\"_top.csv\")"
   ]
  },
  {
   "cell_type": "code",
   "execution_count": 9,
   "id": "9c735ac4",
   "metadata": {},
   "outputs": [
    {
     "data": {
      "text/html": [
       "<div>\n",
       "<style scoped>\n",
       "    .dataframe tbody tr th:only-of-type {\n",
       "        vertical-align: middle;\n",
       "    }\n",
       "\n",
       "    .dataframe tbody tr th {\n",
       "        vertical-align: top;\n",
       "    }\n",
       "\n",
       "    .dataframe thead th {\n",
       "        text-align: right;\n",
       "    }\n",
       "</style>\n",
       "<table border=\"1\" class=\"dataframe\">\n",
       "  <thead>\n",
       "    <tr style=\"text-align: right;\">\n",
       "      <th></th>\n",
       "      <th>Date</th>\n",
       "      <th>Latitude</th>\n",
       "      <th>longitude</th>\n",
       "      <th>Pressure</th>\n",
       "      <th>Salinity</th>\n",
       "      <th>Temperature</th>\n",
       "      <th>QC</th>\n",
       "    </tr>\n",
       "  </thead>\n",
       "  <tbody>\n",
       "    <tr>\n",
       "      <th>112621</th>\n",
       "      <td>-1.599904</td>\n",
       "      <td>-1.507198</td>\n",
       "      <td>-2.358760</td>\n",
       "      <td>2.247687</td>\n",
       "      <td>-1.357423</td>\n",
       "      <td>-1.537409</td>\n",
       "      <td>0</td>\n",
       "    </tr>\n",
       "    <tr>\n",
       "      <th>77384</th>\n",
       "      <td>-1.599904</td>\n",
       "      <td>-1.507198</td>\n",
       "      <td>-2.358760</td>\n",
       "      <td>-0.593580</td>\n",
       "      <td>0.577220</td>\n",
       "      <td>0.617612</td>\n",
       "      <td>0</td>\n",
       "    </tr>\n",
       "    <tr>\n",
       "      <th>196135</th>\n",
       "      <td>-1.577288</td>\n",
       "      <td>-1.570301</td>\n",
       "      <td>-2.242643</td>\n",
       "      <td>-0.584182</td>\n",
       "      <td>0.544927</td>\n",
       "      <td>0.584851</td>\n",
       "      <td>0</td>\n",
       "    </tr>\n",
       "    <tr>\n",
       "      <th>173222</th>\n",
       "      <td>-1.599904</td>\n",
       "      <td>-1.507198</td>\n",
       "      <td>-2.358760</td>\n",
       "      <td>-0.590447</td>\n",
       "      <td>0.559606</td>\n",
       "      <td>0.599520</td>\n",
       "      <td>0</td>\n",
       "    </tr>\n",
       "    <tr>\n",
       "      <th>6083</th>\n",
       "      <td>-1.599904</td>\n",
       "      <td>-1.507198</td>\n",
       "      <td>-2.358760</td>\n",
       "      <td>2.244555</td>\n",
       "      <td>-1.356445</td>\n",
       "      <td>-1.536920</td>\n",
       "      <td>0</td>\n",
       "    </tr>\n",
       "    <tr>\n",
       "      <th>...</th>\n",
       "      <td>...</td>\n",
       "      <td>...</td>\n",
       "      <td>...</td>\n",
       "      <td>...</td>\n",
       "      <td>...</td>\n",
       "      <td>...</td>\n",
       "      <td>...</td>\n",
       "    </tr>\n",
       "    <tr>\n",
       "      <th>79718</th>\n",
       "      <td>-0.764106</td>\n",
       "      <td>-0.149850</td>\n",
       "      <td>0.242207</td>\n",
       "      <td>-0.801020</td>\n",
       "      <td>0.851221</td>\n",
       "      <td>0.797187</td>\n",
       "      <td>0</td>\n",
       "    </tr>\n",
       "    <tr>\n",
       "      <th>55575</th>\n",
       "      <td>-0.764106</td>\n",
       "      <td>-0.149850</td>\n",
       "      <td>0.242207</td>\n",
       "      <td>-0.800143</td>\n",
       "      <td>0.849264</td>\n",
       "      <td>0.796821</td>\n",
       "      <td>0</td>\n",
       "    </tr>\n",
       "    <tr>\n",
       "      <th>181690</th>\n",
       "      <td>-0.764106</td>\n",
       "      <td>-0.149850</td>\n",
       "      <td>0.242207</td>\n",
       "      <td>-0.801396</td>\n",
       "      <td>0.854157</td>\n",
       "      <td>0.797799</td>\n",
       "      <td>0</td>\n",
       "    </tr>\n",
       "    <tr>\n",
       "      <th>162503</th>\n",
       "      <td>-0.764106</td>\n",
       "      <td>-0.149850</td>\n",
       "      <td>0.242207</td>\n",
       "      <td>-0.799955</td>\n",
       "      <td>0.858071</td>\n",
       "      <td>0.795354</td>\n",
       "      <td>0</td>\n",
       "    </tr>\n",
       "    <tr>\n",
       "      <th>56437</th>\n",
       "      <td>-0.764106</td>\n",
       "      <td>-0.149850</td>\n",
       "      <td>0.242207</td>\n",
       "      <td>-0.800331</td>\n",
       "      <td>0.849264</td>\n",
       "      <td>0.796943</td>\n",
       "      <td>0</td>\n",
       "    </tr>\n",
       "  </tbody>\n",
       "</table>\n",
       "<p>196984 rows × 7 columns</p>\n",
       "</div>"
      ],
      "text/plain": [
       "            Date  Latitude  longitude  Pressure  Salinity  Temperature  QC\n",
       "112621 -1.599904 -1.507198  -2.358760  2.247687 -1.357423    -1.537409   0\n",
       "77384  -1.599904 -1.507198  -2.358760 -0.593580  0.577220     0.617612   0\n",
       "196135 -1.577288 -1.570301  -2.242643 -0.584182  0.544927     0.584851   0\n",
       "173222 -1.599904 -1.507198  -2.358760 -0.590447  0.559606     0.599520   0\n",
       "6083   -1.599904 -1.507198  -2.358760  2.244555 -1.356445    -1.536920   0\n",
       "...          ...       ...        ...       ...       ...          ...  ..\n",
       "79718  -0.764106 -0.149850   0.242207 -0.801020  0.851221     0.797187   0\n",
       "55575  -0.764106 -0.149850   0.242207 -0.800143  0.849264     0.796821   0\n",
       "181690 -0.764106 -0.149850   0.242207 -0.801396  0.854157     0.797799   0\n",
       "162503 -0.764106 -0.149850   0.242207 -0.799955  0.858071     0.795354   0\n",
       "56437  -0.764106 -0.149850   0.242207 -0.800331  0.849264     0.796943   0\n",
       "\n",
       "[196984 rows x 7 columns]"
      ]
     },
     "execution_count": 9,
     "metadata": {},
     "output_type": "execute_result"
    }
   ],
   "source": [
    "train_data_if=if_data.iloc[:,:7]\n",
    "train_data_if"
   ]
  },
  {
   "cell_type": "markdown",
   "id": "0fb3290e",
   "metadata": {},
   "source": [
    "# autoencoder"
   ]
  },
  {
   "cell_type": "code",
   "execution_count": 10,
   "id": "dac09cc3",
   "metadata": {},
   "outputs": [
    {
     "name": "stderr",
     "output_type": "stream",
     "text": [
      "2023-04-26 12:51:56.000412: I tensorflow/core/platform/cpu_feature_guard.cc:193] This TensorFlow binary is optimized with oneAPI Deep Neural Network Library (oneDNN) to use the following CPU instructions in performance-critical operations:  AVX2 FMA\n",
      "To enable them in other operations, rebuild TensorFlow with the appropriate compiler flags.\n"
     ]
    }
   ],
   "source": [
    "# normalization\n",
    "scaler = MinMaxScaler()\n",
    "scaled_data = scaler.fit_transform(train_set1)\n",
    "\n",
    "#  Autoencoder model\n",
    "input_dim = scaled_data.shape[1]\n",
    "encoding_dim = 1\n",
    "hidden_dim = 2\n",
    "output_dim = input_dim\n",
    "input_layer = keras.layers.Input(shape=(input_dim,))\n",
    "encoder_layer1 = keras.layers.Dense(hidden_dim, activation='relu')(input_layer)\n",
    "encoder_layer2 = keras.layers.Dense(encoding_dim, activation='relu')(encoder_layer1)\n",
    "decoder_layer1 = keras.layers.Dense(hidden_dim, activation='relu')(encoder_layer2)\n",
    "decoder_layer2 = keras.layers.Dense(output_dim, activation=None)(decoder_layer1)\n",
    "autoencoder = keras.models.Model(inputs=input_layer, outputs=decoder_layer2)"
   ]
  },
  {
   "cell_type": "code",
   "execution_count": 11,
   "id": "22fb1cec",
   "metadata": {},
   "outputs": [
    {
     "data": {
      "text/plain": [
       "<keras.callbacks.History at 0x7fbd90a9b7c0>"
      ]
     },
     "execution_count": 11,
     "metadata": {},
     "output_type": "execute_result"
    }
   ],
   "source": [
    "# compile and fit\n",
    "autoencoder.compile(optimizer='adam', loss='mse')\n",
    "autoencoder.fit(train_set1, train_set1, epochs=50, batch_size=16, verbose=0)"
   ]
  },
  {
   "cell_type": "code",
   "execution_count": 12,
   "id": "4e04aea0",
   "metadata": {},
   "outputs": [
    {
     "name": "stdout",
     "output_type": "stream",
     "text": [
      "6156/6156 [==============================] - 5s 861us/step\n"
     ]
    }
   ],
   "source": [
    "# compute\n",
    "reconstructed_data = autoencoder.predict(train_set1)\n",
    "mse = np.mean(np.power(train_set1 - reconstructed_data, 2), axis=1)\n",
    "anomaly_scores = pd.Series(mse, name='anomaly_score')"
   ]
  },
  {
   "cell_type": "code",
   "execution_count": 18,
   "id": "db613818",
   "metadata": {},
   "outputs": [],
   "source": [
    "# combine\n",
    "auto_result = pd.concat([train_set, anomaly_scores], axis=1)\n",
    "\n",
    "auto_data = auto_result.sort_values(by='anomaly_score', ascending=False)\n",
    "auto_data.to_csv(\"auto_score_\"+float_cd+\"_top.csv\")"
   ]
  },
  {
   "cell_type": "code",
   "execution_count": 14,
   "id": "189b7c5e",
   "metadata": {},
   "outputs": [
    {
     "data": {
      "text/html": [
       "<div>\n",
       "<style scoped>\n",
       "    .dataframe tbody tr th:only-of-type {\n",
       "        vertical-align: middle;\n",
       "    }\n",
       "\n",
       "    .dataframe tbody tr th {\n",
       "        vertical-align: top;\n",
       "    }\n",
       "\n",
       "    .dataframe thead th {\n",
       "        text-align: right;\n",
       "    }\n",
       "</style>\n",
       "<table border=\"1\" class=\"dataframe\">\n",
       "  <thead>\n",
       "    <tr style=\"text-align: right;\">\n",
       "      <th></th>\n",
       "      <th>Date</th>\n",
       "      <th>Latitude</th>\n",
       "      <th>longitude</th>\n",
       "      <th>Pressure</th>\n",
       "      <th>Salinity</th>\n",
       "      <th>Temperature</th>\n",
       "      <th>QC</th>\n",
       "    </tr>\n",
       "  </thead>\n",
       "  <tbody>\n",
       "    <tr>\n",
       "      <th>160468</th>\n",
       "      <td>-1.667736</td>\n",
       "      <td>-1.815928</td>\n",
       "      <td>-2.436509</td>\n",
       "      <td>2.246685</td>\n",
       "      <td>-1.356445</td>\n",
       "      <td>-1.534842</td>\n",
       "      <td>0</td>\n",
       "    </tr>\n",
       "    <tr>\n",
       "      <th>52410</th>\n",
       "      <td>-1.667736</td>\n",
       "      <td>-1.815928</td>\n",
       "      <td>-2.436509</td>\n",
       "      <td>2.244680</td>\n",
       "      <td>-1.355466</td>\n",
       "      <td>-1.534475</td>\n",
       "      <td>0</td>\n",
       "    </tr>\n",
       "    <tr>\n",
       "      <th>110982</th>\n",
       "      <td>-1.667736</td>\n",
       "      <td>-1.815928</td>\n",
       "      <td>-2.436509</td>\n",
       "      <td>2.241422</td>\n",
       "      <td>-1.355466</td>\n",
       "      <td>-1.534231</td>\n",
       "      <td>0</td>\n",
       "    </tr>\n",
       "    <tr>\n",
       "      <th>18487</th>\n",
       "      <td>-1.667736</td>\n",
       "      <td>-1.815928</td>\n",
       "      <td>-2.436509</td>\n",
       "      <td>2.238289</td>\n",
       "      <td>-1.355466</td>\n",
       "      <td>-1.533497</td>\n",
       "      <td>0</td>\n",
       "    </tr>\n",
       "    <tr>\n",
       "      <th>155942</th>\n",
       "      <td>-1.667736</td>\n",
       "      <td>-1.815928</td>\n",
       "      <td>-2.436509</td>\n",
       "      <td>2.235157</td>\n",
       "      <td>-1.355466</td>\n",
       "      <td>-1.533131</td>\n",
       "      <td>0</td>\n",
       "    </tr>\n",
       "    <tr>\n",
       "      <th>...</th>\n",
       "      <td>...</td>\n",
       "      <td>...</td>\n",
       "      <td>...</td>\n",
       "      <td>...</td>\n",
       "      <td>...</td>\n",
       "      <td>...</td>\n",
       "      <td>...</td>\n",
       "    </tr>\n",
       "    <tr>\n",
       "      <th>118592</th>\n",
       "      <td>-0.289869</td>\n",
       "      <td>0.047667</td>\n",
       "      <td>0.298992</td>\n",
       "      <td>-0.684425</td>\n",
       "      <td>0.598749</td>\n",
       "      <td>0.600254</td>\n",
       "      <td>0</td>\n",
       "    </tr>\n",
       "    <tr>\n",
       "      <th>117972</th>\n",
       "      <td>-0.289869</td>\n",
       "      <td>0.047667</td>\n",
       "      <td>0.298992</td>\n",
       "      <td>-0.706353</td>\n",
       "      <td>0.722049</td>\n",
       "      <td>0.719808</td>\n",
       "      <td>0</td>\n",
       "    </tr>\n",
       "    <tr>\n",
       "      <th>2692</th>\n",
       "      <td>-0.289869</td>\n",
       "      <td>0.047667</td>\n",
       "      <td>0.298992</td>\n",
       "      <td>-0.687620</td>\n",
       "      <td>0.621256</td>\n",
       "      <td>0.618590</td>\n",
       "      <td>0</td>\n",
       "    </tr>\n",
       "    <tr>\n",
       "      <th>185266</th>\n",
       "      <td>-0.289869</td>\n",
       "      <td>0.047667</td>\n",
       "      <td>0.298992</td>\n",
       "      <td>-0.703221</td>\n",
       "      <td>0.693671</td>\n",
       "      <td>0.696704</td>\n",
       "      <td>0</td>\n",
       "    </tr>\n",
       "    <tr>\n",
       "      <th>146971</th>\n",
       "      <td>-0.289869</td>\n",
       "      <td>0.047667</td>\n",
       "      <td>0.298992</td>\n",
       "      <td>-0.690753</td>\n",
       "      <td>0.650613</td>\n",
       "      <td>0.644628</td>\n",
       "      <td>0</td>\n",
       "    </tr>\n",
       "  </tbody>\n",
       "</table>\n",
       "<p>196984 rows × 7 columns</p>\n",
       "</div>"
      ],
      "text/plain": [
       "            Date  Latitude  longitude  Pressure  Salinity  Temperature  QC\n",
       "160468 -1.667736 -1.815928  -2.436509  2.246685 -1.356445    -1.534842   0\n",
       "52410  -1.667736 -1.815928  -2.436509  2.244680 -1.355466    -1.534475   0\n",
       "110982 -1.667736 -1.815928  -2.436509  2.241422 -1.355466    -1.534231   0\n",
       "18487  -1.667736 -1.815928  -2.436509  2.238289 -1.355466    -1.533497   0\n",
       "155942 -1.667736 -1.815928  -2.436509  2.235157 -1.355466    -1.533131   0\n",
       "...          ...       ...        ...       ...       ...          ...  ..\n",
       "118592 -0.289869  0.047667   0.298992 -0.684425  0.598749     0.600254   0\n",
       "117972 -0.289869  0.047667   0.298992 -0.706353  0.722049     0.719808   0\n",
       "2692   -0.289869  0.047667   0.298992 -0.687620  0.621256     0.618590   0\n",
       "185266 -0.289869  0.047667   0.298992 -0.703221  0.693671     0.696704   0\n",
       "146971 -0.289869  0.047667   0.298992 -0.690753  0.650613     0.644628   0\n",
       "\n",
       "[196984 rows x 7 columns]"
      ]
     },
     "execution_count": 14,
     "metadata": {},
     "output_type": "execute_result"
    }
   ],
   "source": [
    "train_data_auto=auto_data.iloc[:,:7]\n",
    "train_data_auto"
   ]
  },
  {
   "cell_type": "markdown",
   "id": "1d432b83",
   "metadata": {},
   "source": [
    "# OneClassSVM"
   ]
  },
  {
   "cell_type": "code",
   "execution_count": 15,
   "id": "21658e04",
   "metadata": {},
   "outputs": [
    {
     "data": {
      "text/html": [
       "<style>#sk-container-id-1 {color: black;background-color: white;}#sk-container-id-1 pre{padding: 0;}#sk-container-id-1 div.sk-toggleable {background-color: white;}#sk-container-id-1 label.sk-toggleable__label {cursor: pointer;display: block;width: 100%;margin-bottom: 0;padding: 0.3em;box-sizing: border-box;text-align: center;}#sk-container-id-1 label.sk-toggleable__label-arrow:before {content: \"▸\";float: left;margin-right: 0.25em;color: #696969;}#sk-container-id-1 label.sk-toggleable__label-arrow:hover:before {color: black;}#sk-container-id-1 div.sk-estimator:hover label.sk-toggleable__label-arrow:before {color: black;}#sk-container-id-1 div.sk-toggleable__content {max-height: 0;max-width: 0;overflow: hidden;text-align: left;background-color: #f0f8ff;}#sk-container-id-1 div.sk-toggleable__content pre {margin: 0.2em;color: black;border-radius: 0.25em;background-color: #f0f8ff;}#sk-container-id-1 input.sk-toggleable__control:checked~div.sk-toggleable__content {max-height: 200px;max-width: 100%;overflow: auto;}#sk-container-id-1 input.sk-toggleable__control:checked~label.sk-toggleable__label-arrow:before {content: \"▾\";}#sk-container-id-1 div.sk-estimator input.sk-toggleable__control:checked~label.sk-toggleable__label {background-color: #d4ebff;}#sk-container-id-1 div.sk-label input.sk-toggleable__control:checked~label.sk-toggleable__label {background-color: #d4ebff;}#sk-container-id-1 input.sk-hidden--visually {border: 0;clip: rect(1px 1px 1px 1px);clip: rect(1px, 1px, 1px, 1px);height: 1px;margin: -1px;overflow: hidden;padding: 0;position: absolute;width: 1px;}#sk-container-id-1 div.sk-estimator {font-family: monospace;background-color: #f0f8ff;border: 1px dotted black;border-radius: 0.25em;box-sizing: border-box;margin-bottom: 0.5em;}#sk-container-id-1 div.sk-estimator:hover {background-color: #d4ebff;}#sk-container-id-1 div.sk-parallel-item::after {content: \"\";width: 100%;border-bottom: 1px solid gray;flex-grow: 1;}#sk-container-id-1 div.sk-label:hover label.sk-toggleable__label {background-color: #d4ebff;}#sk-container-id-1 div.sk-serial::before {content: \"\";position: absolute;border-left: 1px solid gray;box-sizing: border-box;top: 0;bottom: 0;left: 50%;z-index: 0;}#sk-container-id-1 div.sk-serial {display: flex;flex-direction: column;align-items: center;background-color: white;padding-right: 0.2em;padding-left: 0.2em;position: relative;}#sk-container-id-1 div.sk-item {position: relative;z-index: 1;}#sk-container-id-1 div.sk-parallel {display: flex;align-items: stretch;justify-content: center;background-color: white;position: relative;}#sk-container-id-1 div.sk-item::before, #sk-container-id-1 div.sk-parallel-item::before {content: \"\";position: absolute;border-left: 1px solid gray;box-sizing: border-box;top: 0;bottom: 0;left: 50%;z-index: -1;}#sk-container-id-1 div.sk-parallel-item {display: flex;flex-direction: column;z-index: 1;position: relative;background-color: white;}#sk-container-id-1 div.sk-parallel-item:first-child::after {align-self: flex-end;width: 50%;}#sk-container-id-1 div.sk-parallel-item:last-child::after {align-self: flex-start;width: 50%;}#sk-container-id-1 div.sk-parallel-item:only-child::after {width: 0;}#sk-container-id-1 div.sk-dashed-wrapped {border: 1px dashed gray;margin: 0 0.4em 0.5em 0.4em;box-sizing: border-box;padding-bottom: 0.4em;background-color: white;}#sk-container-id-1 div.sk-label label {font-family: monospace;font-weight: bold;display: inline-block;line-height: 1.2em;}#sk-container-id-1 div.sk-label-container {text-align: center;}#sk-container-id-1 div.sk-container {/* jupyter's `normalize.less` sets `[hidden] { display: none; }` but bootstrap.min.css set `[hidden] { display: none !important; }` so we also need the `!important` here to be able to override the default hidden behavior on the sphinx rendered scikit-learn.org. See: https://github.com/scikit-learn/scikit-learn/issues/21755 */display: inline-block !important;position: relative;}#sk-container-id-1 div.sk-text-repr-fallback {display: none;}</style><div id=\"sk-container-id-1\" class=\"sk-top-container\"><div class=\"sk-text-repr-fallback\"><pre>OneClassSVM(nu=0.1)</pre><b>In a Jupyter environment, please rerun this cell to show the HTML representation or trust the notebook. <br />On GitHub, the HTML representation is unable to render, please try loading this page with nbviewer.org.</b></div><div class=\"sk-container\" hidden><div class=\"sk-item\"><div class=\"sk-estimator sk-toggleable\"><input class=\"sk-toggleable__control sk-hidden--visually\" id=\"sk-estimator-id-1\" type=\"checkbox\" checked><label for=\"sk-estimator-id-1\" class=\"sk-toggleable__label sk-toggleable__label-arrow\">OneClassSVM</label><div class=\"sk-toggleable__content\"><pre>OneClassSVM(nu=0.1)</pre></div></div></div></div></div>"
      ],
      "text/plain": [
       "OneClassSVM(nu=0.1)"
      ]
     },
     "execution_count": 15,
     "metadata": {},
     "output_type": "execute_result"
    }
   ],
   "source": [
    "ocsvm = OneClassSVM(kernel='rbf', nu=0.1)\n",
    "ocsvm.fit(train_set1)"
   ]
  },
  {
   "cell_type": "code",
   "execution_count": 16,
   "id": "2f4d4a4c",
   "metadata": {},
   "outputs": [],
   "source": [
    "scores3 = -ocsvm.decision_function(train_set1)"
   ]
  },
  {
   "cell_type": "code",
   "execution_count": 17,
   "id": "0981402b",
   "metadata": {},
   "outputs": [
    {
     "data": {
      "text/html": [
       "<div>\n",
       "<style scoped>\n",
       "    .dataframe tbody tr th:only-of-type {\n",
       "        vertical-align: middle;\n",
       "    }\n",
       "\n",
       "    .dataframe tbody tr th {\n",
       "        vertical-align: top;\n",
       "    }\n",
       "\n",
       "    .dataframe thead th {\n",
       "        text-align: right;\n",
       "    }\n",
       "</style>\n",
       "<table border=\"1\" class=\"dataframe\">\n",
       "  <thead>\n",
       "    <tr style=\"text-align: right;\">\n",
       "      <th></th>\n",
       "      <th>Date</th>\n",
       "      <th>Latitude</th>\n",
       "      <th>longitude</th>\n",
       "      <th>Pressure</th>\n",
       "      <th>Salinity</th>\n",
       "      <th>Temperature</th>\n",
       "      <th>QC</th>\n",
       "    </tr>\n",
       "  </thead>\n",
       "  <tbody>\n",
       "    <tr>\n",
       "      <th>164831</th>\n",
       "      <td>0.748975</td>\n",
       "      <td>1.971231</td>\n",
       "      <td>0.530896</td>\n",
       "      <td>2.247311</td>\n",
       "      <td>-1.322195</td>\n",
       "      <td>-1.495113</td>\n",
       "      <td>0</td>\n",
       "    </tr>\n",
       "    <tr>\n",
       "      <th>174379</th>\n",
       "      <td>0.748975</td>\n",
       "      <td>1.971231</td>\n",
       "      <td>0.530896</td>\n",
       "      <td>2.244617</td>\n",
       "      <td>-1.321216</td>\n",
       "      <td>-1.494624</td>\n",
       "      <td>0</td>\n",
       "    </tr>\n",
       "    <tr>\n",
       "      <th>161085</th>\n",
       "      <td>0.748975</td>\n",
       "      <td>1.971231</td>\n",
       "      <td>0.530896</td>\n",
       "      <td>2.241359</td>\n",
       "      <td>-1.321216</td>\n",
       "      <td>-1.493524</td>\n",
       "      <td>0</td>\n",
       "    </tr>\n",
       "    <tr>\n",
       "      <th>73079</th>\n",
       "      <td>0.748975</td>\n",
       "      <td>1.971231</td>\n",
       "      <td>0.530896</td>\n",
       "      <td>2.238227</td>\n",
       "      <td>-1.320238</td>\n",
       "      <td>-1.493035</td>\n",
       "      <td>0</td>\n",
       "    </tr>\n",
       "    <tr>\n",
       "      <th>129721</th>\n",
       "      <td>0.748975</td>\n",
       "      <td>1.971231</td>\n",
       "      <td>0.530896</td>\n",
       "      <td>2.235157</td>\n",
       "      <td>-1.320238</td>\n",
       "      <td>-1.492179</td>\n",
       "      <td>0</td>\n",
       "    </tr>\n",
       "    <tr>\n",
       "      <th>...</th>\n",
       "      <td>...</td>\n",
       "      <td>...</td>\n",
       "      <td>...</td>\n",
       "      <td>...</td>\n",
       "      <td>...</td>\n",
       "      <td>...</td>\n",
       "      <td>...</td>\n",
       "    </tr>\n",
       "    <tr>\n",
       "      <th>34442</th>\n",
       "      <td>1.110278</td>\n",
       "      <td>0.795591</td>\n",
       "      <td>0.313014</td>\n",
       "      <td>-0.596775</td>\n",
       "      <td>0.326705</td>\n",
       "      <td>0.357724</td>\n",
       "      <td>0</td>\n",
       "    </tr>\n",
       "    <tr>\n",
       "      <th>161525</th>\n",
       "      <td>1.110278</td>\n",
       "      <td>0.795591</td>\n",
       "      <td>0.313014</td>\n",
       "      <td>-0.615445</td>\n",
       "      <td>0.394227</td>\n",
       "      <td>0.397453</td>\n",
       "      <td>0</td>\n",
       "    </tr>\n",
       "    <tr>\n",
       "      <th>124859</th>\n",
       "      <td>1.110278</td>\n",
       "      <td>0.795591</td>\n",
       "      <td>0.313014</td>\n",
       "      <td>-0.593642</td>\n",
       "      <td>0.318876</td>\n",
       "      <td>0.352590</td>\n",
       "      <td>0</td>\n",
       "    </tr>\n",
       "    <tr>\n",
       "      <th>49630</th>\n",
       "      <td>1.110278</td>\n",
       "      <td>0.795591</td>\n",
       "      <td>0.313014</td>\n",
       "      <td>-0.562316</td>\n",
       "      <td>0.254290</td>\n",
       "      <td>0.314694</td>\n",
       "      <td>0</td>\n",
       "    </tr>\n",
       "    <tr>\n",
       "      <th>98498</th>\n",
       "      <td>1.110278</td>\n",
       "      <td>0.795591</td>\n",
       "      <td>0.313014</td>\n",
       "      <td>-0.609305</td>\n",
       "      <td>0.372698</td>\n",
       "      <td>0.385106</td>\n",
       "      <td>0</td>\n",
       "    </tr>\n",
       "  </tbody>\n",
       "</table>\n",
       "<p>196984 rows × 7 columns</p>\n",
       "</div>"
      ],
      "text/plain": [
       "            Date  Latitude  longitude  Pressure  Salinity  Temperature  QC\n",
       "164831  0.748975  1.971231   0.530896  2.247311 -1.322195    -1.495113   0\n",
       "174379  0.748975  1.971231   0.530896  2.244617 -1.321216    -1.494624   0\n",
       "161085  0.748975  1.971231   0.530896  2.241359 -1.321216    -1.493524   0\n",
       "73079   0.748975  1.971231   0.530896  2.238227 -1.320238    -1.493035   0\n",
       "129721  0.748975  1.971231   0.530896  2.235157 -1.320238    -1.492179   0\n",
       "...          ...       ...        ...       ...       ...          ...  ..\n",
       "34442   1.110278  0.795591   0.313014 -0.596775  0.326705     0.357724   0\n",
       "161525  1.110278  0.795591   0.313014 -0.615445  0.394227     0.397453   0\n",
       "124859  1.110278  0.795591   0.313014 -0.593642  0.318876     0.352590   0\n",
       "49630   1.110278  0.795591   0.313014 -0.562316  0.254290     0.314694   0\n",
       "98498   1.110278  0.795591   0.313014 -0.609305  0.372698     0.385106   0\n",
       "\n",
       "[196984 rows x 7 columns]"
      ]
     },
     "execution_count": 17,
     "metadata": {},
     "output_type": "execute_result"
    }
   ],
   "source": [
    "# combine\n",
    "oc_result = pd.concat([train_set, pd.Series(scores3, name='score')], axis=1)\n",
    "\n",
    "oc_data=oc_result.sort_values(by='score', ascending=False)\n",
    "oc_data.to_csv(\"./other/oc_score_\"+float_cd+\"_top.csv\")\n",
    "train_data_oc=oc_data.iloc[:,:7]\n",
    "train_data_oc\n",
    "\n",
    "\n",
    "# auto_data = auto_result.sort_values(by='anomaly_score', ascending=False)\n",
    "# train_data_auto=auto_data.iloc[:,:7]\n",
    "# train_data_auto"
   ]
  },
  {
   "cell_type": "markdown",
   "id": "025b8ad6",
   "metadata": {},
   "source": [
    "# active learning"
   ]
  },
  {
   "cell_type": "code",
   "execution_count": 51,
   "id": "96399a3b",
   "metadata": {},
   "outputs": [],
   "source": [
    "#n_initial= 100\n",
    "n_initial = 1100\n",
    "N_QUERIES = 1000"
   ]
  },
  {
   "cell_type": "code",
   "execution_count": 52,
   "id": "95bb39a4",
   "metadata": {},
   "outputs": [],
   "source": [
    "#Pool\n",
    "def initial_data(n_initial,X_Pool,y_Pool):\n",
    "    #inital\n",
    "    #initial Labeled data\n",
    "    #X_initial, y_initial = X_train[], y_train[initial_idx]\n",
    "    X_L = X_Pool[:n_initial]\n",
    "    y_L = y_Pool[:n_initial]\n",
    "    # Unlabeled data\n",
    "    X_U = X_Pool[n_initial:]\n",
    "    y_U = y_Pool[n_initial:]\n",
    "    return X_L,y_L,X_U,y_U"
   ]
  },
  {
   "cell_type": "code",
   "execution_count": 53,
   "id": "a53171fe",
   "metadata": {},
   "outputs": [],
   "source": [
    "def al_learn(clf,sampling,X_initial,y_initial,X_re,y_re):\n",
    "    X_L = X_initial.copy()\n",
    "    y_L = y_initial.copy()\n",
    "    X_U,y_U =X_re.copy(),y_re.copy()\n",
    "    #print(len(X_U),len(y_U))\n",
    "    learner = al(clf,sampling,X_L,y_L)\n",
    "    y_pre=learner.predict(X_test)\n",
    "    unqueried_kappa=cohen_kappa_score(y_tru, y_pre)\n",
    "    unqueried_f1=f1_score(y_tru,y_pre)\n",
    "    #print(\"unqueried --------------------->\",unqueried_score)\n",
    "    kappa_history = [unqueried_kappa]\n",
    "    f1_history = [unqueried_f1]\n",
    "    \n",
    "    # Query\n",
    "    for index in range(N_QUERIES):\n",
    "        query_index=0\n",
    "        # Teach ActiveLearner model the record it has requested.\n",
    "        X, y = X_U[query_index].reshape(1, -1), y_U[query_index].reshape(1, )\n",
    "        #print(index+1,\"query label --------------------->\",y)\n",
    "        learner.teach(X=X, y=y)\n",
    "        \n",
    "        X_U, y_U = np.delete(X_U, query_index, axis=0), np.delete(y_U, query_index)\n",
    "        y_pre=learner.predict(X_test)\n",
    "        kappa=cohen_kappa_score(y_tru, y_pre)\n",
    "        f1=f1_score(y_tru,y_pre)\n",
    "        print(index+1,\"-------------------->\",kappa)\n",
    "        print(index+1,\"-------------------->\",f1)\n",
    "        # Recall precision F1\n",
    "        kappa_history.append(kappa)\n",
    "        f1_history.append(f1)\n",
    "    #print(len(X_U))\n",
    "    #draw(performance_history)\n",
    "    df_scores= pd.concat([pd.DataFrame(kappa_history,columns=['kappa']), \n",
    "                          pd.DataFrame(f1_history,columns=['f1'])],\n",
    "                         axis=1)\n",
    "    return df_scores "
   ]
  },
  {
   "cell_type": "code",
   "execution_count": 54,
   "id": "26c3b780",
   "metadata": {},
   "outputs": [],
   "source": [
    "# metric\n",
    "def computeMetric(y_tru,y_pre):\n",
    "    acc = accuracy_score(y_tru,y_pre)\n",
    "    pre=precision_score(y_tru,y_pre)\n",
    "    recall=recall_score(y_tru,y_pre)\n",
    "    cm=confusion_matrix(y_tru,y_pre)\n",
    "    f1 = f1_score(y_tru,y_pre)\n",
    "    mcc=matthews_corrcoef(y_tru, y_pre)\n",
    "    kappa=cohen_kappa_score(y_tru, y_pre)\n",
    "    bac=balanced_accuracy_score(y_tru,y_pre)\n",
    "    print(\"acc:\",acc)\n",
    "    print(\"balanced acc:\",bac)\n",
    "    print(\"precision:\",pre)\n",
    "    print(\"recall:\",recall)\n",
    "    print(\"cm:\",cm)\n",
    "    print(\"f1:\",f1)\n",
    "    print(\"MCC:\", mcc)\n",
    "    print(\"Kappa:\",kappa)\n",
    "    \n",
    "    # confusion matrix\n",
    "#     cmap1 = sns.diverging_palette(260,-10,s=50, l=75, n=5, as_cmap=True)\n",
    "#     plt.subplots(figsize=(12,8))\n",
    "#     cf_matrix = confusion_matrix(y_tru, y_pre)\n",
    "#     sns.heatmap(cf_matrix/np.sum(cf_matrix), cmap = cmap1, annot = True, annot_kws = {'size':15})\n",
    "    \n",
    "    return kappa"
   ]
  },
  {
   "cell_type": "code",
   "execution_count": 58,
   "id": "54041208",
   "metadata": {},
   "outputs": [
    {
     "data": {
      "text/html": [
       "<div>\n",
       "<style scoped>\n",
       "    .dataframe tbody tr th:only-of-type {\n",
       "        vertical-align: middle;\n",
       "    }\n",
       "\n",
       "    .dataframe tbody tr th {\n",
       "        vertical-align: top;\n",
       "    }\n",
       "\n",
       "    .dataframe thead th {\n",
       "        text-align: right;\n",
       "    }\n",
       "</style>\n",
       "<table border=\"1\" class=\"dataframe\">\n",
       "  <thead>\n",
       "    <tr style=\"text-align: right;\">\n",
       "      <th></th>\n",
       "      <th>Date</th>\n",
       "      <th>Latitude</th>\n",
       "      <th>longitude</th>\n",
       "      <th>Pressure</th>\n",
       "      <th>Salinity</th>\n",
       "      <th>Temperature</th>\n",
       "    </tr>\n",
       "  </thead>\n",
       "  <tbody>\n",
       "    <tr>\n",
       "      <th>0</th>\n",
       "      <td>-0.696323</td>\n",
       "      <td>-0.838387</td>\n",
       "      <td>0.342557</td>\n",
       "      <td>-0.864737</td>\n",
       "      <td>0.724985</td>\n",
       "      <td>0.923831</td>\n",
       "    </tr>\n",
       "    <tr>\n",
       "      <th>1</th>\n",
       "      <td>-1.170596</td>\n",
       "      <td>-1.355354</td>\n",
       "      <td>-1.381377</td>\n",
       "      <td>-0.887167</td>\n",
       "      <td>1.212316</td>\n",
       "      <td>1.334934</td>\n",
       "    </tr>\n",
       "    <tr>\n",
       "      <th>2</th>\n",
       "      <td>-0.064092</td>\n",
       "      <td>0.172312</td>\n",
       "      <td>0.902710</td>\n",
       "      <td>1.539720</td>\n",
       "      <td>-1.194980</td>\n",
       "      <td>-1.338397</td>\n",
       "    </tr>\n",
       "    <tr>\n",
       "      <th>3</th>\n",
       "      <td>0.071427</td>\n",
       "      <td>0.769677</td>\n",
       "      <td>1.053827</td>\n",
       "      <td>-0.875952</td>\n",
       "      <td>0.910914</td>\n",
       "      <td>0.821391</td>\n",
       "    </tr>\n",
       "    <tr>\n",
       "      <th>4</th>\n",
       "      <td>1.607057</td>\n",
       "      <td>0.589603</td>\n",
       "      <td>-0.269866</td>\n",
       "      <td>-0.885475</td>\n",
       "      <td>0.917764</td>\n",
       "      <td>0.771150</td>\n",
       "    </tr>\n",
       "    <tr>\n",
       "      <th>...</th>\n",
       "      <td>...</td>\n",
       "      <td>...</td>\n",
       "      <td>...</td>\n",
       "      <td>...</td>\n",
       "      <td>...</td>\n",
       "      <td>...</td>\n",
       "    </tr>\n",
       "    <tr>\n",
       "      <th>196979</th>\n",
       "      <td>0.229547</td>\n",
       "      <td>-0.440313</td>\n",
       "      <td>0.968438</td>\n",
       "      <td>1.702552</td>\n",
       "      <td>-1.245866</td>\n",
       "      <td>-1.405509</td>\n",
       "    </tr>\n",
       "    <tr>\n",
       "      <th>196980</th>\n",
       "      <td>1.358658</td>\n",
       "      <td>0.104388</td>\n",
       "      <td>0.231578</td>\n",
       "      <td>-0.820129</td>\n",
       "      <td>1.226016</td>\n",
       "      <td>1.240318</td>\n",
       "    </tr>\n",
       "    <tr>\n",
       "      <th>196981</th>\n",
       "      <td>-1.035138</td>\n",
       "      <td>-1.011625</td>\n",
       "      <td>-0.641814</td>\n",
       "      <td>-0.804090</td>\n",
       "      <td>1.136965</td>\n",
       "      <td>1.071990</td>\n",
       "    </tr>\n",
       "    <tr>\n",
       "      <th>196982</th>\n",
       "      <td>-0.109225</td>\n",
       "      <td>-0.263815</td>\n",
       "      <td>0.622315</td>\n",
       "      <td>0.321139</td>\n",
       "      <td>-0.955229</td>\n",
       "      <td>-0.741485</td>\n",
       "    </tr>\n",
       "    <tr>\n",
       "      <th>196983</th>\n",
       "      <td>-0.335003</td>\n",
       "      <td>-0.282825</td>\n",
       "      <td>0.362613</td>\n",
       "      <td>-0.107964</td>\n",
       "      <td>-0.515849</td>\n",
       "      <td>-0.276473</td>\n",
       "    </tr>\n",
       "  </tbody>\n",
       "</table>\n",
       "<p>196984 rows × 6 columns</p>\n",
       "</div>"
      ],
      "text/plain": [
       "            Date  Latitude  longitude  Pressure  Salinity  Temperature\n",
       "0      -0.696323 -0.838387   0.342557 -0.864737  0.724985     0.923831\n",
       "1      -1.170596 -1.355354  -1.381377 -0.887167  1.212316     1.334934\n",
       "2      -0.064092  0.172312   0.902710  1.539720 -1.194980    -1.338397\n",
       "3       0.071427  0.769677   1.053827 -0.875952  0.910914     0.821391\n",
       "4       1.607057  0.589603  -0.269866 -0.885475  0.917764     0.771150\n",
       "...          ...       ...        ...       ...       ...          ...\n",
       "196979  0.229547 -0.440313   0.968438  1.702552 -1.245866    -1.405509\n",
       "196980  1.358658  0.104388   0.231578 -0.820129  1.226016     1.240318\n",
       "196981 -1.035138 -1.011625  -0.641814 -0.804090  1.136965     1.071990\n",
       "196982 -0.109225 -0.263815   0.622315  0.321139 -0.955229    -0.741485\n",
       "196983 -0.335003 -0.282825   0.362613 -0.107964 -0.515849    -0.276473\n",
       "\n",
       "[196984 rows x 6 columns]"
      ]
     },
     "execution_count": 58,
     "metadata": {},
     "output_type": "execute_result"
    }
   ],
   "source": [
    "train_set1"
   ]
  },
  {
   "cell_type": "code",
   "execution_count": 61,
   "id": "bb556674",
   "metadata": {},
   "outputs": [
    {
     "data": {
      "text/plain": [
       "0         0.923831\n",
       "1         1.334934\n",
       "2        -1.338397\n",
       "3         0.821391\n",
       "4         0.771150\n",
       "            ...   \n",
       "196979   -1.405509\n",
       "196980    1.240318\n",
       "196981    1.071990\n",
       "196982   -0.741485\n",
       "196983   -0.276473\n",
       "Name: Temperature, Length: 196984, dtype: float64"
      ]
     },
     "execution_count": 61,
     "metadata": {},
     "output_type": "execute_result"
    }
   ],
   "source": [
    "train_set.iloc[:,]"
   ]
  },
  {
   "cell_type": "code",
   "execution_count": 70,
   "id": "f1f79a4c",
   "metadata": {},
   "outputs": [
    {
     "ename": "CatBoostError",
     "evalue": "catboost/private/libs/target/data_providers.cpp:612: Currently only multi-regression, multilabel and survival objectives work with multidimensional target",
     "output_type": "error",
     "traceback": [
      "\u001b[0;31m---------------------------------------------------------------------------\u001b[0m",
      "\u001b[0;31mCatBoostError\u001b[0m                             Traceback (most recent call last)",
      "Cell \u001b[0;32mIn[70], line 3\u001b[0m\n\u001b[1;32m      1\u001b[0m \u001b[38;5;66;03m#clf4 catboost\u001b[39;00m\n\u001b[1;32m      2\u001b[0m clf4 \u001b[38;5;241m=\u001b[39m CatBoostClassifier(loss_function\u001b[38;5;241m=\u001b[39m\u001b[38;5;124m'\u001b[39m\u001b[38;5;124mLogloss\u001b[39m\u001b[38;5;124m'\u001b[39m)\n\u001b[0;32m----> 3\u001b[0m \u001b[43mclf4\u001b[49m\u001b[38;5;241;43m.\u001b[39;49m\u001b[43mfit\u001b[49m\u001b[43m(\u001b[49m\u001b[43mtrain_set1\u001b[49m\u001b[38;5;241;43m.\u001b[39;49m\u001b[43mvalues\u001b[49m\u001b[43m,\u001b[49m\u001b[43m \u001b[49m\u001b[43mtest_set1\u001b[49m\u001b[38;5;241;43m.\u001b[39;49m\u001b[43mvalues\u001b[49m\u001b[43m)\u001b[49m\n\u001b[1;32m      4\u001b[0m y_pre\u001b[38;5;241m=\u001b[39mclf4\u001b[38;5;241m.\u001b[39mpredict(X_test)\n\u001b[1;32m      5\u001b[0m computeMetric(y_tru,y_pre)\n",
      "File \u001b[0;32m~/opt/anaconda3/envs/al/lib/python3.8/site-packages/catboost/core.py:5128\u001b[0m, in \u001b[0;36mCatBoostClassifier.fit\u001b[0;34m(self, X, y, cat_features, text_features, embedding_features, sample_weight, baseline, use_best_model, eval_set, verbose, logging_level, plot, plot_file, column_description, verbose_eval, metric_period, silent, early_stopping_rounds, save_snapshot, snapshot_file, snapshot_interval, init_model, callbacks, log_cout, log_cerr)\u001b[0m\n\u001b[1;32m   5125\u001b[0m \u001b[38;5;28;01mif\u001b[39;00m \u001b[38;5;124m'\u001b[39m\u001b[38;5;124mloss_function\u001b[39m\u001b[38;5;124m'\u001b[39m \u001b[38;5;129;01min\u001b[39;00m params:\n\u001b[1;32m   5126\u001b[0m     CatBoostClassifier\u001b[38;5;241m.\u001b[39m_check_is_compatible_loss(params[\u001b[38;5;124m'\u001b[39m\u001b[38;5;124mloss_function\u001b[39m\u001b[38;5;124m'\u001b[39m])\n\u001b[0;32m-> 5128\u001b[0m \u001b[38;5;28;43mself\u001b[39;49m\u001b[38;5;241;43m.\u001b[39;49m\u001b[43m_fit\u001b[49m\u001b[43m(\u001b[49m\u001b[43mX\u001b[49m\u001b[43m,\u001b[49m\u001b[43m \u001b[49m\u001b[43my\u001b[49m\u001b[43m,\u001b[49m\u001b[43m \u001b[49m\u001b[43mcat_features\u001b[49m\u001b[43m,\u001b[49m\u001b[43m \u001b[49m\u001b[43mtext_features\u001b[49m\u001b[43m,\u001b[49m\u001b[43m \u001b[49m\u001b[43membedding_features\u001b[49m\u001b[43m,\u001b[49m\u001b[43m \u001b[49m\u001b[38;5;28;43;01mNone\u001b[39;49;00m\u001b[43m,\u001b[49m\u001b[43m \u001b[49m\u001b[43msample_weight\u001b[49m\u001b[43m,\u001b[49m\u001b[43m \u001b[49m\u001b[38;5;28;43;01mNone\u001b[39;49;00m\u001b[43m,\u001b[49m\u001b[43m \u001b[49m\u001b[38;5;28;43;01mNone\u001b[39;49;00m\u001b[43m,\u001b[49m\u001b[43m \u001b[49m\u001b[38;5;28;43;01mNone\u001b[39;49;00m\u001b[43m,\u001b[49m\u001b[43m \u001b[49m\u001b[38;5;28;43;01mNone\u001b[39;49;00m\u001b[43m,\u001b[49m\u001b[43m \u001b[49m\u001b[43mbaseline\u001b[49m\u001b[43m,\u001b[49m\u001b[43m \u001b[49m\u001b[43muse_best_model\u001b[49m\u001b[43m,\u001b[49m\n\u001b[1;32m   5129\u001b[0m \u001b[43m          \u001b[49m\u001b[43meval_set\u001b[49m\u001b[43m,\u001b[49m\u001b[43m \u001b[49m\u001b[43mverbose\u001b[49m\u001b[43m,\u001b[49m\u001b[43m \u001b[49m\u001b[43mlogging_level\u001b[49m\u001b[43m,\u001b[49m\u001b[43m \u001b[49m\u001b[43mplot\u001b[49m\u001b[43m,\u001b[49m\u001b[43m \u001b[49m\u001b[43mplot_file\u001b[49m\u001b[43m,\u001b[49m\u001b[43m \u001b[49m\u001b[43mcolumn_description\u001b[49m\u001b[43m,\u001b[49m\u001b[43m \u001b[49m\u001b[43mverbose_eval\u001b[49m\u001b[43m,\u001b[49m\u001b[43m \u001b[49m\u001b[43mmetric_period\u001b[49m\u001b[43m,\u001b[49m\n\u001b[1;32m   5130\u001b[0m \u001b[43m          \u001b[49m\u001b[43msilent\u001b[49m\u001b[43m,\u001b[49m\u001b[43m \u001b[49m\u001b[43mearly_stopping_rounds\u001b[49m\u001b[43m,\u001b[49m\u001b[43m \u001b[49m\u001b[43msave_snapshot\u001b[49m\u001b[43m,\u001b[49m\u001b[43m \u001b[49m\u001b[43msnapshot_file\u001b[49m\u001b[43m,\u001b[49m\u001b[43m \u001b[49m\u001b[43msnapshot_interval\u001b[49m\u001b[43m,\u001b[49m\u001b[43m \u001b[49m\u001b[43minit_model\u001b[49m\u001b[43m,\u001b[49m\u001b[43m \u001b[49m\u001b[43mcallbacks\u001b[49m\u001b[43m,\u001b[49m\u001b[43m \u001b[49m\u001b[43mlog_cout\u001b[49m\u001b[43m,\u001b[49m\u001b[43m \u001b[49m\u001b[43mlog_cerr\u001b[49m\u001b[43m)\u001b[49m\n\u001b[1;32m   5131\u001b[0m \u001b[38;5;28;01mreturn\u001b[39;00m \u001b[38;5;28mself\u001b[39m\n",
      "File \u001b[0;32m~/opt/anaconda3/envs/al/lib/python3.8/site-packages/catboost/core.py:2355\u001b[0m, in \u001b[0;36mCatBoost._fit\u001b[0;34m(self, X, y, cat_features, text_features, embedding_features, pairs, sample_weight, group_id, group_weight, subgroup_id, pairs_weight, baseline, use_best_model, eval_set, verbose, logging_level, plot, plot_file, column_description, verbose_eval, metric_period, silent, early_stopping_rounds, save_snapshot, snapshot_file, snapshot_interval, init_model, callbacks, log_cout, log_cerr)\u001b[0m\n\u001b[1;32m   2351\u001b[0m allow_clear_pool \u001b[38;5;241m=\u001b[39m train_params[\u001b[38;5;124m\"\u001b[39m\u001b[38;5;124mallow_clear_pool\u001b[39m\u001b[38;5;124m\"\u001b[39m]\n\u001b[1;32m   2353\u001b[0m \u001b[38;5;28;01mwith\u001b[39;00m log_fixup(log_cout, log_cerr), \\\n\u001b[1;32m   2354\u001b[0m     plot_wrapper(plot, plot_file, \u001b[38;5;124m'\u001b[39m\u001b[38;5;124mTraining plots\u001b[39m\u001b[38;5;124m'\u001b[39m, [_get_train_dir(\u001b[38;5;28mself\u001b[39m\u001b[38;5;241m.\u001b[39mget_params())]):\n\u001b[0;32m-> 2355\u001b[0m     \u001b[38;5;28;43mself\u001b[39;49m\u001b[38;5;241;43m.\u001b[39;49m\u001b[43m_train\u001b[49m\u001b[43m(\u001b[49m\n\u001b[1;32m   2356\u001b[0m \u001b[43m        \u001b[49m\u001b[43mtrain_pool\u001b[49m\u001b[43m,\u001b[49m\n\u001b[1;32m   2357\u001b[0m \u001b[43m        \u001b[49m\u001b[43mtrain_params\u001b[49m\u001b[43m[\u001b[49m\u001b[38;5;124;43m\"\u001b[39;49m\u001b[38;5;124;43meval_sets\u001b[39;49m\u001b[38;5;124;43m\"\u001b[39;49m\u001b[43m]\u001b[49m\u001b[43m,\u001b[49m\n\u001b[1;32m   2358\u001b[0m \u001b[43m        \u001b[49m\u001b[43mparams\u001b[49m\u001b[43m,\u001b[49m\n\u001b[1;32m   2359\u001b[0m \u001b[43m        \u001b[49m\u001b[43mallow_clear_pool\u001b[49m\u001b[43m,\u001b[49m\n\u001b[1;32m   2360\u001b[0m \u001b[43m        \u001b[49m\u001b[43mtrain_params\u001b[49m\u001b[43m[\u001b[49m\u001b[38;5;124;43m\"\u001b[39;49m\u001b[38;5;124;43minit_model\u001b[39;49m\u001b[38;5;124;43m\"\u001b[39;49m\u001b[43m]\u001b[49m\n\u001b[1;32m   2361\u001b[0m \u001b[43m    \u001b[49m\u001b[43m)\u001b[49m\n\u001b[1;32m   2363\u001b[0m \u001b[38;5;66;03m# Have property feature_importance possibly set\u001b[39;00m\n\u001b[1;32m   2364\u001b[0m loss \u001b[38;5;241m=\u001b[39m \u001b[38;5;28mself\u001b[39m\u001b[38;5;241m.\u001b[39m_object\u001b[38;5;241m.\u001b[39m_get_loss_function_name()\n",
      "File \u001b[0;32m~/opt/anaconda3/envs/al/lib/python3.8/site-packages/catboost/core.py:1759\u001b[0m, in \u001b[0;36m_CatBoostBase._train\u001b[0;34m(self, train_pool, test_pool, params, allow_clear_pool, init_model)\u001b[0m\n\u001b[1;32m   1758\u001b[0m \u001b[38;5;28;01mdef\u001b[39;00m \u001b[38;5;21m_train\u001b[39m(\u001b[38;5;28mself\u001b[39m, train_pool, test_pool, params, allow_clear_pool, init_model):\n\u001b[0;32m-> 1759\u001b[0m     \u001b[38;5;28;43mself\u001b[39;49m\u001b[38;5;241;43m.\u001b[39;49m\u001b[43m_object\u001b[49m\u001b[38;5;241;43m.\u001b[39;49m\u001b[43m_train\u001b[49m\u001b[43m(\u001b[49m\u001b[43mtrain_pool\u001b[49m\u001b[43m,\u001b[49m\u001b[43m \u001b[49m\u001b[43mtest_pool\u001b[49m\u001b[43m,\u001b[49m\u001b[43m \u001b[49m\u001b[43mparams\u001b[49m\u001b[43m,\u001b[49m\u001b[43m \u001b[49m\u001b[43mallow_clear_pool\u001b[49m\u001b[43m,\u001b[49m\u001b[43m \u001b[49m\u001b[43minit_model\u001b[49m\u001b[38;5;241;43m.\u001b[39;49m\u001b[43m_object\u001b[49m\u001b[43m \u001b[49m\u001b[38;5;28;43;01mif\u001b[39;49;00m\u001b[43m \u001b[49m\u001b[43minit_model\u001b[49m\u001b[43m \u001b[49m\u001b[38;5;28;43;01melse\u001b[39;49;00m\u001b[43m \u001b[49m\u001b[38;5;28;43;01mNone\u001b[39;49;00m\u001b[43m)\u001b[49m\n\u001b[1;32m   1760\u001b[0m     \u001b[38;5;28mself\u001b[39m\u001b[38;5;241m.\u001b[39m_set_trained_model_attributes()\n",
      "File \u001b[0;32m_catboost.pyx:4623\u001b[0m, in \u001b[0;36m_catboost._CatBoost._train\u001b[0;34m()\u001b[0m\n",
      "File \u001b[0;32m_catboost.pyx:4672\u001b[0m, in \u001b[0;36m_catboost._CatBoost._train\u001b[0;34m()\u001b[0m\n",
      "\u001b[0;31mCatBoostError\u001b[0m: catboost/private/libs/target/data_providers.cpp:612: Currently only multi-regression, multilabel and survival objectives work with multidimensional target"
     ]
    }
   ],
   "source": [
    "#clf4 catboost\n",
    "clf4 = CatBoostClassifier(loss_function='Logloss')\n",
    "clf4.fit(train_set1.values, test_set1.values)\n",
    "y_pre=clf4.predict(X_test)\n",
    "computeMetric(y_tru,y_pre)"
   ]
  },
  {
   "cell_type": "code",
   "execution_count": 45,
   "id": "0c8e3cd9",
   "metadata": {},
   "outputs": [],
   "source": [
    "def al(clf,strategy,X_L,y_L):\n",
    "    learner = ActiveLearner(estimator=clf,\n",
    "                            query_strategy=strategy,\n",
    "                            X_training=X_L, y_training=y_L)\n",
    "    return learner"
   ]
  },
  {
   "cell_type": "markdown",
   "id": "feb26447",
   "metadata": {},
   "source": [
    "# auto"
   ]
  },
  {
   "cell_type": "code",
   "execution_count": null,
   "id": "03efeafc",
   "metadata": {},
   "outputs": [],
   "source": [
    "x,y=train_set.shape\n",
    "\n",
    "\n",
    "#pool \n",
    "X_Pool = train_data_auto.iloc[:,0:y-1].values\n",
    "y_Pool = train_data_auto.iloc[:,y-1].values\n",
    "\n",
    "\n",
    "X_in_au,y_in_au,X_re_au,y_re_au=initial_data(n_initial,X_Pool,y_Pool)\n",
    "print(len(X_in_au),len(X_re_au))"
   ]
  },
  {
   "cell_type": "code",
   "execution_count": null,
   "id": "d12e3d99",
   "metadata": {},
   "outputs": [],
   "source": [
    "sampling=uncertainty_sampling"
   ]
  },
  {
   "cell_type": "code",
   "execution_count": null,
   "id": "3c4d57ae",
   "metadata": {},
   "outputs": [],
   "source": [
    "metric1 = al_learn(clf4,sampling,X_in_au,y_in_au,X_re_au,y_re_au)"
   ]
  },
  {
   "cell_type": "code",
   "execution_count": null,
   "id": "b4b1200a",
   "metadata": {},
   "outputs": [],
   "source": [
    "metric1.rename(columns = {'kappa' : 'Auto_Kappa', 'f1' : 'Auto_F1'}, inplace = True)"
   ]
  },
  {
   "cell_type": "code",
   "execution_count": null,
   "id": "c201d471",
   "metadata": {},
   "outputs": [],
   "source": [
    "metric1"
   ]
  },
  {
   "cell_type": "code",
   "execution_count": null,
   "id": "62338931",
   "metadata": {},
   "outputs": [],
   "source": [
    "fig, ax = plt.subplots(figsize=(8.5, 10))\n",
    "x = np.linspace(1000, 2001, 1001)\n",
    "plt.plot(x,metric1)\n",
    "plt.legend(loc = \"best\")\n",
    "plt.title('Kappa of AL over Time')#Kappa F1\n",
    "plt.xlabel('Number of Queried Instance')\n",
    "plt.ylabel('Kappa')\n",
    "my_x_ticks = np.arange(1000, 2001, 50)\n",
    "plt.xticks(my_x_ticks)\n",
    "plt.show()"
   ]
  },
  {
   "cell_type": "markdown",
   "id": "e2f7951d",
   "metadata": {},
   "source": [
    "# iforest"
   ]
  },
  {
   "cell_type": "code",
   "execution_count": null,
   "id": "ed87f20b",
   "metadata": {},
   "outputs": [],
   "source": [
    "#pool \n",
    "X_Pool = train_data_if.iloc[:,0:y-1].values\n",
    "y_Pool = train_data_if.iloc[:,y-1].values\n",
    "\n",
    "n_initial=300\n",
    "X_in_if,y_in_if,X_re_if,y_re_if=initial_data(n_initial,X_Pool,y_Pool)\n",
    "print(len(X_in_if),len(X_re_if))"
   ]
  },
  {
   "cell_type": "code",
   "execution_count": null,
   "id": "bf7067c3",
   "metadata": {},
   "outputs": [],
   "source": [
    "metric2 = al_learn(clf4,sampling,X_in_if,y_in_if,X_re_if,y_re_if)"
   ]
  },
  {
   "cell_type": "code",
   "execution_count": null,
   "id": "8976522f",
   "metadata": {},
   "outputs": [],
   "source": [
    "metric2.rename(columns = {'kappa' : 'IF_Kappa', 'f1' : 'IF_F1'}, inplace = True)"
   ]
  },
  {
   "cell_type": "code",
   "execution_count": null,
   "id": "4888fcfd",
   "metadata": {},
   "outputs": [],
   "source": [
    "metric2"
   ]
  },
  {
   "cell_type": "markdown",
   "id": "a7869e07",
   "metadata": {},
   "source": [
    "# oneclasssvm"
   ]
  },
  {
   "cell_type": "code",
   "execution_count": null,
   "id": "8af216ad",
   "metadata": {},
   "outputs": [],
   "source": [
    "#pool \n",
    "X_Pool = train_data_oc.iloc[:,0:y-1].values\n",
    "y_Pool = train_data_oc.iloc[:,y-1].values\n",
    "\n",
    "\n",
    "X_in_oc,y_in_oc,X_re_oc,y_re_oc=initial_data(n_initial,X_Pool,y_Pool)\n",
    "print(len(X_in_oc),len(X_re_oc))"
   ]
  },
  {
   "cell_type": "code",
   "execution_count": null,
   "id": "a7f1e92e",
   "metadata": {},
   "outputs": [],
   "source": [
    "metric3 = al_learn(clf4,sampling,X_in_oc,y_in_oc,X_re_oc,y_re_oc)"
   ]
  },
  {
   "cell_type": "code",
   "execution_count": null,
   "id": "48f19a9f",
   "metadata": {},
   "outputs": [],
   "source": [
    "metric3.rename(columns = {'kappa' : 'OCSVM_Kappa', 'f1' : 'OCSVM_F1'}, inplace = True)"
   ]
  },
  {
   "cell_type": "markdown",
   "id": "5c4ddc94",
   "metadata": {},
   "source": [
    "# all"
   ]
  },
  {
   "cell_type": "code",
   "execution_count": null,
   "id": "22ccade8",
   "metadata": {},
   "outputs": [],
   "source": [
    "metrics=pd.concat([metric1,metric2,metric3],axis=1)\n",
    "metrics"
   ]
  },
  {
   "cell_type": "code",
   "execution_count": null,
   "id": "22a46699",
   "metadata": {},
   "outputs": [],
   "source": [
    "metrics.to_csv(\"random_low_un_50_top.csv\")"
   ]
  },
  {
   "cell_type": "code",
   "execution_count": null,
   "id": "ac214214",
   "metadata": {},
   "outputs": [],
   "source": []
  },
  {
   "cell_type": "code",
   "execution_count": null,
   "id": "d2e0da80",
   "metadata": {},
   "outputs": [],
   "source": []
  }
 ],
 "metadata": {
  "kernelspec": {
   "display_name": "al",
   "language": "python",
   "name": "al"
  },
  "language_info": {
   "codemirror_mode": {
    "name": "ipython",
    "version": 3
   },
   "file_extension": ".py",
   "mimetype": "text/x-python",
   "name": "python",
   "nbconvert_exporter": "python",
   "pygments_lexer": "ipython3",
   "version": "3.8.0"
  }
 },
 "nbformat": 4,
 "nbformat_minor": 5
}
