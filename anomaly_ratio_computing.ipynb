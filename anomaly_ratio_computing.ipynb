{
 "cells": [
  {
   "cell_type": "code",
   "execution_count": 9,
   "id": "a39e7282",
   "metadata": {},
   "outputs": [],
   "source": [
    "import csv\n",
    "import os\n",
    "import pandas as pd\n"
   ]
  },
  {
   "cell_type": "code",
   "execution_count": 20,
   "id": "ccbfccc1",
   "metadata": {},
   "outputs": [
    {
     "name": "stdout",
     "output_type": "stream",
     "text": [
      "0.09260211955962548\n",
      "0.04299636919549016\n",
      "0.07135689597502509\n",
      "34.06592276443667\n",
      "0.03969829297340214\n",
      "0.2916784225522259\n",
      "0.16588463908242096\n",
      "23.94074700515176\n",
      "29.364460719713325\n",
      "0.19954307527690215\n",
      "0.017326327196663265\n"
     ]
    }
   ],
   "source": [
    "folder_path = './dataset2/'\n",
    "\n",
    "\n",
    "file_paths = [os.path.join(folder_path, f) for f in os.listdir(folder_path) if f.endswith('.csv')]\n",
    "\n",
    "with open('error_ratio.csv', mode='w') as output_file:\n",
    "    csv_writer = csv.writer(output_file)\n",
    "    csv_writer.writerow(['platform_code', 'anomaly_ratio']) # 写入表头\n",
    "    for file in file_paths:\n",
    "        platform_code = file[11:18]\n",
    "        #print(platform_code)\n",
    "        data=pd.read_csv(file)\n",
    "        num_cols = len(data)\n",
    "        #print(data)\n",
    "        mask = data[['pres_anom', 'psal_anom', 'temp_anom']].any(axis=1)\n",
    "        data['label']= mask.astype(int)\n",
    "        anomaly_data=data.loc[data['label'] == 1]\n",
    "        anomaly_ratio=len(anomaly_data)/len(data)*100\n",
    "        print(anomaly_ratio)\n",
    "        csv_writer.writerow([platform_code, anomaly_ratio])\n",
    "\n",
    "\n"
   ]
  },
  {
   "cell_type": "code",
   "execution_count": null,
   "id": "28562713",
   "metadata": {},
   "outputs": [],
   "source": []
  }
 ],
 "metadata": {
  "kernelspec": {
   "display_name": "al",
   "language": "python",
   "name": "al"
  },
  "language_info": {
   "codemirror_mode": {
    "name": "ipython",
    "version": 3
   },
   "file_extension": ".py",
   "mimetype": "text/x-python",
   "name": "python",
   "nbconvert_exporter": "python",
   "pygments_lexer": "ipython3",
   "version": "3.8.0"
  }
 },
 "nbformat": 4,
 "nbformat_minor": 5
}
