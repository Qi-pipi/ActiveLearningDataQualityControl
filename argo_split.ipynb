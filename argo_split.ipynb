{
 "cells": [
  {
   "cell_type": "code",
   "execution_count": 1,
   "id": "20728b2d",
   "metadata": {},
   "outputs": [],
   "source": [
    "import pandas as pd\n",
    "import numpy as np\n",
    "import os\n",
    "import csv\n",
    "from datetime import datetime "
   ]
  },
  {
   "cell_type": "code",
   "execution_count": 2,
   "id": "30afc397",
   "metadata": {},
   "outputs": [],
   "source": [
    "folder_path = './dataset/'\n",
    "randomtrain_folder_path = \"./randomtrain/\"\n",
    "randomtest_folder_path = \"./randomtest/\"\n",
    "# firsttrain_folder_path = \"./firsttrain/\"\n",
    "# lasttest_folder_path = \"./lasttest/\"\n",
    "# lastrandomtest_folder_path = \"./lastrandomtest/\"\n",
    "\n",
    "\n",
    "file_paths = [os.path.join(folder_path, f) for f in os.listdir(folder_path) if f.endswith('.csv')]\n",
    "\n",
    "\n",
    "if not os.path.exists(randomtrain_folder_path):\n",
    "    os.makedirs(randomtrain_folder_path)\n",
    "if not os.path.exists(randomtest_folder_path):\n",
    "    os.makedirs(randomtest_folder_path)\n",
    "# if not os.path.exists(firsttrain_folder_path):\n",
    "#     os.makedirs(firsttrain_folder_path)\n",
    "# if not os.path.exists(lasttest_folder_path):\n",
    "#     os.makedirs(lasttest_folder_path)\n",
    "# if not os.path.exists(lastrandomtest_folder_path):\n",
    "#     os.makedirs(lastrandomtest_folder_path)\n"
   ]
  },
  {
   "cell_type": "code",
   "execution_count": 3,
   "id": "8ab0751d",
   "metadata": {},
   "outputs": [],
   "source": [
    "#split the data and make sure the proportion in train and test set are equal\n",
    "def getRandomSplit(data, size):\n",
    "    from sklearn.model_selection import StratifiedShuffleSplit\n",
    "    split = StratifiedShuffleSplit(n_splits = 1,test_size = size,random_state = 42)\n",
    "\n",
    "    for train_index,test_index in split.split(data,data.iloc[:,-1]):\n",
    "        train_set = data.iloc[train_index,:]\n",
    "        test_set = data.iloc[test_index,:]\n",
    "\n",
    "    print(len(train_set),len(test_set))\n",
    "    return train_set,test_set"
   ]
  },
  {
   "cell_type": "code",
   "execution_count": 4,
   "id": "867a967f",
   "metadata": {},
   "outputs": [],
   "source": [
    "#split the last 10% data \n",
    "\n",
    "# window\n",
    "def sliding_window(data, window_size,anomaly_ratio):\n",
    "    # from last raw\n",
    "    for i in range(len(data)-1, window_size-2, -10):\n",
    "        data_slice = data[i-window_size+1:i+1]\n",
    "        ratio = (data_slice[\"Label\"] == 1).sum() / window_size*100\n",
    "        #print(ratio)\n",
    "        if anomaly_ratio*0.8 <= ratio <= anomaly_ratio*1.2:\n",
    "            #print(data_slice)\n",
    "            return data_slice\n",
    "\n",
    "\n",
    "def getLastSplit(data, size,anomaly_ratio):\n",
    "    data.sort_values(\"datetime\", ascending=True, inplace=True)\n",
    "    #print(data)\n",
    "    row,col=data.shape\n",
    "    window_size = int(size*row)\n",
    "    test_set = sliding_window(data, window_size,anomaly_ratio)\n",
    "    if test_set is None:\n",
    "        print(\"no test\")\n",
    "    time = test_set.iloc[0,0]\n",
    "    #print(time)\n",
    "    train_set = data[data['datetime'] < time]\n",
    "    print(len(train_set),len(test_set))\n",
    "    return train_set,test_set\n",
    "# windows keep the same rate of anomaly"
   ]
  },
  {
   "cell_type": "code",
   "execution_count": 5,
   "id": "6dc3d460",
   "metadata": {},
   "outputs": [],
   "source": [
    "#def compute ratio\n",
    "def comp_ratio(test_set1):\n",
    "    instance = test_set1[(test_set1['Label']==0)]\n",
    "    rate=len(instance)/len(test_set1)*100\n",
    "    print(rate)\n",
    "    return rate"
   ]
  },
  {
   "cell_type": "code",
   "execution_count": 8,
   "id": "c420d2ce",
   "metadata": {},
   "outputs": [
    {
     "name": "stdout",
     "output_type": "stream",
     "text": [
      "PR_PF_4902919.csv\n",
      "85.6062280952916\n",
      "193137 82774\n",
      "85.60659144175708\n",
      "85.60607237349653\n",
      "train1 length 193137\n",
      "==============Done==============\n"
     ]
    }
   ],
   "source": [
    "files = [#\"PR_PF_4903220.csv\", \"PR_PF_6901195.csv\", \"PR_PF_3901684.csv\", \"PR_PF_3901857.csv\",\n",
    "         #\"PR_PF_6901272.csv\", \"PR_PF_4902338.csv\", \"PR_PF_4902337.csv\",\"PR_PF_4903217.csv\" ,\n",
    "    #\"PR_PF_4903218.csv\", \"PR_PF_4903216.csv\"\n",
    "    \"PR_PF_4902919.csv\"\n",
    "]\n",
    "\n",
    "\n",
    "for file_name in files:\n",
    "    print(file_name)\n",
    "    file_path = os.path.join(folder_path, file_name)\n",
    "    data = pd.read_csv(file_path)\n",
    "    anomaly_ratio=comp_ratio(data)\n",
    "    train_set1,test_set1 = getRandomSplit(data,0.3)# random 70 30\n",
    "        #train_set2,test_set2 = getLastSplit(data,0.1, anomaly_ratio) #last 10 and rest\n",
    "        #print(\"test2 length \",len(test_set2))\n",
    "    comp_ratio(test_set1)\n",
    "    comp_ratio(train_set1)\n",
    "        #comp_ratio(test_set2)\n",
    "        #rate=len(test_set2)/len(train_set2)\n",
    "        #print(\"rate\",rate)\n",
    "        #train_set22,test_set22=getRandomSplit(train_set2, rate) #first \n",
    "        #print(\"test22 length\", len(test_set22))\n",
    "        #comp_ratio(test_set22)\n",
    "        #keep the same train size\n",
    "        #train_set1 = train_set1.sample(n=len(train_set22))\n",
    "    print(\"train1 length\",len(train_set1))\n",
    "    train_set1.to_csv(os.path.join(randomtrain_folder_path, f\"{file_name}\"), index=False)\n",
    "    test_set1.to_csv(os.path.join(randomtest_folder_path, f\"{file_name}\"), index=False)\n",
    "    print(\"==============Done==============\")"
   ]
  },
  {
   "cell_type": "code",
   "execution_count": null,
   "id": "b127b58c",
   "metadata": {},
   "outputs": [],
   "source": []
  },
  {
   "cell_type": "code",
   "execution_count": null,
   "id": "045b377b",
   "metadata": {},
   "outputs": [],
   "source": []
  },
  {
   "cell_type": "code",
   "execution_count": null,
   "id": "e2e121b2",
   "metadata": {},
   "outputs": [],
   "source": []
  }
 ],
 "metadata": {
  "kernelspec": {
   "display_name": "al",
   "language": "python",
   "name": "al"
  },
  "language_info": {
   "codemirror_mode": {
    "name": "ipython",
    "version": 3
   },
   "file_extension": ".py",
   "mimetype": "text/x-python",
   "name": "python",
   "nbconvert_exporter": "python",
   "pygments_lexer": "ipython3",
   "version": "3.8.0"
  }
 },
 "nbformat": 4,
 "nbformat_minor": 5
}
